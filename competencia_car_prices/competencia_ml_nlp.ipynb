{
  "nbformat": 4,
  "nbformat_minor": 0,
  "metadata": {
    "colab": {
      "name": "competencia_ml_nlp.ipynb",
      "provenance": [],
      "collapsed_sections": [],
      "authorship_tag": "ABX9TyOO/VKOAQ8/zpCMgNV+taWv",
      "include_colab_link": true
    },
    "kernelspec": {
      "name": "python3",
      "display_name": "Python 3"
    },
    "language_info": {
      "name": "python"
    }
  },
  "cells": [
    {
      "cell_type": "markdown",
      "metadata": {
        "id": "view-in-github",
        "colab_type": "text"
      },
      "source": [
        "<a href=\"https://colab.research.google.com/github/maortiz1/-MIAD_ML_and_NLP_maortiz1/blob/main/competencia_car_prices/competencia_ml_nlp.ipynb\" target=\"_parent\"><img src=\"https://colab.research.google.com/assets/colab-badge.svg\" alt=\"Open In Colab\"/></a>"
      ]
    },
    {
      "cell_type": "markdown",
      "source": [
        "## Lectura Archivos"
      ],
      "metadata": {
        "id": "OanHBqOXiZNl"
      }
    },
    {
      "cell_type": "code",
      "source": [
        "import pandas as pd\n",
        "import matplotlib.pyplot as plt\n",
        "import seaborn as sns\n",
        "\n",
        "import numpy as np\n",
        "import xgboost as xg\n",
        "from sklearn.model_selection import cross_val_score\n",
        "from sklearn.ensemble import RandomForestClassifier\n",
        "from sklearn.ensemble import RandomForestRegressor\n",
        "from sklearn import metrics\n",
        "from sklearn.model_selection import train_test_split\n",
        "from sklearn.metrics import mean_squared_error as MSE\n",
        "from sklearn.model_selection import GridSearchCV\n",
        "\n",
        "import joblib\n",
        "import werkzeug\n",
        "from werkzeug.utils import cached_property\n",
        "from flask import Flask\n",
        "\n"
      ],
      "metadata": {
        "id": "2KTjKxpoiYS-"
      },
      "execution_count": 241,
      "outputs": []
    },
    {
      "cell_type": "code",
      "execution_count": 242,
      "metadata": {
        "id": "NDJYbekRXIgs"
      },
      "outputs": [],
      "source": [
        "df_train=pd.read_csv('https://raw.githubusercontent.com/maortiz1/-MIAD_ML_and_NLP_maortiz1/main/competencia_car_prices/dataTrain_carListings.csv')\n",
        "df_train.State = df_train.State.str.replace(' ', '')\n",
        "df_train['car_age']=2022-df_train['Year']\n",
        "df_train['mileage_by_year']=df_train['Mileage']/(df_train['car_age'])"
      ]
    },
    {
      "cell_type": "code",
      "source": [
        "df_train.head()"
      ],
      "metadata": {
        "colab": {
          "base_uri": "https://localhost:8080/",
          "height": 206
        },
        "id": "Pusry8ZwGOsI",
        "outputId": "8d6ee73d-a555-4bd0-e23d-fdcb297650a7"
      },
      "execution_count": 243,
      "outputs": [
        {
          "output_type": "execute_result",
          "data": {
            "text/plain": [
              "   Price  Year  Mileage State       Make      Model  car_age  mileage_by_year\n",
              "0  34995  2017     9913    FL       Jeep   Wrangler        5      1982.600000\n",
              "1  37895  2015    20578    OH  Chevrolet   Tahoe4WD        7      2939.714286\n",
              "2  18430  2012    83716    TX        BMW      X5AWD       10      8371.600000\n",
              "3  24681  2014    28729    OH   Cadillac  SRXLuxury        8      3591.125000\n",
              "4  26998  2013    64032    CO       Jeep   Wrangler        9      7114.666667"
            ],
            "text/html": [
              "\n",
              "  <div id=\"df-55cf0665-ebb3-402c-979e-fa10b725ad9f\">\n",
              "    <div class=\"colab-df-container\">\n",
              "      <div>\n",
              "<style scoped>\n",
              "    .dataframe tbody tr th:only-of-type {\n",
              "        vertical-align: middle;\n",
              "    }\n",
              "\n",
              "    .dataframe tbody tr th {\n",
              "        vertical-align: top;\n",
              "    }\n",
              "\n",
              "    .dataframe thead th {\n",
              "        text-align: right;\n",
              "    }\n",
              "</style>\n",
              "<table border=\"1\" class=\"dataframe\">\n",
              "  <thead>\n",
              "    <tr style=\"text-align: right;\">\n",
              "      <th></th>\n",
              "      <th>Price</th>\n",
              "      <th>Year</th>\n",
              "      <th>Mileage</th>\n",
              "      <th>State</th>\n",
              "      <th>Make</th>\n",
              "      <th>Model</th>\n",
              "      <th>car_age</th>\n",
              "      <th>mileage_by_year</th>\n",
              "    </tr>\n",
              "  </thead>\n",
              "  <tbody>\n",
              "    <tr>\n",
              "      <th>0</th>\n",
              "      <td>34995</td>\n",
              "      <td>2017</td>\n",
              "      <td>9913</td>\n",
              "      <td>FL</td>\n",
              "      <td>Jeep</td>\n",
              "      <td>Wrangler</td>\n",
              "      <td>5</td>\n",
              "      <td>1982.600000</td>\n",
              "    </tr>\n",
              "    <tr>\n",
              "      <th>1</th>\n",
              "      <td>37895</td>\n",
              "      <td>2015</td>\n",
              "      <td>20578</td>\n",
              "      <td>OH</td>\n",
              "      <td>Chevrolet</td>\n",
              "      <td>Tahoe4WD</td>\n",
              "      <td>7</td>\n",
              "      <td>2939.714286</td>\n",
              "    </tr>\n",
              "    <tr>\n",
              "      <th>2</th>\n",
              "      <td>18430</td>\n",
              "      <td>2012</td>\n",
              "      <td>83716</td>\n",
              "      <td>TX</td>\n",
              "      <td>BMW</td>\n",
              "      <td>X5AWD</td>\n",
              "      <td>10</td>\n",
              "      <td>8371.600000</td>\n",
              "    </tr>\n",
              "    <tr>\n",
              "      <th>3</th>\n",
              "      <td>24681</td>\n",
              "      <td>2014</td>\n",
              "      <td>28729</td>\n",
              "      <td>OH</td>\n",
              "      <td>Cadillac</td>\n",
              "      <td>SRXLuxury</td>\n",
              "      <td>8</td>\n",
              "      <td>3591.125000</td>\n",
              "    </tr>\n",
              "    <tr>\n",
              "      <th>4</th>\n",
              "      <td>26998</td>\n",
              "      <td>2013</td>\n",
              "      <td>64032</td>\n",
              "      <td>CO</td>\n",
              "      <td>Jeep</td>\n",
              "      <td>Wrangler</td>\n",
              "      <td>9</td>\n",
              "      <td>7114.666667</td>\n",
              "    </tr>\n",
              "  </tbody>\n",
              "</table>\n",
              "</div>\n",
              "      <button class=\"colab-df-convert\" onclick=\"convertToInteractive('df-55cf0665-ebb3-402c-979e-fa10b725ad9f')\"\n",
              "              title=\"Convert this dataframe to an interactive table.\"\n",
              "              style=\"display:none;\">\n",
              "        \n",
              "  <svg xmlns=\"http://www.w3.org/2000/svg\" height=\"24px\"viewBox=\"0 0 24 24\"\n",
              "       width=\"24px\">\n",
              "    <path d=\"M0 0h24v24H0V0z\" fill=\"none\"/>\n",
              "    <path d=\"M18.56 5.44l.94 2.06.94-2.06 2.06-.94-2.06-.94-.94-2.06-.94 2.06-2.06.94zm-11 1L8.5 8.5l.94-2.06 2.06-.94-2.06-.94L8.5 2.5l-.94 2.06-2.06.94zm10 10l.94 2.06.94-2.06 2.06-.94-2.06-.94-.94-2.06-.94 2.06-2.06.94z\"/><path d=\"M17.41 7.96l-1.37-1.37c-.4-.4-.92-.59-1.43-.59-.52 0-1.04.2-1.43.59L10.3 9.45l-7.72 7.72c-.78.78-.78 2.05 0 2.83L4 21.41c.39.39.9.59 1.41.59.51 0 1.02-.2 1.41-.59l7.78-7.78 2.81-2.81c.8-.78.8-2.07 0-2.86zM5.41 20L4 18.59l7.72-7.72 1.47 1.35L5.41 20z\"/>\n",
              "  </svg>\n",
              "      </button>\n",
              "      \n",
              "  <style>\n",
              "    .colab-df-container {\n",
              "      display:flex;\n",
              "      flex-wrap:wrap;\n",
              "      gap: 12px;\n",
              "    }\n",
              "\n",
              "    .colab-df-convert {\n",
              "      background-color: #E8F0FE;\n",
              "      border: none;\n",
              "      border-radius: 50%;\n",
              "      cursor: pointer;\n",
              "      display: none;\n",
              "      fill: #1967D2;\n",
              "      height: 32px;\n",
              "      padding: 0 0 0 0;\n",
              "      width: 32px;\n",
              "    }\n",
              "\n",
              "    .colab-df-convert:hover {\n",
              "      background-color: #E2EBFA;\n",
              "      box-shadow: 0px 1px 2px rgba(60, 64, 67, 0.3), 0px 1px 3px 1px rgba(60, 64, 67, 0.15);\n",
              "      fill: #174EA6;\n",
              "    }\n",
              "\n",
              "    [theme=dark] .colab-df-convert {\n",
              "      background-color: #3B4455;\n",
              "      fill: #D2E3FC;\n",
              "    }\n",
              "\n",
              "    [theme=dark] .colab-df-convert:hover {\n",
              "      background-color: #434B5C;\n",
              "      box-shadow: 0px 1px 3px 1px rgba(0, 0, 0, 0.15);\n",
              "      filter: drop-shadow(0px 1px 2px rgba(0, 0, 0, 0.3));\n",
              "      fill: #FFFFFF;\n",
              "    }\n",
              "  </style>\n",
              "\n",
              "      <script>\n",
              "        const buttonEl =\n",
              "          document.querySelector('#df-55cf0665-ebb3-402c-979e-fa10b725ad9f button.colab-df-convert');\n",
              "        buttonEl.style.display =\n",
              "          google.colab.kernel.accessAllowed ? 'block' : 'none';\n",
              "\n",
              "        async function convertToInteractive(key) {\n",
              "          const element = document.querySelector('#df-55cf0665-ebb3-402c-979e-fa10b725ad9f');\n",
              "          const dataTable =\n",
              "            await google.colab.kernel.invokeFunction('convertToInteractive',\n",
              "                                                     [key], {});\n",
              "          if (!dataTable) return;\n",
              "\n",
              "          const docLinkHtml = 'Like what you see? Visit the ' +\n",
              "            '<a target=\"_blank\" href=https://colab.research.google.com/notebooks/data_table.ipynb>data table notebook</a>'\n",
              "            + ' to learn more about interactive tables.';\n",
              "          element.innerHTML = '';\n",
              "          dataTable['output_type'] = 'display_data';\n",
              "          await google.colab.output.renderOutput(dataTable, element);\n",
              "          const docLink = document.createElement('div');\n",
              "          docLink.innerHTML = docLinkHtml;\n",
              "          element.appendChild(docLink);\n",
              "        }\n",
              "      </script>\n",
              "    </div>\n",
              "  </div>\n",
              "  "
            ]
          },
          "metadata": {},
          "execution_count": 243
        }
      ]
    },
    {
      "cell_type": "code",
      "source": [
        "val=df_train.groupby('Make',as_index=False).mileage_by_year.mean()\n",
        "print(val)"
      ],
      "metadata": {
        "colab": {
          "base_uri": "https://localhost:8080/"
        },
        "id": "H-DaVgAFDZ_F",
        "outputId": "df482778-e122-4421-a90c-95507f32d5e8"
      },
      "execution_count": 244,
      "outputs": [
        {
          "output_type": "stream",
          "name": "stdout",
          "text": [
            "             Make  mileage_by_year\n",
            "0           Acura      6367.837743\n",
            "1            Audi      6380.310735\n",
            "2             BMW      5122.626832\n",
            "3         Bentley      2990.917296\n",
            "4           Buick      5469.864615\n",
            "5        Cadillac      5589.120291\n",
            "6       Chevrolet      5860.047486\n",
            "7        Chrysler      6080.887072\n",
            "8           Dodge      6512.428456\n",
            "9            FIAT      5181.995759\n",
            "10           Ford      6163.215075\n",
            "11   Freightliner      8490.364796\n",
            "12            GMC      6175.418602\n",
            "13          Honda      5612.861302\n",
            "14        Hyundai      5953.319693\n",
            "15       INFINITI      6517.927974\n",
            "16         Jaguar      5668.355477\n",
            "17           Jeep      5529.975510\n",
            "18            Kia      5447.488940\n",
            "19           Land      5328.622014\n",
            "20          Lexus      5349.330250\n",
            "21        Lincoln      6018.946372\n",
            "22           MINI      4779.383531\n",
            "23          Mazda      6124.438217\n",
            "24  Mercedes-Benz      4326.234070\n",
            "25        Mercury      5702.379579\n",
            "26     Mitsubishi      5523.088691\n",
            "27         Nissan      6616.764811\n",
            "28        Pontiac      6871.453103\n",
            "29        Porsche      4080.243746\n",
            "30            Ram      6299.335829\n",
            "31          Scion      6947.175839\n",
            "32         Subaru      5461.841248\n",
            "33         Suzuki      6611.940427\n",
            "34          Tesla      3675.452697\n",
            "35         Toyota      5915.200717\n",
            "36     Volkswagen      5151.103933\n",
            "37          Volvo      5416.574019\n"
          ]
        }
      ]
    },
    {
      "cell_type": "code",
      "source": [
        "df_train.iloc"
      ],
      "metadata": {
        "colab": {
          "base_uri": "https://localhost:8080/"
        },
        "id": "Bo1BxttXGjku",
        "outputId": "6f464bbd-513d-44f1-a10c-26de6d20f218"
      },
      "execution_count": 245,
      "outputs": [
        {
          "output_type": "execute_result",
          "data": {
            "text/plain": [
              "<pandas.core.indexing._iLocIndexer at 0x7fb601e7f770>"
            ]
          },
          "metadata": {},
          "execution_count": 245
        }
      ]
    },
    {
      "cell_type": "code",
      "source": [
        "\n",
        "for k in df_train.index:\n",
        "  c=df_train.iloc[k]\n",
        "  df_train.at[k,'make_avg_mileage_year']=val[val['Make']==c['Make']]['mileage_by_year']\n"
      ],
      "metadata": {
        "id": "lZE9xhTZCr6F"
      },
      "execution_count": 247,
      "outputs": []
    },
    {
      "cell_type": "code",
      "source": [
        ""
      ],
      "metadata": {
        "id": "LU_wII26HWA5"
      },
      "execution_count": null,
      "outputs": []
    },
    {
      "cell_type": "code",
      "source": [
        "print(df_train)"
      ],
      "metadata": {
        "colab": {
          "base_uri": "https://localhost:8080/"
        },
        "id": "XF2yJko3FoiF",
        "outputId": "47344dbb-5aa8-4d31-e1c2-c253595f7a36"
      },
      "execution_count": 248,
      "outputs": [
        {
          "output_type": "stream",
          "name": "stdout",
          "text": [
            "        Price  Year  Mileage State        Make           Model  car_age  \\\n",
            "0       34995  2017     9913    FL        Jeep        Wrangler        5   \n",
            "1       37895  2015    20578    OH   Chevrolet        Tahoe4WD        7   \n",
            "2       18430  2012    83716    TX         BMW           X5AWD       10   \n",
            "3       24681  2014    28729    OH    Cadillac       SRXLuxury        8   \n",
            "4       26998  2013    64032    CO        Jeep        Wrangler        9   \n",
            "...       ...   ...      ...   ...         ...             ...      ...   \n",
            "399995  29900  2015    25287    TX       Lexus            RXRX        7   \n",
            "399996  17688  2015    17677    MI   Chevrolet      EquinoxFWD        7   \n",
            "399997  24907  2014    66688    NC       Buick  EnclaveLeather        8   \n",
            "399998  11498  2014    37872    IN  Volkswagen           Jetta        8   \n",
            "399999  16900  2014    78606    CO      Nissan     PathfinderS        8   \n",
            "\n",
            "        mileage_by_year  make_avg_mileage_year  \n",
            "0           1982.600000            5529.975510  \n",
            "1           2939.714286            5860.047486  \n",
            "2           8371.600000            5122.626832  \n",
            "3           3591.125000            5589.120291  \n",
            "4           7114.666667            5529.975510  \n",
            "...                 ...                    ...  \n",
            "399995      3612.428571            5349.330250  \n",
            "399996      2525.285714            5860.047486  \n",
            "399997      8336.000000            5469.864615  \n",
            "399998      4734.000000            5151.103933  \n",
            "399999      9825.750000            6616.764811  \n",
            "\n",
            "[400000 rows x 9 columns]\n"
          ]
        }
      ]
    },
    {
      "cell_type": "code",
      "source": [
        "df_train.head(10)"
      ],
      "metadata": {
        "colab": {
          "base_uri": "https://localhost:8080/",
          "height": 363
        },
        "id": "QOucJfXhZUjG",
        "outputId": "f97ad175-5ae3-4051-e38c-a257cb9f9d6e"
      },
      "execution_count": 249,
      "outputs": [
        {
          "output_type": "execute_result",
          "data": {
            "text/plain": [
              "   Price  Year  Mileage State           Make            Model  car_age  \\\n",
              "0  34995  2017     9913    FL           Jeep         Wrangler        5   \n",
              "1  37895  2015    20578    OH      Chevrolet         Tahoe4WD        7   \n",
              "2  18430  2012    83716    TX            BMW            X5AWD       10   \n",
              "3  24681  2014    28729    OH       Cadillac        SRXLuxury        8   \n",
              "4  26998  2013    64032    CO           Jeep         Wrangler        9   \n",
              "5  40495  2016     9987    ME            BMW                3        6   \n",
              "6  33995  2015    12961    WA  Mercedes-Benz      C-ClassC300        7   \n",
              "7  21995  2014     6480    CT         Toyota           CamryL        8   \n",
              "8  28591  2014    29165    CA         Toyota  TacomaPreRunner        8   \n",
              "9  10895  2008    70005    CA          Buick      LaCrosse4dr       14   \n",
              "\n",
              "   mileage_by_year  make_avg_mileage_year  \n",
              "0      1982.600000            5529.975510  \n",
              "1      2939.714286            5860.047486  \n",
              "2      8371.600000            5122.626832  \n",
              "3      3591.125000            5589.120291  \n",
              "4      7114.666667            5529.975510  \n",
              "5      1664.500000            5122.626832  \n",
              "6      1851.571429            4326.234070  \n",
              "7       810.000000            5915.200717  \n",
              "8      3645.625000            5915.200717  \n",
              "9      5000.357143            5469.864615  "
            ],
            "text/html": [
              "\n",
              "  <div id=\"df-01b00a7e-0bfd-4c99-b1cd-a708f99c1a58\">\n",
              "    <div class=\"colab-df-container\">\n",
              "      <div>\n",
              "<style scoped>\n",
              "    .dataframe tbody tr th:only-of-type {\n",
              "        vertical-align: middle;\n",
              "    }\n",
              "\n",
              "    .dataframe tbody tr th {\n",
              "        vertical-align: top;\n",
              "    }\n",
              "\n",
              "    .dataframe thead th {\n",
              "        text-align: right;\n",
              "    }\n",
              "</style>\n",
              "<table border=\"1\" class=\"dataframe\">\n",
              "  <thead>\n",
              "    <tr style=\"text-align: right;\">\n",
              "      <th></th>\n",
              "      <th>Price</th>\n",
              "      <th>Year</th>\n",
              "      <th>Mileage</th>\n",
              "      <th>State</th>\n",
              "      <th>Make</th>\n",
              "      <th>Model</th>\n",
              "      <th>car_age</th>\n",
              "      <th>mileage_by_year</th>\n",
              "      <th>make_avg_mileage_year</th>\n",
              "    </tr>\n",
              "  </thead>\n",
              "  <tbody>\n",
              "    <tr>\n",
              "      <th>0</th>\n",
              "      <td>34995</td>\n",
              "      <td>2017</td>\n",
              "      <td>9913</td>\n",
              "      <td>FL</td>\n",
              "      <td>Jeep</td>\n",
              "      <td>Wrangler</td>\n",
              "      <td>5</td>\n",
              "      <td>1982.600000</td>\n",
              "      <td>5529.975510</td>\n",
              "    </tr>\n",
              "    <tr>\n",
              "      <th>1</th>\n",
              "      <td>37895</td>\n",
              "      <td>2015</td>\n",
              "      <td>20578</td>\n",
              "      <td>OH</td>\n",
              "      <td>Chevrolet</td>\n",
              "      <td>Tahoe4WD</td>\n",
              "      <td>7</td>\n",
              "      <td>2939.714286</td>\n",
              "      <td>5860.047486</td>\n",
              "    </tr>\n",
              "    <tr>\n",
              "      <th>2</th>\n",
              "      <td>18430</td>\n",
              "      <td>2012</td>\n",
              "      <td>83716</td>\n",
              "      <td>TX</td>\n",
              "      <td>BMW</td>\n",
              "      <td>X5AWD</td>\n",
              "      <td>10</td>\n",
              "      <td>8371.600000</td>\n",
              "      <td>5122.626832</td>\n",
              "    </tr>\n",
              "    <tr>\n",
              "      <th>3</th>\n",
              "      <td>24681</td>\n",
              "      <td>2014</td>\n",
              "      <td>28729</td>\n",
              "      <td>OH</td>\n",
              "      <td>Cadillac</td>\n",
              "      <td>SRXLuxury</td>\n",
              "      <td>8</td>\n",
              "      <td>3591.125000</td>\n",
              "      <td>5589.120291</td>\n",
              "    </tr>\n",
              "    <tr>\n",
              "      <th>4</th>\n",
              "      <td>26998</td>\n",
              "      <td>2013</td>\n",
              "      <td>64032</td>\n",
              "      <td>CO</td>\n",
              "      <td>Jeep</td>\n",
              "      <td>Wrangler</td>\n",
              "      <td>9</td>\n",
              "      <td>7114.666667</td>\n",
              "      <td>5529.975510</td>\n",
              "    </tr>\n",
              "    <tr>\n",
              "      <th>5</th>\n",
              "      <td>40495</td>\n",
              "      <td>2016</td>\n",
              "      <td>9987</td>\n",
              "      <td>ME</td>\n",
              "      <td>BMW</td>\n",
              "      <td>3</td>\n",
              "      <td>6</td>\n",
              "      <td>1664.500000</td>\n",
              "      <td>5122.626832</td>\n",
              "    </tr>\n",
              "    <tr>\n",
              "      <th>6</th>\n",
              "      <td>33995</td>\n",
              "      <td>2015</td>\n",
              "      <td>12961</td>\n",
              "      <td>WA</td>\n",
              "      <td>Mercedes-Benz</td>\n",
              "      <td>C-ClassC300</td>\n",
              "      <td>7</td>\n",
              "      <td>1851.571429</td>\n",
              "      <td>4326.234070</td>\n",
              "    </tr>\n",
              "    <tr>\n",
              "      <th>7</th>\n",
              "      <td>21995</td>\n",
              "      <td>2014</td>\n",
              "      <td>6480</td>\n",
              "      <td>CT</td>\n",
              "      <td>Toyota</td>\n",
              "      <td>CamryL</td>\n",
              "      <td>8</td>\n",
              "      <td>810.000000</td>\n",
              "      <td>5915.200717</td>\n",
              "    </tr>\n",
              "    <tr>\n",
              "      <th>8</th>\n",
              "      <td>28591</td>\n",
              "      <td>2014</td>\n",
              "      <td>29165</td>\n",
              "      <td>CA</td>\n",
              "      <td>Toyota</td>\n",
              "      <td>TacomaPreRunner</td>\n",
              "      <td>8</td>\n",
              "      <td>3645.625000</td>\n",
              "      <td>5915.200717</td>\n",
              "    </tr>\n",
              "    <tr>\n",
              "      <th>9</th>\n",
              "      <td>10895</td>\n",
              "      <td>2008</td>\n",
              "      <td>70005</td>\n",
              "      <td>CA</td>\n",
              "      <td>Buick</td>\n",
              "      <td>LaCrosse4dr</td>\n",
              "      <td>14</td>\n",
              "      <td>5000.357143</td>\n",
              "      <td>5469.864615</td>\n",
              "    </tr>\n",
              "  </tbody>\n",
              "</table>\n",
              "</div>\n",
              "      <button class=\"colab-df-convert\" onclick=\"convertToInteractive('df-01b00a7e-0bfd-4c99-b1cd-a708f99c1a58')\"\n",
              "              title=\"Convert this dataframe to an interactive table.\"\n",
              "              style=\"display:none;\">\n",
              "        \n",
              "  <svg xmlns=\"http://www.w3.org/2000/svg\" height=\"24px\"viewBox=\"0 0 24 24\"\n",
              "       width=\"24px\">\n",
              "    <path d=\"M0 0h24v24H0V0z\" fill=\"none\"/>\n",
              "    <path d=\"M18.56 5.44l.94 2.06.94-2.06 2.06-.94-2.06-.94-.94-2.06-.94 2.06-2.06.94zm-11 1L8.5 8.5l.94-2.06 2.06-.94-2.06-.94L8.5 2.5l-.94 2.06-2.06.94zm10 10l.94 2.06.94-2.06 2.06-.94-2.06-.94-.94-2.06-.94 2.06-2.06.94z\"/><path d=\"M17.41 7.96l-1.37-1.37c-.4-.4-.92-.59-1.43-.59-.52 0-1.04.2-1.43.59L10.3 9.45l-7.72 7.72c-.78.78-.78 2.05 0 2.83L4 21.41c.39.39.9.59 1.41.59.51 0 1.02-.2 1.41-.59l7.78-7.78 2.81-2.81c.8-.78.8-2.07 0-2.86zM5.41 20L4 18.59l7.72-7.72 1.47 1.35L5.41 20z\"/>\n",
              "  </svg>\n",
              "      </button>\n",
              "      \n",
              "  <style>\n",
              "    .colab-df-container {\n",
              "      display:flex;\n",
              "      flex-wrap:wrap;\n",
              "      gap: 12px;\n",
              "    }\n",
              "\n",
              "    .colab-df-convert {\n",
              "      background-color: #E8F0FE;\n",
              "      border: none;\n",
              "      border-radius: 50%;\n",
              "      cursor: pointer;\n",
              "      display: none;\n",
              "      fill: #1967D2;\n",
              "      height: 32px;\n",
              "      padding: 0 0 0 0;\n",
              "      width: 32px;\n",
              "    }\n",
              "\n",
              "    .colab-df-convert:hover {\n",
              "      background-color: #E2EBFA;\n",
              "      box-shadow: 0px 1px 2px rgba(60, 64, 67, 0.3), 0px 1px 3px 1px rgba(60, 64, 67, 0.15);\n",
              "      fill: #174EA6;\n",
              "    }\n",
              "\n",
              "    [theme=dark] .colab-df-convert {\n",
              "      background-color: #3B4455;\n",
              "      fill: #D2E3FC;\n",
              "    }\n",
              "\n",
              "    [theme=dark] .colab-df-convert:hover {\n",
              "      background-color: #434B5C;\n",
              "      box-shadow: 0px 1px 3px 1px rgba(0, 0, 0, 0.15);\n",
              "      filter: drop-shadow(0px 1px 2px rgba(0, 0, 0, 0.3));\n",
              "      fill: #FFFFFF;\n",
              "    }\n",
              "  </style>\n",
              "\n",
              "      <script>\n",
              "        const buttonEl =\n",
              "          document.querySelector('#df-01b00a7e-0bfd-4c99-b1cd-a708f99c1a58 button.colab-df-convert');\n",
              "        buttonEl.style.display =\n",
              "          google.colab.kernel.accessAllowed ? 'block' : 'none';\n",
              "\n",
              "        async function convertToInteractive(key) {\n",
              "          const element = document.querySelector('#df-01b00a7e-0bfd-4c99-b1cd-a708f99c1a58');\n",
              "          const dataTable =\n",
              "            await google.colab.kernel.invokeFunction('convertToInteractive',\n",
              "                                                     [key], {});\n",
              "          if (!dataTable) return;\n",
              "\n",
              "          const docLinkHtml = 'Like what you see? Visit the ' +\n",
              "            '<a target=\"_blank\" href=https://colab.research.google.com/notebooks/data_table.ipynb>data table notebook</a>'\n",
              "            + ' to learn more about interactive tables.';\n",
              "          element.innerHTML = '';\n",
              "          dataTable['output_type'] = 'display_data';\n",
              "          await google.colab.output.renderOutput(dataTable, element);\n",
              "          const docLink = document.createElement('div');\n",
              "          docLink.innerHTML = docLinkHtml;\n",
              "          element.appendChild(docLink);\n",
              "        }\n",
              "      </script>\n",
              "    </div>\n",
              "  </div>\n",
              "  "
            ]
          },
          "metadata": {},
          "execution_count": 249
        }
      ]
    },
    {
      "cell_type": "code",
      "source": [
        "df_test=pd.read_csv('https://raw.githubusercontent.com/maortiz1/-MIAD_ML_and_NLP_maortiz1/main/competencia_car_prices/dataTest_carListings.csv')\n",
        "df_test.State = df_test.State.str.replace(' ', '')\n",
        "df_test['car_age']=2022-df_test['Year']\n",
        "df_test['mileage_by_year']=df_test['Mileage']/(df_test['car_age'])"
      ],
      "metadata": {
        "id": "jw7406wAZWj4"
      },
      "execution_count": 250,
      "outputs": []
    },
    {
      "cell_type": "code",
      "source": [
        "val_test=df_test.groupby('Make',as_index=False).mileage_by_year.mean()\n",
        "for j in df_test.index:\n",
        "  c=df_test.iloc[j]\n",
        "  df_test.at[j,'make_avg_mileage_year']=val_test[val_test['Make']==c['Make']]['mileage_by_year']\n"
      ],
      "metadata": {
        "id": "OsqG2HaDHY4a"
      },
      "execution_count": 252,
      "outputs": []
    },
    {
      "cell_type": "code",
      "source": [
        "df_test.head(10)"
      ],
      "metadata": {
        "colab": {
          "base_uri": "https://localhost:8080/",
          "height": 363
        },
        "id": "3MrHwlQIZb3-",
        "outputId": "0598774d-a820-4d22-fcd7-74cccedb4e35"
      },
      "execution_count": 253,
      "outputs": [
        {
          "output_type": "execute_result",
          "data": {
            "text/plain": [
              "   ID  Year  Mileage State       Make           Model  car_age  \\\n",
              "0   0  2014    31909    MD     Nissan       MuranoAWD        8   \n",
              "1   1  2017     5362    FL       Jeep        Wrangler        5   \n",
              "2   2  2014    50300    OH       Ford     FlexLimited        8   \n",
              "3   3  2004   132160    WA        BMW               5       18   \n",
              "4   4  2015    25226    MA       Jeep           Grand        7   \n",
              "5   5  2017    25684    AZ  Chevrolet      CruzeSedan        5   \n",
              "6   6  2016    56126    AZ        Kia       SorentoEX        6   \n",
              "7   7  2015    28767    FL      Lexus              IS        7   \n",
              "8   8  2015    58981    TX  Chevrolet     Suburban4WD        7   \n",
              "9   9  2016    20807    NJ    Hyundai  ElantraLimited        6   \n",
              "\n",
              "   mileage_by_year  make_avg_mileage_year  \n",
              "0      3988.625000            6650.718995  \n",
              "1      1072.400000            5525.671323  \n",
              "2      6287.500000            6203.181461  \n",
              "3      7342.222222            5147.905267  \n",
              "4      3603.714286            5525.671323  \n",
              "5      5136.800000            5879.912406  \n",
              "6      9354.333333            5399.867630  \n",
              "7      4109.571429            5425.111982  \n",
              "8      8425.857143            5879.912406  \n",
              "9      3467.833333            5933.319089  "
            ],
            "text/html": [
              "\n",
              "  <div id=\"df-9cea1cbe-c5ea-44ea-af64-4c2087405abb\">\n",
              "    <div class=\"colab-df-container\">\n",
              "      <div>\n",
              "<style scoped>\n",
              "    .dataframe tbody tr th:only-of-type {\n",
              "        vertical-align: middle;\n",
              "    }\n",
              "\n",
              "    .dataframe tbody tr th {\n",
              "        vertical-align: top;\n",
              "    }\n",
              "\n",
              "    .dataframe thead th {\n",
              "        text-align: right;\n",
              "    }\n",
              "</style>\n",
              "<table border=\"1\" class=\"dataframe\">\n",
              "  <thead>\n",
              "    <tr style=\"text-align: right;\">\n",
              "      <th></th>\n",
              "      <th>ID</th>\n",
              "      <th>Year</th>\n",
              "      <th>Mileage</th>\n",
              "      <th>State</th>\n",
              "      <th>Make</th>\n",
              "      <th>Model</th>\n",
              "      <th>car_age</th>\n",
              "      <th>mileage_by_year</th>\n",
              "      <th>make_avg_mileage_year</th>\n",
              "    </tr>\n",
              "  </thead>\n",
              "  <tbody>\n",
              "    <tr>\n",
              "      <th>0</th>\n",
              "      <td>0</td>\n",
              "      <td>2014</td>\n",
              "      <td>31909</td>\n",
              "      <td>MD</td>\n",
              "      <td>Nissan</td>\n",
              "      <td>MuranoAWD</td>\n",
              "      <td>8</td>\n",
              "      <td>3988.625000</td>\n",
              "      <td>6650.718995</td>\n",
              "    </tr>\n",
              "    <tr>\n",
              "      <th>1</th>\n",
              "      <td>1</td>\n",
              "      <td>2017</td>\n",
              "      <td>5362</td>\n",
              "      <td>FL</td>\n",
              "      <td>Jeep</td>\n",
              "      <td>Wrangler</td>\n",
              "      <td>5</td>\n",
              "      <td>1072.400000</td>\n",
              "      <td>5525.671323</td>\n",
              "    </tr>\n",
              "    <tr>\n",
              "      <th>2</th>\n",
              "      <td>2</td>\n",
              "      <td>2014</td>\n",
              "      <td>50300</td>\n",
              "      <td>OH</td>\n",
              "      <td>Ford</td>\n",
              "      <td>FlexLimited</td>\n",
              "      <td>8</td>\n",
              "      <td>6287.500000</td>\n",
              "      <td>6203.181461</td>\n",
              "    </tr>\n",
              "    <tr>\n",
              "      <th>3</th>\n",
              "      <td>3</td>\n",
              "      <td>2004</td>\n",
              "      <td>132160</td>\n",
              "      <td>WA</td>\n",
              "      <td>BMW</td>\n",
              "      <td>5</td>\n",
              "      <td>18</td>\n",
              "      <td>7342.222222</td>\n",
              "      <td>5147.905267</td>\n",
              "    </tr>\n",
              "    <tr>\n",
              "      <th>4</th>\n",
              "      <td>4</td>\n",
              "      <td>2015</td>\n",
              "      <td>25226</td>\n",
              "      <td>MA</td>\n",
              "      <td>Jeep</td>\n",
              "      <td>Grand</td>\n",
              "      <td>7</td>\n",
              "      <td>3603.714286</td>\n",
              "      <td>5525.671323</td>\n",
              "    </tr>\n",
              "    <tr>\n",
              "      <th>5</th>\n",
              "      <td>5</td>\n",
              "      <td>2017</td>\n",
              "      <td>25684</td>\n",
              "      <td>AZ</td>\n",
              "      <td>Chevrolet</td>\n",
              "      <td>CruzeSedan</td>\n",
              "      <td>5</td>\n",
              "      <td>5136.800000</td>\n",
              "      <td>5879.912406</td>\n",
              "    </tr>\n",
              "    <tr>\n",
              "      <th>6</th>\n",
              "      <td>6</td>\n",
              "      <td>2016</td>\n",
              "      <td>56126</td>\n",
              "      <td>AZ</td>\n",
              "      <td>Kia</td>\n",
              "      <td>SorentoEX</td>\n",
              "      <td>6</td>\n",
              "      <td>9354.333333</td>\n",
              "      <td>5399.867630</td>\n",
              "    </tr>\n",
              "    <tr>\n",
              "      <th>7</th>\n",
              "      <td>7</td>\n",
              "      <td>2015</td>\n",
              "      <td>28767</td>\n",
              "      <td>FL</td>\n",
              "      <td>Lexus</td>\n",
              "      <td>IS</td>\n",
              "      <td>7</td>\n",
              "      <td>4109.571429</td>\n",
              "      <td>5425.111982</td>\n",
              "    </tr>\n",
              "    <tr>\n",
              "      <th>8</th>\n",
              "      <td>8</td>\n",
              "      <td>2015</td>\n",
              "      <td>58981</td>\n",
              "      <td>TX</td>\n",
              "      <td>Chevrolet</td>\n",
              "      <td>Suburban4WD</td>\n",
              "      <td>7</td>\n",
              "      <td>8425.857143</td>\n",
              "      <td>5879.912406</td>\n",
              "    </tr>\n",
              "    <tr>\n",
              "      <th>9</th>\n",
              "      <td>9</td>\n",
              "      <td>2016</td>\n",
              "      <td>20807</td>\n",
              "      <td>NJ</td>\n",
              "      <td>Hyundai</td>\n",
              "      <td>ElantraLimited</td>\n",
              "      <td>6</td>\n",
              "      <td>3467.833333</td>\n",
              "      <td>5933.319089</td>\n",
              "    </tr>\n",
              "  </tbody>\n",
              "</table>\n",
              "</div>\n",
              "      <button class=\"colab-df-convert\" onclick=\"convertToInteractive('df-9cea1cbe-c5ea-44ea-af64-4c2087405abb')\"\n",
              "              title=\"Convert this dataframe to an interactive table.\"\n",
              "              style=\"display:none;\">\n",
              "        \n",
              "  <svg xmlns=\"http://www.w3.org/2000/svg\" height=\"24px\"viewBox=\"0 0 24 24\"\n",
              "       width=\"24px\">\n",
              "    <path d=\"M0 0h24v24H0V0z\" fill=\"none\"/>\n",
              "    <path d=\"M18.56 5.44l.94 2.06.94-2.06 2.06-.94-2.06-.94-.94-2.06-.94 2.06-2.06.94zm-11 1L8.5 8.5l.94-2.06 2.06-.94-2.06-.94L8.5 2.5l-.94 2.06-2.06.94zm10 10l.94 2.06.94-2.06 2.06-.94-2.06-.94-.94-2.06-.94 2.06-2.06.94z\"/><path d=\"M17.41 7.96l-1.37-1.37c-.4-.4-.92-.59-1.43-.59-.52 0-1.04.2-1.43.59L10.3 9.45l-7.72 7.72c-.78.78-.78 2.05 0 2.83L4 21.41c.39.39.9.59 1.41.59.51 0 1.02-.2 1.41-.59l7.78-7.78 2.81-2.81c.8-.78.8-2.07 0-2.86zM5.41 20L4 18.59l7.72-7.72 1.47 1.35L5.41 20z\"/>\n",
              "  </svg>\n",
              "      </button>\n",
              "      \n",
              "  <style>\n",
              "    .colab-df-container {\n",
              "      display:flex;\n",
              "      flex-wrap:wrap;\n",
              "      gap: 12px;\n",
              "    }\n",
              "\n",
              "    .colab-df-convert {\n",
              "      background-color: #E8F0FE;\n",
              "      border: none;\n",
              "      border-radius: 50%;\n",
              "      cursor: pointer;\n",
              "      display: none;\n",
              "      fill: #1967D2;\n",
              "      height: 32px;\n",
              "      padding: 0 0 0 0;\n",
              "      width: 32px;\n",
              "    }\n",
              "\n",
              "    .colab-df-convert:hover {\n",
              "      background-color: #E2EBFA;\n",
              "      box-shadow: 0px 1px 2px rgba(60, 64, 67, 0.3), 0px 1px 3px 1px rgba(60, 64, 67, 0.15);\n",
              "      fill: #174EA6;\n",
              "    }\n",
              "\n",
              "    [theme=dark] .colab-df-convert {\n",
              "      background-color: #3B4455;\n",
              "      fill: #D2E3FC;\n",
              "    }\n",
              "\n",
              "    [theme=dark] .colab-df-convert:hover {\n",
              "      background-color: #434B5C;\n",
              "      box-shadow: 0px 1px 3px 1px rgba(0, 0, 0, 0.15);\n",
              "      filter: drop-shadow(0px 1px 2px rgba(0, 0, 0, 0.3));\n",
              "      fill: #FFFFFF;\n",
              "    }\n",
              "  </style>\n",
              "\n",
              "      <script>\n",
              "        const buttonEl =\n",
              "          document.querySelector('#df-9cea1cbe-c5ea-44ea-af64-4c2087405abb button.colab-df-convert');\n",
              "        buttonEl.style.display =\n",
              "          google.colab.kernel.accessAllowed ? 'block' : 'none';\n",
              "\n",
              "        async function convertToInteractive(key) {\n",
              "          const element = document.querySelector('#df-9cea1cbe-c5ea-44ea-af64-4c2087405abb');\n",
              "          const dataTable =\n",
              "            await google.colab.kernel.invokeFunction('convertToInteractive',\n",
              "                                                     [key], {});\n",
              "          if (!dataTable) return;\n",
              "\n",
              "          const docLinkHtml = 'Like what you see? Visit the ' +\n",
              "            '<a target=\"_blank\" href=https://colab.research.google.com/notebooks/data_table.ipynb>data table notebook</a>'\n",
              "            + ' to learn more about interactive tables.';\n",
              "          element.innerHTML = '';\n",
              "          dataTable['output_type'] = 'display_data';\n",
              "          await google.colab.output.renderOutput(dataTable, element);\n",
              "          const docLink = document.createElement('div');\n",
              "          docLink.innerHTML = docLinkHtml;\n",
              "          element.appendChild(docLink);\n",
              "        }\n",
              "      </script>\n",
              "    </div>\n",
              "  </div>\n",
              "  "
            ]
          },
          "metadata": {},
          "execution_count": 253
        }
      ]
    },
    {
      "cell_type": "code",
      "source": [
        "outliers = ['Price']\n",
        "plt.rcParams['figure.figsize'] = [8,8]\n",
        "sns.boxplot(data=df_train[outliers], orient=\"v\", palette=\"Set1\" ,whis=1.5,saturation=1, width=0.7)\n",
        "plt.title(\"Outliers Variable Distribution\", fontsize = 14, fontweight = 'bold')\n",
        "plt.ylabel(\"Price Range\", fontweight = 'bold')\n",
        "plt.xlabel(\"Continuous Variable\", fontweight = 'bold')\n"
      ],
      "metadata": {
        "id": "fNLAkXCtZdW1",
        "colab": {
          "base_uri": "https://localhost:8080/",
          "height": 531
        },
        "outputId": "95ff8188-debe-473c-c1d8-84140108a51c"
      },
      "execution_count": 254,
      "outputs": [
        {
          "output_type": "execute_result",
          "data": {
            "text/plain": [
              "Text(0.5, 0, 'Continuous Variable')"
            ]
          },
          "metadata": {},
          "execution_count": 254
        },
        {
          "output_type": "display_data",
          "data": {
            "text/plain": [
              "<Figure size 576x576 with 1 Axes>"
            ],
            "image/png": "[encoded data removed]"
          },
          "metadata": {
            "needs_background": "light"
          }
        }
      ]
    },
    {
      "cell_type": "code",
      "source": [
        "plt.figure(figsize=(30,15))\n",
        "sns.boxplot(x=df_train['Make'],y=df_train['Price'],orient=\"v\", palette=\"Set1\" ,whis=1.5,saturation=1, width=0.7)"
      ],
      "metadata": {
        "colab": {
          "base_uri": "https://localhost:8080/",
          "height": 771
        },
        "id": "hTZbcWAeoEku",
        "outputId": "bba11b52-7631-4b29-a4e9-d88a44898ab8"
      },
      "execution_count": 255,
      "outputs": [
        {
          "output_type": "execute_result",
          "data": {
            "text/plain": [
              "<matplotlib.axes._subplots.AxesSubplot at 0x7fb6005470d0>"
            ]
          },
          "metadata": {},
          "execution_count": 255
        },
        {
          "output_type": "display_data",
          "data": {
            "text/plain": [
              "<Figure size 2160x1080 with 1 Axes>"
            ],
            "image/png": "[encoded data removed]"
          },
          "metadata": {
            "needs_background": "light"
          }
        }
      ]
    },
    {
      "cell_type": "code",
      "source": [
        "df_train.groupby('Make').Price.mean().plot.barh()"
      ],
      "metadata": {
        "colab": {
          "base_uri": "https://localhost:8080/",
          "height": 500
        },
        "id": "5VeswogBltVn",
        "outputId": "bb9360d7-2d18-4f2b-aa73-efbe0d450dbd"
      },
      "execution_count": 256,
      "outputs": [
        {
          "output_type": "execute_result",
          "data": {
            "text/plain": [
              "<matplotlib.axes._subplots.AxesSubplot at 0x7fb602084d50>"
            ]
          },
          "metadata": {},
          "execution_count": 256
        },
        {
          "output_type": "display_data",
          "data": {
            "text/plain": [
              "<Figure size 576x576 with 1 Axes>"
            ],
            "image/png": "[encoded data removed]"
          },
          "metadata": {
            "needs_background": "light"
          }
        }
      ]
    },
    {
      "cell_type": "code",
      "source": [
        "df_train.groupby('car_age').Price.mean().plot.barh()"
      ],
      "metadata": {
        "colab": {
          "base_uri": "https://localhost:8080/",
          "height": 500
        },
        "id": "6oA60XqJbpdo",
        "outputId": "8874b4ec-edbb-496e-9993-0a2c7de8fac7"
      },
      "execution_count": 257,
      "outputs": [
        {
          "output_type": "execute_result",
          "data": {
            "text/plain": [
              "<matplotlib.axes._subplots.AxesSubplot at 0x7fb601f13bd0>"
            ]
          },
          "metadata": {},
          "execution_count": 257
        },
        {
          "output_type": "display_data",
          "data": {
            "text/plain": [
              "<Figure size 576x576 with 1 Axes>"
            ],
            "image/png": "[encoded data removed]"
          },
          "metadata": {
            "needs_background": "light"
          }
        }
      ]
    },
    {
      "cell_type": "code",
      "source": [
        "sns.barplot(x=df_train.isna().sum().values,y=df_train.isna().sum().index,)\n",
        "sns.barplot(x=df_test.isna().sum().values,y=df_test.isna().sum().index,)"
      ],
      "metadata": {
        "colab": {
          "base_uri": "https://localhost:8080/",
          "height": 500
        },
        "id": "cimT-ktXiCOl",
        "outputId": "3c735a5d-de45-4fc4-be56-ee2dbe15eecf"
      },
      "execution_count": 258,
      "outputs": [
        {
          "output_type": "execute_result",
          "data": {
            "text/plain": [
              "<matplotlib.axes._subplots.AxesSubplot at 0x7fb601f67c90>"
            ]
          },
          "metadata": {},
          "execution_count": 258
        },
        {
          "output_type": "display_data",
          "data": {
            "text/plain": [
              "<Figure size 576x576 with 1 Axes>"
            ],
            "image/png": "[encoded data removed]"
          },
          "metadata": {
            "needs_background": "light"
          }
        }
      ]
    },
    {
      "cell_type": "code",
      "source": [
        "X=df_train[['Mileage','State','Make','car_age','mileage_by_year','Model','Year','make_avg_mileage_year']]\n",
        "Y=df_train[['Price']]"
      ],
      "metadata": {
        "id": "CYPktrS7iCKX"
      },
      "execution_count": 259,
      "outputs": []
    },
    {
      "cell_type": "code",
      "source": [
        "X_Test=df_test[['Mileage','State','Make','car_age','mileage_by_year','Model','Year','make_avg_mileage_year']]"
      ],
      "metadata": {
        "id": "6BPCUdsbiP0o"
      },
      "execution_count": 260,
      "outputs": []
    },
    {
      "cell_type": "code",
      "source": [
        "df_train.to_csv('new_parameters_train.csv')\n",
        "df_test.to_csv('new_parameters_test.csv')\n"
      ],
      "metadata": {
        "id": "gnN5v5YYIh0J"
      },
      "execution_count": 261,
      "outputs": []
    },
    {
      "cell_type": "markdown",
      "source": [
        ""
      ],
      "metadata": {
        "id": "zP9mAL8NhZn7"
      }
    },
    {
      "cell_type": "code",
      "source": [
        "from pandas.core.indexes.category import CategoricalIndex\n",
        "from sklearn.compose import ColumnTransformer\n",
        "from sklearn.compose import make_column_selector as selector\n",
        "from sklearn.preprocessing import OneHotEncoder, StandardScaler\n",
        "\n",
        "\n",
        "#numerical_columns_selector = selector(dtype_exclude=string)\n",
        "#categorical_columns_selector = selector(dtype_include=string)\n",
        "numerical=['Mileage','car_age','mileage_by_year','make_avg_mileage_year']\n",
        "categorical=['State',\t'Make','Model','Year']\n",
        "numerical_columns =numerical\n",
        "categorical_columns = categorical\n",
        "categorical_preprocessor = OneHotEncoder(handle_unknown=\"ignore\")\n",
        "numerical_preprocessor = StandardScaler()\n",
        "preprocessor = ColumnTransformer([\n",
        "    ('one-hot-encoder', categorical_preprocessor, categorical_columns),\n",
        "    ('standard_scaler', numerical_preprocessor, numerical_columns)])\n",
        "X_preprocesses=preprocessor.fit_transform(X)\n",
        "X_test_preprocesses=preprocessor.transform(X_Test)"
      ],
      "metadata": {
        "id": "oGphc5ZuhZ8P"
      },
      "execution_count": 262,
      "outputs": []
    },
    {
      "cell_type": "code",
      "source": [
        "sns.barplot(x=df_train.isna().sum().values,y=df_train.isna().sum().index,)\n",
        "sns.barplot(x=df_test.isna().sum().values,y=df_test.isna().sum().index,)"
      ],
      "metadata": {
        "colab": {
          "base_uri": "https://localhost:8080/",
          "height": 500
        },
        "id": "WqhGMo5yj4qT",
        "outputId": "66904a51-c989-4896-cd64-bef302746391"
      },
      "execution_count": 263,
      "outputs": [
        {
          "output_type": "execute_result",
          "data": {
            "text/plain": [
              "<matplotlib.axes._subplots.AxesSubplot at 0x7fb605cfd7d0>"
            ]
          },
          "metadata": {},
          "execution_count": 263
        },
        {
          "output_type": "display_data",
          "data": {
            "text/plain": [
              "<Figure size 576x576 with 1 Axes>"
            ],
            "image/png": "[encoded data removed]"
          },
          "metadata": {
            "needs_background": "light"
          }
        }
      ]
    },
    {
      "cell_type": "code",
      "source": [
        "print(X_preprocesses[0])\n",
        "print(X_test_preprocesses[0])\n"
      ],
      "metadata": {
        "colab": {
          "base_uri": "https://localhost:8080/"
        },
        "id": "C_2Msz1vjbaX",
        "outputId": "88bd091d-9cca-49c3-d1c8-0254c0f04370"
      },
      "execution_count": 264,
      "outputs": [
        {
          "output_type": "stream",
          "name": "stdout",
          "text": [
            "  (0, 9)\t1.0\n",
            "  (0, 68)\t1.0\n",
            "  (0, 578)\t1.0\n",
            "  (0, 634)\t1.0\n",
            "  (0, 636)\t-1.1046694681523355\n",
            "  (0, 637)\t-1.1547699741728112\n",
            "  (0, 638)\t-1.251663829038321\n",
            "  (0, 639)\t-0.6626765715640054\n",
            "  (0, 20)\t1.0\n",
            "  (0, 78)\t1.0\n",
            "  (0, 394)\t1.0\n",
            "  (0, 631)\t1.0\n",
            "  (0, 636)\t-0.566619582985837\n",
            "  (0, 637)\t-0.2435590788860296\n",
            "  (0, 638)\t-0.5975509927191763\n",
            "  (0, 639)\t1.8876720762606343\n"
          ]
        }
      ]
    },
    {
      "cell_type": "code",
      "source": [
        "XTrain, XTest, yTrain, yTest = train_test_split(X_preprocesses, Y, test_size=0.33, random_state=0)"
      ],
      "metadata": {
        "id": "6XO6bzTumgjH"
      },
      "execution_count": 265,
      "outputs": []
    },
    {
      "cell_type": "code",
      "source": [
        "xgb_r = xg.XGBRegressor(objective ='reg:linear',learning_rate=0.5,gamma=0.01, colsample_bytree=0.5, max_depth=9,alpha=1,verbosity = 0 ) \n",
        "\n",
        "# Fitting the model\n",
        "xgb_r.fit(XTrain, yTrain)\n",
        "  \n",
        "# Predict the model\n",
        "pred = xgb_r.predict(XTest)\n",
        "  \n",
        "# RMSE Computation\n",
        "rmse_base = np.sqrt(MSE(yTest, pred))\n",
        "print(\"RMSE : % f\" %(rmse_base))"
      ],
      "metadata": {
        "colab": {
          "base_uri": "https://localhost:8080/"
        },
        "id": "ji20HKi_iqYt",
        "outputId": "a1f57f9e-c504-4312-9b69-e7293c74cceb"
      },
      "execution_count": 266,
      "outputs": [
        {
          "output_type": "stream",
          "name": "stdout",
          "text": [
            "RMSE :  3712.242930\n"
          ]
        }
      ]
    },
    {
      "cell_type": "code",
      "source": [
        ""
      ],
      "metadata": {
        "id": "yLDIBpy0usaR"
      },
      "execution_count": null,
      "outputs": []
    },
    {
      "cell_type": "code",
      "source": [
        "pred_test=xgb_r.predict(X_test_preprocesses)"
      ],
      "metadata": {
        "id": "EnoomZREns4Q"
      },
      "execution_count": 267,
      "outputs": []
    },
    {
      "cell_type": "code",
      "source": [
        "print(pred_test)"
      ],
      "metadata": {
        "colab": {
          "base_uri": "https://localhost:8080/"
        },
        "id": "i2odjcz8m1Ux",
        "outputId": "fc1d0c53-9110-40a1-e754-6a329a2ae163"
      },
      "execution_count": 268,
      "outputs": [
        {
          "output_type": "stream",
          "name": "stdout",
          "text": [
            "[21397.807 37773.37  22718.043 ... 24935.79  18079.152 22810.791]\n"
          ]
        }
      ]
    },
    {
      "cell_type": "code",
      "source": [
        "df_test['Price']=pred_test"
      ],
      "metadata": {
        "id": "CwG6yuVsqFKA"
      },
      "execution_count": 269,
      "outputs": []
    },
    {
      "cell_type": "code",
      "source": [
        "df_test.head(10)"
      ],
      "metadata": {
        "colab": {
          "base_uri": "https://localhost:8080/",
          "height": 363
        },
        "id": "mAFLkvJ3qN_B",
        "outputId": "58893d8f-8970-45f2-b9f8-5ce2b7ba74bb"
      },
      "execution_count": 270,
      "outputs": [
        {
          "output_type": "execute_result",
          "data": {
            "text/plain": [
              "   ID  Year  Mileage State       Make           Model  car_age  \\\n",
              "0   0  2014    31909    MD     Nissan       MuranoAWD        8   \n",
              "1   1  2017     5362    FL       Jeep        Wrangler        5   \n",
              "2   2  2014    50300    OH       Ford     FlexLimited        8   \n",
              "3   3  2004   132160    WA        BMW               5       18   \n",
              "4   4  2015    25226    MA       Jeep           Grand        7   \n",
              "5   5  2017    25684    AZ  Chevrolet      CruzeSedan        5   \n",
              "6   6  2016    56126    AZ        Kia       SorentoEX        6   \n",
              "7   7  2015    28767    FL      Lexus              IS        7   \n",
              "8   8  2015    58981    TX  Chevrolet     Suburban4WD        7   \n",
              "9   9  2016    20807    NJ    Hyundai  ElantraLimited        6   \n",
              "\n",
              "   mileage_by_year  make_avg_mileage_year         Price  \n",
              "0      3988.625000            6650.718995  21397.806641  \n",
              "1      1072.400000            5525.671323  37773.371094  \n",
              "2      6287.500000            6203.181461  22718.042969  \n",
              "3      7342.222222            5147.905267   8936.437500  \n",
              "4      3603.714286            5525.671323  30159.052734  \n",
              "5      5136.800000            5879.912406  15790.826172  \n",
              "6      9354.333333            5399.867630  22034.400391  \n",
              "7      4109.571429            5425.111982  28953.902344  \n",
              "8      8425.857143            5879.912406  46095.445312  \n",
              "9      3467.833333            5933.319089  17470.146484  "
            ],
            "text/html": [
              "\n",
              "  <div id=\"df-2d8d396c-b8ff-4721-885a-f6fc70fef31c\">\n",
              "    <div class=\"colab-df-container\">\n",
              "      <div>\n",
              "<style scoped>\n",
              "    .dataframe tbody tr th:only-of-type {\n",
              "        vertical-align: middle;\n",
              "    }\n",
              "\n",
              "    .dataframe tbody tr th {\n",
              "        vertical-align: top;\n",
              "    }\n",
              "\n",
              "    .dataframe thead th {\n",
              "        text-align: right;\n",
              "    }\n",
              "</style>\n",
              "<table border=\"1\" class=\"dataframe\">\n",
              "  <thead>\n",
              "    <tr style=\"text-align: right;\">\n",
              "      <th></th>\n",
              "      <th>ID</th>\n",
              "      <th>Year</th>\n",
              "      <th>Mileage</th>\n",
              "      <th>State</th>\n",
              "      <th>Make</th>\n",
              "      <th>Model</th>\n",
              "      <th>car_age</th>\n",
              "      <th>mileage_by_year</th>\n",
              "      <th>make_avg_mileage_year</th>\n",
              "      <th>Price</th>\n",
              "    </tr>\n",
              "  </thead>\n",
              "  <tbody>\n",
              "    <tr>\n",
              "      <th>0</th>\n",
              "      <td>0</td>\n",
              "      <td>2014</td>\n",
              "      <td>31909</td>\n",
              "      <td>MD</td>\n",
              "      <td>Nissan</td>\n",
              "      <td>MuranoAWD</td>\n",
              "      <td>8</td>\n",
              "      <td>3988.625000</td>\n",
              "      <td>6650.718995</td>\n",
              "      <td>21397.806641</td>\n",
              "    </tr>\n",
              "    <tr>\n",
              "      <th>1</th>\n",
              "      <td>1</td>\n",
              "      <td>2017</td>\n",
              "      <td>5362</td>\n",
              "      <td>FL</td>\n",
              "      <td>Jeep</td>\n",
              "      <td>Wrangler</td>\n",
              "      <td>5</td>\n",
              "      <td>1072.400000</td>\n",
              "      <td>5525.671323</td>\n",
              "      <td>37773.371094</td>\n",
              "    </tr>\n",
              "    <tr>\n",
              "      <th>2</th>\n",
              "      <td>2</td>\n",
              "      <td>2014</td>\n",
              "      <td>50300</td>\n",
              "      <td>OH</td>\n",
              "      <td>Ford</td>\n",
              "      <td>FlexLimited</td>\n",
              "      <td>8</td>\n",
              "      <td>6287.500000</td>\n",
              "      <td>6203.181461</td>\n",
              "      <td>22718.042969</td>\n",
              "    </tr>\n",
              "    <tr>\n",
              "      <th>3</th>\n",
              "      <td>3</td>\n",
              "      <td>2004</td>\n",
              "      <td>132160</td>\n",
              "      <td>WA</td>\n",
              "      <td>BMW</td>\n",
              "      <td>5</td>\n",
              "      <td>18</td>\n",
              "      <td>7342.222222</td>\n",
              "      <td>5147.905267</td>\n",
              "      <td>8936.437500</td>\n",
              "    </tr>\n",
              "    <tr>\n",
              "      <th>4</th>\n",
              "      <td>4</td>\n",
              "      <td>2015</td>\n",
              "      <td>25226</td>\n",
              "      <td>MA</td>\n",
              "      <td>Jeep</td>\n",
              "      <td>Grand</td>\n",
              "      <td>7</td>\n",
              "      <td>3603.714286</td>\n",
              "      <td>5525.671323</td>\n",
              "      <td>30159.052734</td>\n",
              "    </tr>\n",
              "    <tr>\n",
              "      <th>5</th>\n",
              "      <td>5</td>\n",
              "      <td>2017</td>\n",
              "      <td>25684</td>\n",
              "      <td>AZ</td>\n",
              "      <td>Chevrolet</td>\n",
              "      <td>CruzeSedan</td>\n",
              "      <td>5</td>\n",
              "      <td>5136.800000</td>\n",
              "      <td>5879.912406</td>\n",
              "      <td>15790.826172</td>\n",
              "    </tr>\n",
              "    <tr>\n",
              "      <th>6</th>\n",
              "      <td>6</td>\n",
              "      <td>2016</td>\n",
              "      <td>56126</td>\n",
              "      <td>AZ</td>\n",
              "      <td>Kia</td>\n",
              "      <td>SorentoEX</td>\n",
              "      <td>6</td>\n",
              "      <td>9354.333333</td>\n",
              "      <td>5399.867630</td>\n",
              "      <td>22034.400391</td>\n",
              "    </tr>\n",
              "    <tr>\n",
              "      <th>7</th>\n",
              "      <td>7</td>\n",
              "      <td>2015</td>\n",
              "      <td>28767</td>\n",
              "      <td>FL</td>\n",
              "      <td>Lexus</td>\n",
              "      <td>IS</td>\n",
              "      <td>7</td>\n",
              "      <td>4109.571429</td>\n",
              "      <td>5425.111982</td>\n",
              "      <td>28953.902344</td>\n",
              "    </tr>\n",
              "    <tr>\n",
              "      <th>8</th>\n",
              "      <td>8</td>\n",
              "      <td>2015</td>\n",
              "      <td>58981</td>\n",
              "      <td>TX</td>\n",
              "      <td>Chevrolet</td>\n",
              "      <td>Suburban4WD</td>\n",
              "      <td>7</td>\n",
              "      <td>8425.857143</td>\n",
              "      <td>5879.912406</td>\n",
              "      <td>46095.445312</td>\n",
              "    </tr>\n",
              "    <tr>\n",
              "      <th>9</th>\n",
              "      <td>9</td>\n",
              "      <td>2016</td>\n",
              "      <td>20807</td>\n",
              "      <td>NJ</td>\n",
              "      <td>Hyundai</td>\n",
              "      <td>ElantraLimited</td>\n",
              "      <td>6</td>\n",
              "      <td>3467.833333</td>\n",
              "      <td>5933.319089</td>\n",
              "      <td>17470.146484</td>\n",
              "    </tr>\n",
              "  </tbody>\n",
              "</table>\n",
              "</div>\n",
              "      <button class=\"colab-df-convert\" onclick=\"convertToInteractive('df-2d8d396c-b8ff-4721-885a-f6fc70fef31c')\"\n",
              "              title=\"Convert this dataframe to an interactive table.\"\n",
              "              style=\"display:none;\">\n",
              "        \n",
              "  <svg xmlns=\"http://www.w3.org/2000/svg\" height=\"24px\"viewBox=\"0 0 24 24\"\n",
              "       width=\"24px\">\n",
              "    <path d=\"M0 0h24v24H0V0z\" fill=\"none\"/>\n",
              "    <path d=\"M18.56 5.44l.94 2.06.94-2.06 2.06-.94-2.06-.94-.94-2.06-.94 2.06-2.06.94zm-11 1L8.5 8.5l.94-2.06 2.06-.94-2.06-.94L8.5 2.5l-.94 2.06-2.06.94zm10 10l.94 2.06.94-2.06 2.06-.94-2.06-.94-.94-2.06-.94 2.06-2.06.94z\"/><path d=\"M17.41 7.96l-1.37-1.37c-.4-.4-.92-.59-1.43-.59-.52 0-1.04.2-1.43.59L10.3 9.45l-7.72 7.72c-.78.78-.78 2.05 0 2.83L4 21.41c.39.39.9.59 1.41.59.51 0 1.02-.2 1.41-.59l7.78-7.78 2.81-2.81c.8-.78.8-2.07 0-2.86zM5.41 20L4 18.59l7.72-7.72 1.47 1.35L5.41 20z\"/>\n",
              "  </svg>\n",
              "      </button>\n",
              "      \n",
              "  <style>\n",
              "    .colab-df-container {\n",
              "      display:flex;\n",
              "      flex-wrap:wrap;\n",
              "      gap: 12px;\n",
              "    }\n",
              "\n",
              "    .colab-df-convert {\n",
              "      background-color: #E8F0FE;\n",
              "      border: none;\n",
              "      border-radius: 50%;\n",
              "      cursor: pointer;\n",
              "      display: none;\n",
              "      fill: #1967D2;\n",
              "      height: 32px;\n",
              "      padding: 0 0 0 0;\n",
              "      width: 32px;\n",
              "    }\n",
              "\n",
              "    .colab-df-convert:hover {\n",
              "      background-color: #E2EBFA;\n",
              "      box-shadow: 0px 1px 2px rgba(60, 64, 67, 0.3), 0px 1px 3px 1px rgba(60, 64, 67, 0.15);\n",
              "      fill: #174EA6;\n",
              "    }\n",
              "\n",
              "    [theme=dark] .colab-df-convert {\n",
              "      background-color: #3B4455;\n",
              "      fill: #D2E3FC;\n",
              "    }\n",
              "\n",
              "    [theme=dark] .colab-df-convert:hover {\n",
              "      background-color: #434B5C;\n",
              "      box-shadow: 0px 1px 3px 1px rgba(0, 0, 0, 0.15);\n",
              "      filter: drop-shadow(0px 1px 2px rgba(0, 0, 0, 0.3));\n",
              "      fill: #FFFFFF;\n",
              "    }\n",
              "  </style>\n",
              "\n",
              "      <script>\n",
              "        const buttonEl =\n",
              "          document.querySelector('#df-2d8d396c-b8ff-4721-885a-f6fc70fef31c button.colab-df-convert');\n",
              "        buttonEl.style.display =\n",
              "          google.colab.kernel.accessAllowed ? 'block' : 'none';\n",
              "\n",
              "        async function convertToInteractive(key) {\n",
              "          const element = document.querySelector('#df-2d8d396c-b8ff-4721-885a-f6fc70fef31c');\n",
              "          const dataTable =\n",
              "            await google.colab.kernel.invokeFunction('convertToInteractive',\n",
              "                                                     [key], {});\n",
              "          if (!dataTable) return;\n",
              "\n",
              "          const docLinkHtml = 'Like what you see? Visit the ' +\n",
              "            '<a target=\"_blank\" href=https://colab.research.google.com/notebooks/data_table.ipynb>data table notebook</a>'\n",
              "            + ' to learn more about interactive tables.';\n",
              "          element.innerHTML = '';\n",
              "          dataTable['output_type'] = 'display_data';\n",
              "          await google.colab.output.renderOutput(dataTable, element);\n",
              "          const docLink = document.createElement('div');\n",
              "          docLink.innerHTML = docLinkHtml;\n",
              "          element.appendChild(docLink);\n",
              "        }\n",
              "      </script>\n",
              "    </div>\n",
              "  </div>\n",
              "  "
            ]
          },
          "metadata": {},
          "execution_count": 270
        }
      ]
    },
    {
      "cell_type": "code",
      "source": [
        "df_test[['ID','Price']].to_csv('predictions_2.csv')"
      ],
      "metadata": {
        "id": "L509bB6rqRO3"
      },
      "execution_count": 271,
      "outputs": []
    },
    {
      "cell_type": "markdown",
      "source": [
        "parameter search"
      ],
      "metadata": {
        "id": "rJ_0yGZByuXi"
      }
    },
    {
      "cell_type": "code",
      "source": [
        "from sklearn.model_selection import RandomizedSearchCV, GridSearchCV\n",
        "from sklearn.model_selection import StratifiedKFold\n",
        "from datetime import datetime\n",
        "def timer(start_time=None):\n",
        "    if not start_time:\n",
        "        start_time = datetime.now()\n",
        "        return start_time\n",
        "    elif start_time:\n",
        "        thour, temp_sec = divmod((datetime.now() - start_time).total_seconds(), 3600)\n",
        "        tmin, tsec = divmod(temp_sec, 60)\n",
        "        print('\\n Time taken: %i hours %i minutes and %s seconds.' % (thour, tmin, round(tsec, 2)))\n",
        "\n",
        "\n"
      ],
      "metadata": {
        "id": "OZjV7Xzry1Ft"
      },
      "execution_count": null,
      "outputs": []
    },
    {
      "cell_type": "code",
      "source": [
        "xgb= xg.XGBRegressor(objective ='reg:linear',learning_rate=0.5,gamma=0.01, colsample_bytree=0.5, max_depth=9,alpha=1,verbosity = 0 ) \n"
      ],
      "metadata": {
        "id": "4Ywt6QMUy82U"
      },
      "execution_count": 272,
      "outputs": []
    },
    {
      "cell_type": "code",
      "source": [
        "params = {\n",
        "        'min_child_weight': [1, 5,7, 10],\n",
        "        'gamma': np.linspace(0.01, 5, num=10),\n",
        "        'subsample': [0.5,0.6, 0.8, 1.0],\n",
        "        'colsample_bytree': np.linspace(0.01, 0.7, num=10),\n",
        "        'max_depth': range(1,20,2),\n",
        "        'alpha': range(1, 15,1),\n",
        "        'learning_rate':np.linspace(0.001, 0.5, num=13)\n",
        "        }\n",
        "params"
      ],
      "metadata": {
        "colab": {
          "base_uri": "https://localhost:8080/"
        },
        "id": "08tP8-dkzDYT",
        "outputId": "5605ba32-e23d-4d94-9d16-e2bdf161a9d3"
      },
      "execution_count": 275,
      "outputs": [
        {
          "output_type": "execute_result",
          "data": {
            "text/plain": [
              "{'alpha': range(1, 15),\n",
              " 'colsample_bytree': array([0.01      , 0.08666667, 0.16333333, 0.24      , 0.31666667,\n",
              "        0.39333333, 0.47      , 0.54666667, 0.62333333, 0.7       ]),\n",
              " 'gamma': array([0.01      , 0.56444444, 1.11888889, 1.67333333, 2.22777778,\n",
              "        2.78222222, 3.33666667, 3.89111111, 4.44555556, 5.        ]),\n",
              " 'learning_rate': array([0.001     , 0.04258333, 0.08416667, 0.12575   , 0.16733333,\n",
              "        0.20891667, 0.2505    , 0.29208333, 0.33366667, 0.37525   ,\n",
              "        0.41683333, 0.45841667, 0.5       ]),\n",
              " 'max_depth': range(1, 20, 2),\n",
              " 'min_child_weight': [1, 5, 7, 10],\n",
              " 'subsample': [0.5, 0.6, 0.8, 1.0]}"
            ]
          },
          "metadata": {},
          "execution_count": 275
        }
      ]
    },
    {
      "cell_type": "code",
      "source": [
        "folds = 2\n",
        "param_comb = 30\n",
        "\n",
        "skf = StratifiedKFold(n_splits=folds, shuffle = True, random_state = 1001)\n",
        "\n",
        "random_search = RandomizedSearchCV(xgb, param_distributions=params, n_iter=param_comb, scoring='neg_mean_squared_error', n_jobs=4, cv=skf.split(X,Y), verbose=5, random_state=1001 )\n",
        "\n",
        "# Here we go\n",
        " # timing starts from this point for \"start_time\" variable\n",
        "random_search.fit(X_preprocesses, Y)\n"
      ],
      "metadata": {
        "colab": {
          "base_uri": "https://localhost:8080/"
        },
        "id": "0Ji7Itd8vXmt",
        "outputId": "51e6314c-472b-4c99-d281-a6494ea3bc4d"
      },
      "execution_count": 276,
      "outputs": [
        {
          "output_type": "stream",
          "name": "stderr",
          "text": [
            "/usr/local/lib/python3.7/dist-packages/sklearn/model_selection/_split.py:680: UserWarning: The least populated class in y has only 1 members, which is less than n_splits=2.\n",
            "  UserWarning,\n"
          ]
        },
        {
          "output_type": "stream",
          "name": "stdout",
          "text": [
            "Fitting 2 folds for each of 30 candidates, totalling 60 fits\n"
          ]
        },
        {
          "output_type": "execute_result",
          "data": {
            "text/plain": [
              "RandomizedSearchCV(cv=<generator object _BaseKFold.split at 0x7fb5ffddd3d0>,\n",
              "                   estimator=XGBRegressor(alpha=1, colsample_bytree=0.5,\n",
              "                                          gamma=0.01, learning_rate=0.5,\n",
              "                                          max_depth=9, verbosity=0),\n",
              "                   n_iter=30, n_jobs=4,\n",
              "                   param_distributions={'alpha': range(1, 15),\n",
              "                                        'colsample_bytree': array([0.01      , 0.08666667, 0.16333333, 0.24      , 0.31666667,\n",
              "       0.39333333, 0.47      , 0.54666667, 0.62333333, 0.7       ]),\n",
              "                                        'gamma': array([0.01      , 0.56444444, 1.11888889, 1.67333333, 2.22777778,\n",
              "       2.78222222, 3.33666667, 3.89111111, 4.44555556, 5.        ]),\n",
              "                                        'learning_rate': array([0.001     , 0.04258333, 0.08416667, 0.12575   , 0.16733333,\n",
              "       0.20891667, 0.2505    , 0.29208333, 0.33366667, 0.37525   ,\n",
              "       0.41683333, 0.45841667, 0.5       ]),\n",
              "                                        'max_depth': range(1, 20, 2),\n",
              "                                        'min_child_weight': [1, 5, 7, 10],\n",
              "                                        'subsample': [0.5, 0.6, 0.8, 1.0]},\n",
              "                   random_state=1001, scoring='neg_mean_squared_error',\n",
              "                   verbose=5)"
            ]
          },
          "metadata": {},
          "execution_count": 276
        }
      ]
    },
    {
      "cell_type": "code",
      "source": [
        "print('\\n All results:')\n",
        "print(random_search.cv_results_)\n",
        "print('\\n Best estimator:')\n",
        "print(random_search.best_estimator_)\n",
        "print('\\n Best normalized gini score for %d-fold search with %d parameter combinations:' % (folds, param_comb))\n",
        "print(random_search.best_score_ * 2 - 1)\n",
        "print('\\n Best hyperparameters:')\n",
        "print(random_search.best_params_)\n",
        "results = pd.DataFrame(random_search.cv_results_)\n",
        "results.to_csv('xgb-random-grid-search-results-01.csv', index=False)"
      ],
      "metadata": {
        "colab": {
          "base_uri": "https://localhost:8080/"
        },
        "id": "L843N5Am4fU3",
        "outputId": "bbdc8df1-ce46-4d61-8ee5-a20a701085cf"
      },
      "execution_count": 277,
      "outputs": [
        {
          "output_type": "stream",
          "name": "stdout",
          "text": [
            "\n",
            " All results:\n",
            "{'mean_fit_time': array([31.31623721, 71.69396925, 50.14348316, 25.30226207, 74.66581106,\n",
            "       11.7713238 , 34.98147714, 55.7304585 , 43.65963531, 13.90797102,\n",
            "       11.64188349, 84.01762104, 87.65806305, 37.7040242 , 17.29939795,\n",
            "       14.44880176, 91.02542341, 40.97265279, 17.27622366, 52.01037014,\n",
            "       13.91284823, 12.44603121, 14.41280651, 23.87908483, 32.11682415,\n",
            "       17.14494765, 37.40290177, 94.15776563, 12.81955004, 44.88153613]), 'std_fit_time': array([0.14661074, 0.18643665, 0.07554841, 0.1294632 , 0.38103247,\n",
            "       0.0453068 , 0.09175861, 0.29627132, 0.255404  , 0.20678699,\n",
            "       0.03381145, 0.27444172, 0.12119567, 0.01273334, 0.03012156,\n",
            "       0.01174903, 0.39693344, 0.10753143, 0.00943184, 0.10496914,\n",
            "       0.04128909, 0.0358969 , 0.15630913, 0.06283665, 0.18863511,\n",
            "       0.12561548, 0.3333267 , 0.14933205, 0.09782887, 0.19092095]), 'mean_score_time': array([2.67036831, 5.8221662 , 5.12213206, 4.03316879, 6.34777129,\n",
            "       1.53384745, 3.49231172, 6.58925605, 4.23308396, 1.54043019,\n",
            "       1.60874319, 6.4587146 , 9.52710056, 2.77765775, 2.51625311,\n",
            "       2.43366694, 7.45872557, 6.06262779, 2.49324405, 9.16891766,\n",
            "       1.48908734, 1.49187922, 1.46357501, 2.76973784, 3.38096786,\n",
            "       2.55126858, 4.52884674, 9.20052326, 1.5218401 , 3.48030066]), 'std_score_time': array([0.02571023, 0.02101231, 0.03625107, 0.00033307, 0.06562626,\n",
            "       0.01132452, 0.0364995 , 0.00357151, 0.05249715, 0.05375969,\n",
            "       0.00089002, 0.00890338, 0.0032053 , 0.03921223, 0.01405871,\n",
            "       0.00944018, 0.19981778, 0.02040958, 0.06319487, 0.01187372,\n",
            "       0.01967597, 0.00212455, 0.01688397, 0.00733507, 0.05709481,\n",
            "       0.03099489, 0.04010725, 0.31055748, 0.0199244 , 0.05966949]), 'param_subsample': masked_array(data=[0.6, 0.6, 0.6, 0.8, 1.0, 0.5, 0.8, 1.0, 0.5, 0.5, 0.6,\n",
            "                   0.8, 0.6, 1.0, 0.6, 1.0, 0.5, 0.8, 0.5, 0.6, 0.5, 0.5,\n",
            "                   0.5, 0.6, 0.5, 0.5, 0.6, 0.6, 0.6, 0.8],\n",
            "             mask=[False, False, False, False, False, False, False, False,\n",
            "                   False, False, False, False, False, False, False, False,\n",
            "                   False, False, False, False, False, False, False, False,\n",
            "                   False, False, False, False, False, False],\n",
            "       fill_value='?',\n",
            "            dtype=object), 'param_min_child_weight': masked_array(data=[10, 7, 10, 10, 1, 7, 10, 1, 7, 5, 10, 10, 10, 5, 10,\n",
            "                   10, 10, 5, 7, 5, 1, 5, 10, 1, 7, 5, 7, 5, 7, 7],\n",
            "             mask=[False, False, False, False, False, False, False, False,\n",
            "                   False, False, False, False, False, False, False, False,\n",
            "                   False, False, False, False, False, False, False, False,\n",
            "                   False, False, False, False, False, False],\n",
            "       fill_value='?',\n",
            "            dtype=object), 'param_max_depth': masked_array(data=[5, 13, 11, 11, 13, 1, 9, 13, 11, 1, 1, 15, 19, 7, 15,\n",
            "                   7, 17, 13, 15, 19, 1, 1, 1, 7, 9, 15, 11, 19, 1, 9],\n",
            "             mask=[False, False, False, False, False, False, False, False,\n",
            "                   False, False, False, False, False, False, False, False,\n",
            "                   False, False, False, False, False, False, False, False,\n",
            "                   False, False, False, False, False, False],\n",
            "       fill_value='?',\n",
            "            dtype=object), 'param_learning_rate': masked_array(data=[0.042583333333333334, 0.16733333333333333,\n",
            "                   0.08416666666666667, 0.29208333333333336,\n",
            "                   0.20891666666666667, 0.12575, 0.29208333333333336,\n",
            "                   0.12575, 0.37525, 0.08416666666666667,\n",
            "                   0.29208333333333336, 0.41683333333333333, 0.2505,\n",
            "                   0.29208333333333336, 0.29208333333333336, 0.2505,\n",
            "                   0.2505, 0.12575, 0.12575, 0.001, 0.12575,\n",
            "                   0.33366666666666667, 0.4584166666666667, 0.2505,\n",
            "                   0.2505, 0.042583333333333334, 0.16733333333333333,\n",
            "                   0.37525, 0.16733333333333333, 0.5],\n",
            "             mask=[False, False, False, False, False, False, False, False,\n",
            "                   False, False, False, False, False, False, False, False,\n",
            "                   False, False, False, False, False, False, False, False,\n",
            "                   False, False, False, False, False, False],\n",
            "       fill_value='?',\n",
            "            dtype=object), 'param_gamma': masked_array(data=[1.6733333333333336, 2.7822222222222224,\n",
            "                   3.8911111111111114, 2.7822222222222224, 5.0, 0.01,\n",
            "                   3.8911111111111114, 5.0, 5.0, 3.336666666666667, 5.0,\n",
            "                   3.336666666666667, 3.8911111111111114,\n",
            "                   1.118888888888889, 3.336666666666667,\n",
            "                   3.8911111111111114, 3.336666666666667,\n",
            "                   3.8911111111111114, 5.0, 3.336666666666667,\n",
            "                   2.7822222222222224, 4.445555555555556,\n",
            "                   2.7822222222222224, 3.336666666666667, 5.0, 5.0,\n",
            "                   4.445555555555556, 4.445555555555556,\n",
            "                   1.118888888888889, 1.6733333333333336],\n",
            "             mask=[False, False, False, False, False, False, False, False,\n",
            "                   False, False, False, False, False, False, False, False,\n",
            "                   False, False, False, False, False, False, False, False,\n",
            "                   False, False, False, False, False, False],\n",
            "       fill_value='?',\n",
            "            dtype=object), 'param_colsample_bytree': masked_array(data=[0.5466666666666666, 0.6233333333333333,\n",
            "                   0.3933333333333333, 0.08666666666666666, 0.7, 0.01,\n",
            "                   0.31666666666666665, 0.47, 0.31666666666666665, 0.47,\n",
            "                   0.01, 0.7, 0.47, 0.6233333333333333, 0.01, 0.01,\n",
            "                   0.6233333333333333, 0.24, 0.01, 0.16333333333333333,\n",
            "                   0.5466666666666666, 0.24, 0.7, 0.16333333333333333,\n",
            "                   0.24, 0.01, 0.24, 0.5466666666666666,\n",
            "                   0.31666666666666665, 0.5466666666666666],\n",
            "             mask=[False, False, False, False, False, False, False, False,\n",
            "                   False, False, False, False, False, False, False, False,\n",
            "                   False, False, False, False, False, False, False, False,\n",
            "                   False, False, False, False, False, False],\n",
            "       fill_value='?',\n",
            "            dtype=object), 'param_alpha': masked_array(data=[12, 13, 9, 14, 3, 13, 14, 10, 6, 11, 13, 5, 3, 8, 4, 2,\n",
            "                   14, 3, 12, 12, 12, 4, 5, 9, 1, 8, 6, 1, 9, 14],\n",
            "             mask=[False, False, False, False, False, False, False, False,\n",
            "                   False, False, False, False, False, False, False, False,\n",
            "                   False, False, False, False, False, False, False, False,\n",
            "                   False, False, False, False, False, False],\n",
            "       fill_value='?',\n",
            "            dtype=object), 'params': [{'subsample': 0.6, 'min_child_weight': 10, 'max_depth': 5, 'learning_rate': 0.042583333333333334, 'gamma': 1.6733333333333336, 'colsample_bytree': 0.5466666666666666, 'alpha': 12}, {'subsample': 0.6, 'min_child_weight': 7, 'max_depth': 13, 'learning_rate': 0.16733333333333333, 'gamma': 2.7822222222222224, 'colsample_bytree': 0.6233333333333333, 'alpha': 13}, {'subsample': 0.6, 'min_child_weight': 10, 'max_depth': 11, 'learning_rate': 0.08416666666666667, 'gamma': 3.8911111111111114, 'colsample_bytree': 0.3933333333333333, 'alpha': 9}, {'subsample': 0.8, 'min_child_weight': 10, 'max_depth': 11, 'learning_rate': 0.29208333333333336, 'gamma': 2.7822222222222224, 'colsample_bytree': 0.08666666666666666, 'alpha': 14}, {'subsample': 1.0, 'min_child_weight': 1, 'max_depth': 13, 'learning_rate': 0.20891666666666667, 'gamma': 5.0, 'colsample_bytree': 0.7, 'alpha': 3}, {'subsample': 0.5, 'min_child_weight': 7, 'max_depth': 1, 'learning_rate': 0.12575, 'gamma': 0.01, 'colsample_bytree': 0.01, 'alpha': 13}, {'subsample': 0.8, 'min_child_weight': 10, 'max_depth': 9, 'learning_rate': 0.29208333333333336, 'gamma': 3.8911111111111114, 'colsample_bytree': 0.31666666666666665, 'alpha': 14}, {'subsample': 1.0, 'min_child_weight': 1, 'max_depth': 13, 'learning_rate': 0.12575, 'gamma': 5.0, 'colsample_bytree': 0.47, 'alpha': 10}, {'subsample': 0.5, 'min_child_weight': 7, 'max_depth': 11, 'learning_rate': 0.37525, 'gamma': 5.0, 'colsample_bytree': 0.31666666666666665, 'alpha': 6}, {'subsample': 0.5, 'min_child_weight': 5, 'max_depth': 1, 'learning_rate': 0.08416666666666667, 'gamma': 3.336666666666667, 'colsample_bytree': 0.47, 'alpha': 11}, {'subsample': 0.6, 'min_child_weight': 10, 'max_depth': 1, 'learning_rate': 0.29208333333333336, 'gamma': 5.0, 'colsample_bytree': 0.01, 'alpha': 13}, {'subsample': 0.8, 'min_child_weight': 10, 'max_depth': 15, 'learning_rate': 0.41683333333333333, 'gamma': 3.336666666666667, 'colsample_bytree': 0.7, 'alpha': 5}, {'subsample': 0.6, 'min_child_weight': 10, 'max_depth': 19, 'learning_rate': 0.2505, 'gamma': 3.8911111111111114, 'colsample_bytree': 0.47, 'alpha': 3}, {'subsample': 1.0, 'min_child_weight': 5, 'max_depth': 7, 'learning_rate': 0.29208333333333336, 'gamma': 1.118888888888889, 'colsample_bytree': 0.6233333333333333, 'alpha': 8}, {'subsample': 0.6, 'min_child_weight': 10, 'max_depth': 15, 'learning_rate': 0.29208333333333336, 'gamma': 3.336666666666667, 'colsample_bytree': 0.01, 'alpha': 4}, {'subsample': 1.0, 'min_child_weight': 10, 'max_depth': 7, 'learning_rate': 0.2505, 'gamma': 3.8911111111111114, 'colsample_bytree': 0.01, 'alpha': 2}, {'subsample': 0.5, 'min_child_weight': 10, 'max_depth': 17, 'learning_rate': 0.2505, 'gamma': 3.336666666666667, 'colsample_bytree': 0.6233333333333333, 'alpha': 14}, {'subsample': 0.8, 'min_child_weight': 5, 'max_depth': 13, 'learning_rate': 0.12575, 'gamma': 3.8911111111111114, 'colsample_bytree': 0.24, 'alpha': 3}, {'subsample': 0.5, 'min_child_weight': 7, 'max_depth': 15, 'learning_rate': 0.12575, 'gamma': 5.0, 'colsample_bytree': 0.01, 'alpha': 12}, {'subsample': 0.6, 'min_child_weight': 5, 'max_depth': 19, 'learning_rate': 0.001, 'gamma': 3.336666666666667, 'colsample_bytree': 0.16333333333333333, 'alpha': 12}, {'subsample': 0.5, 'min_child_weight': 1, 'max_depth': 1, 'learning_rate': 0.12575, 'gamma': 2.7822222222222224, 'colsample_bytree': 0.5466666666666666, 'alpha': 12}, {'subsample': 0.5, 'min_child_weight': 5, 'max_depth': 1, 'learning_rate': 0.33366666666666667, 'gamma': 4.445555555555556, 'colsample_bytree': 0.24, 'alpha': 4}, {'subsample': 0.5, 'min_child_weight': 10, 'max_depth': 1, 'learning_rate': 0.4584166666666667, 'gamma': 2.7822222222222224, 'colsample_bytree': 0.7, 'alpha': 5}, {'subsample': 0.6, 'min_child_weight': 1, 'max_depth': 7, 'learning_rate': 0.2505, 'gamma': 3.336666666666667, 'colsample_bytree': 0.16333333333333333, 'alpha': 9}, {'subsample': 0.5, 'min_child_weight': 7, 'max_depth': 9, 'learning_rate': 0.2505, 'gamma': 5.0, 'colsample_bytree': 0.24, 'alpha': 1}, {'subsample': 0.5, 'min_child_weight': 5, 'max_depth': 15, 'learning_rate': 0.042583333333333334, 'gamma': 5.0, 'colsample_bytree': 0.01, 'alpha': 8}, {'subsample': 0.6, 'min_child_weight': 7, 'max_depth': 11, 'learning_rate': 0.16733333333333333, 'gamma': 4.445555555555556, 'colsample_bytree': 0.24, 'alpha': 6}, {'subsample': 0.6, 'min_child_weight': 5, 'max_depth': 19, 'learning_rate': 0.37525, 'gamma': 4.445555555555556, 'colsample_bytree': 0.5466666666666666, 'alpha': 1}, {'subsample': 0.6, 'min_child_weight': 7, 'max_depth': 1, 'learning_rate': 0.16733333333333333, 'gamma': 1.118888888888889, 'colsample_bytree': 0.31666666666666665, 'alpha': 9}, {'subsample': 0.8, 'min_child_weight': 7, 'max_depth': 9, 'learning_rate': 0.5, 'gamma': 1.6733333333333336, 'colsample_bytree': 0.5466666666666666, 'alpha': 14}], 'split0_test_score': array([-4.60940560e+07, -1.58568371e+07, -2.28787454e+07, -1.76079994e+07,\n",
            "       -1.47118534e+07, -9.19576107e+07, -1.63370580e+07, -1.75530611e+07,\n",
            "       -1.45357953e+07, -6.97243955e+07, -7.43613657e+07, -1.33542846e+07,\n",
            "       -1.34508305e+07, -1.72168203e+07, -6.03052432e+07, -5.93011153e+07,\n",
            "       -1.37147572e+07, -1.83141745e+07, -8.10194212e+07, -4.76922951e+08,\n",
            "       -6.34364253e+07, -4.76994508e+07, -4.23841080e+07, -2.06803381e+07,\n",
            "       -1.75166187e+07, -1.01327712e+08, -1.80788631e+07, -1.37807044e+07,\n",
            "       -5.92324001e+07, -1.40125606e+07]), 'split1_test_score': array([-4.56787062e+07, -1.57988675e+07, -2.27662517e+07, -1.75545831e+07,\n",
            "       -1.46850258e+07, -9.12787329e+07, -1.61574304e+07, -1.75733908e+07,\n",
            "       -1.43820305e+07, -6.92465797e+07, -7.35334492e+07, -1.33801737e+07,\n",
            "       -1.34006662e+07, -1.70669116e+07, -5.96468996e+07, -5.90500642e+07,\n",
            "       -1.36230270e+07, -1.83540161e+07, -8.03552443e+07, -4.75536324e+08,\n",
            "       -6.29761921e+07, -4.73963969e+07, -4.19731443e+07, -2.01047383e+07,\n",
            "       -1.75121952e+07, -1.00609466e+08, -1.80182752e+07, -1.38115349e+07,\n",
            "       -5.88073239e+07, -1.39200156e+07]), 'mean_test_score': array([-4.58863811e+07, -1.58278523e+07, -2.28224986e+07, -1.75812912e+07,\n",
            "       -1.46984396e+07, -9.16181718e+07, -1.62472442e+07, -1.75632259e+07,\n",
            "       -1.44589129e+07, -6.94854876e+07, -7.39474074e+07, -1.33672291e+07,\n",
            "       -1.34257484e+07, -1.71418659e+07, -5.99760714e+07, -5.91755898e+07,\n",
            "       -1.36688921e+07, -1.83340953e+07, -8.06873327e+07, -4.76229638e+08,\n",
            "       -6.32063087e+07, -4.75479239e+07, -4.21786261e+07, -2.03925382e+07,\n",
            "       -1.75144069e+07, -1.00968589e+08, -1.80485691e+07, -1.37961197e+07,\n",
            "       -5.90198620e+07, -1.39662881e+07]), 'std_test_score': array([207674.91969102,  28984.80988395,  56246.82410811,  26708.16306651,\n",
            "        13413.80689548, 339438.8711796 ,  89813.80131798,  10164.86801644,\n",
            "        76882.37705072, 238907.93437482, 413958.26640818,  12944.54691021,\n",
            "        25082.15470204,  74954.31662885, 329171.79973038, 125525.53659115,\n",
            "        45865.10176098,  19920.7884212 , 332088.4762094 , 693313.5096947 ,\n",
            "       230116.58193329, 151526.95116366, 205481.84420161, 287799.8845911 ,\n",
            "         2211.75600667, 359123.27529842,  30293.94387865,  15415.25164117,\n",
            "       212538.1061682 ,  46272.50694157]), 'rank_test_score': array([19,  8, 17, 13,  7, 28,  9, 12,  6, 25, 26,  1,  2, 10, 23, 22,  3,\n",
            "       15, 27, 30, 24, 20, 18, 16, 11, 29, 14,  4, 21,  5], dtype=int32)}\n",
            "\n",
            " Best estimator:\n",
            "XGBRegressor(alpha=5, colsample_bytree=0.7, gamma=3.336666666666667,\n",
            "             learning_rate=0.41683333333333333, max_depth=15,\n",
            "             min_child_weight=10, subsample=0.8, verbosity=0)\n",
            "\n",
            " Best normalized gini score for 2-fold search with 30 parameter combinations:\n",
            "-26734459.263635665\n",
            "\n",
            " Best hyperparameters:\n",
            "{'subsample': 0.8, 'min_child_weight': 10, 'max_depth': 15, 'learning_rate': 0.41683333333333333, 'gamma': 3.336666666666667, 'colsample_bytree': 0.7, 'alpha': 5}\n"
          ]
        }
      ]
    },
    {
      "cell_type": "code",
      "source": [
        "xgb_best= xg.XGBRegressor(alpha=6, colsample_bytree=0.22777777777777777,\n",
        "             gamma=0.5644444444444445, learning_rate=0.5, max_depth=19,\n",
        "             min_child_weight=10, subsample=0.8, verbosity=0)\n",
        "xgb_best.fit(XTrain, yTrain)\n",
        "pred_best=xgb_best.predict(XTest)\n",
        "# RMSE Computation\n",
        "rmse_base = np.sqrt(MSE(yTest, pred_best))\n",
        "print(\"RMSE : % f\" %(rmse_base))"
      ],
      "metadata": {
        "id": "IRSwaAM22AnI",
        "colab": {
          "base_uri": "https://localhost:8080/"
        },
        "outputId": "b00d8979-45d4-4658-a20e-863adb98c899"
      },
      "execution_count": 278,
      "outputs": [
        {
          "output_type": "stream",
          "name": "stdout",
          "text": [
            "RMSE :  3684.410987\n"
          ]
        }
      ]
    },
    {
      "cell_type": "code",
      "source": [
        "xgb_best_2= xg.XGBRegressor(alpha=1, colsample_bytree=0.44555555555555554, gamma=0.01,\n",
        "             learning_rate=0.2782222222222222, max_depth=17,\n",
        "             min_child_weight=10, subsample=0.5, verbosity=0)\n",
        "\n",
        "xgb_best_2.fit(XTrain, yTrain)\n",
        "pred_best=xgb_best_2.predict(XTest)\n",
        "# RMSE Computation\n",
        "rmse_base = np.sqrt(MSE(yTest, pred_best))\n",
        "print(\"RMSE : % f\" %(rmse_base))"
      ],
      "metadata": {
        "id": "x0FAN0Rt79bz"
      },
      "execution_count": null,
      "outputs": []
    },
    {
      "cell_type": "code",
      "source": [
        "df_test['Price']=pred_best_2"
      ],
      "metadata": {
        "id": "pxtZZzHl_WzB"
      },
      "execution_count": null,
      "outputs": []
    },
    {
      "cell_type": "code",
      "source": [
        "df_test.head(10)"
      ],
      "metadata": {
        "id": "hSDxgzuG_e_A"
      },
      "execution_count": null,
      "outputs": []
    },
    {
      "cell_type": "code",
      "source": [
        "df_test[['ID','Price']].to_csv('predictions_2.csv')"
      ],
      "metadata": {
        "id": "Jg5_cn5p_bX4"
      },
      "execution_count": null,
      "outputs": []
    },
    {
      "cell_type": "code",
      "source": [
        "plt.barh( xgb.feature_importances_)"
      ],
      "metadata": {
        "id": "gh7LRzRYCMFz"
      },
      "execution_count": null,
      "outputs": []
    },
    {
      "cell_type": "code",
      "source": [
        ""
      ],
      "metadata": {
        "id": "vAZ_rfLqNsRo"
      },
      "execution_count": null,
      "outputs": []
    },
    {
      "cell_type": "code",
      "source": [
        "\n",
        "xgb_best_3= xg.XGBRegressor(alpha=5, colsample_bytree=0.7, gamma=3.336666666666667,\n",
        "             learning_rate=0.41683333333333333, max_depth=15,\n",
        "             min_child_weight=10, subsample=0.8, verbosity=0)\n",
        "\n",
        "xgb_best_3.fit(XTrain, yTrain)\n",
        "pred_best_3=xgb_best_3.predict(XTest)\n",
        "# RMSE Computation\n",
        "rmse_base = np.sqrt(MSE(yTest, pred_best))\n",
        "print(\"RMSE : % f\" %(rmse_base))"
      ],
      "metadata": {
        "colab": {
          "base_uri": "https://localhost:8080/"
        },
        "id": "CZVkLuxXNcEv",
        "outputId": "a68e4cae-0780-4796-bd01-904a4c3fa938"
      },
      "execution_count": 281,
      "outputs": [
        {
          "output_type": "stream",
          "name": "stdout",
          "text": [
            "RMSE :  3634.826646\n"
          ]
        }
      ]
    },
    {
      "cell_type": "code",
      "source": [
        "pred_best_3=xgb_best_3.predict(X_test_preprocesses)\n"
      ],
      "metadata": {
        "id": "KLFkO1IzOwj5"
      },
      "execution_count": 285,
      "outputs": []
    },
    {
      "cell_type": "code",
      "source": [
        "df_test['Price']=pred_best_3\n",
        "df_test.head(10)"
      ],
      "metadata": {
        "colab": {
          "base_uri": "https://localhost:8080/",
          "height": 363
        },
        "id": "CAPPW8iPNuio",
        "outputId": "bf51594b-4859-442a-d733-7f0050d17dc0"
      },
      "execution_count": 286,
      "outputs": [
        {
          "output_type": "execute_result",
          "data": {
            "text/plain": [
              "   ID  Year  Mileage State       Make           Model  car_age  \\\n",
              "0   0  2014    31909    MD     Nissan       MuranoAWD        8   \n",
              "1   1  2017     5362    FL       Jeep        Wrangler        5   \n",
              "2   2  2014    50300    OH       Ford     FlexLimited        8   \n",
              "3   3  2004   132160    WA        BMW               5       18   \n",
              "4   4  2015    25226    MA       Jeep           Grand        7   \n",
              "5   5  2017    25684    AZ  Chevrolet      CruzeSedan        5   \n",
              "6   6  2016    56126    AZ        Kia       SorentoEX        6   \n",
              "7   7  2015    28767    FL      Lexus              IS        7   \n",
              "8   8  2015    58981    TX  Chevrolet     Suburban4WD        7   \n",
              "9   9  2016    20807    NJ    Hyundai  ElantraLimited        6   \n",
              "\n",
              "   mileage_by_year  make_avg_mileage_year         Price  \n",
              "0      3988.625000            6650.718995  21204.878906  \n",
              "1      1072.400000            5525.671323  34732.261719  \n",
              "2      6287.500000            6203.181461  24642.048828  \n",
              "3      7342.222222            5147.905267   8699.434570  \n",
              "4      3603.714286            5525.671323  29731.923828  \n",
              "5      5136.800000            5879.912406  16047.751953  \n",
              "6      9354.333333            5399.867630  23125.154297  \n",
              "7      4109.571429            5425.111982  28099.013672  \n",
              "8      8425.857143            5879.912406  44411.468750  \n",
              "9      3467.833333            5933.319089  15687.934570  "
            ],
            "text/html": [
              "\n",
              "  <div id=\"df-9eb8dad0-8afe-4aaa-b7eb-3980fbc14c8b\">\n",
              "    <div class=\"colab-df-container\">\n",
              "      <div>\n",
              "<style scoped>\n",
              "    .dataframe tbody tr th:only-of-type {\n",
              "        vertical-align: middle;\n",
              "    }\n",
              "\n",
              "    .dataframe tbody tr th {\n",
              "        vertical-align: top;\n",
              "    }\n",
              "\n",
              "    .dataframe thead th {\n",
              "        text-align: right;\n",
              "    }\n",
              "</style>\n",
              "<table border=\"1\" class=\"dataframe\">\n",
              "  <thead>\n",
              "    <tr style=\"text-align: right;\">\n",
              "      <th></th>\n",
              "      <th>ID</th>\n",
              "      <th>Year</th>\n",
              "      <th>Mileage</th>\n",
              "      <th>State</th>\n",
              "      <th>Make</th>\n",
              "      <th>Model</th>\n",
              "      <th>car_age</th>\n",
              "      <th>mileage_by_year</th>\n",
              "      <th>make_avg_mileage_year</th>\n",
              "      <th>Price</th>\n",
              "    </tr>\n",
              "  </thead>\n",
              "  <tbody>\n",
              "    <tr>\n",
              "      <th>0</th>\n",
              "      <td>0</td>\n",
              "      <td>2014</td>\n",
              "      <td>31909</td>\n",
              "      <td>MD</td>\n",
              "      <td>Nissan</td>\n",
              "      <td>MuranoAWD</td>\n",
              "      <td>8</td>\n",
              "      <td>3988.625000</td>\n",
              "      <td>6650.718995</td>\n",
              "      <td>21204.878906</td>\n",
              "    </tr>\n",
              "    <tr>\n",
              "      <th>1</th>\n",
              "      <td>1</td>\n",
              "      <td>2017</td>\n",
              "      <td>5362</td>\n",
              "      <td>FL</td>\n",
              "      <td>Jeep</td>\n",
              "      <td>Wrangler</td>\n",
              "      <td>5</td>\n",
              "      <td>1072.400000</td>\n",
              "      <td>5525.671323</td>\n",
              "      <td>34732.261719</td>\n",
              "    </tr>\n",
              "    <tr>\n",
              "      <th>2</th>\n",
              "      <td>2</td>\n",
              "      <td>2014</td>\n",
              "      <td>50300</td>\n",
              "      <td>OH</td>\n",
              "      <td>Ford</td>\n",
              "      <td>FlexLimited</td>\n",
              "      <td>8</td>\n",
              "      <td>6287.500000</td>\n",
              "      <td>6203.181461</td>\n",
              "      <td>24642.048828</td>\n",
              "    </tr>\n",
              "    <tr>\n",
              "      <th>3</th>\n",
              "      <td>3</td>\n",
              "      <td>2004</td>\n",
              "      <td>132160</td>\n",
              "      <td>WA</td>\n",
              "      <td>BMW</td>\n",
              "      <td>5</td>\n",
              "      <td>18</td>\n",
              "      <td>7342.222222</td>\n",
              "      <td>5147.905267</td>\n",
              "      <td>8699.434570</td>\n",
              "    </tr>\n",
              "    <tr>\n",
              "      <th>4</th>\n",
              "      <td>4</td>\n",
              "      <td>2015</td>\n",
              "      <td>25226</td>\n",
              "      <td>MA</td>\n",
              "      <td>Jeep</td>\n",
              "      <td>Grand</td>\n",
              "      <td>7</td>\n",
              "      <td>3603.714286</td>\n",
              "      <td>5525.671323</td>\n",
              "      <td>29731.923828</td>\n",
              "    </tr>\n",
              "    <tr>\n",
              "      <th>5</th>\n",
              "      <td>5</td>\n",
              "      <td>2017</td>\n",
              "      <td>25684</td>\n",
              "      <td>AZ</td>\n",
              "      <td>Chevrolet</td>\n",
              "      <td>CruzeSedan</td>\n",
              "      <td>5</td>\n",
              "      <td>5136.800000</td>\n",
              "      <td>5879.912406</td>\n",
              "      <td>16047.751953</td>\n",
              "    </tr>\n",
              "    <tr>\n",
              "      <th>6</th>\n",
              "      <td>6</td>\n",
              "      <td>2016</td>\n",
              "      <td>56126</td>\n",
              "      <td>AZ</td>\n",
              "      <td>Kia</td>\n",
              "      <td>SorentoEX</td>\n",
              "      <td>6</td>\n",
              "      <td>9354.333333</td>\n",
              "      <td>5399.867630</td>\n",
              "      <td>23125.154297</td>\n",
              "    </tr>\n",
              "    <tr>\n",
              "      <th>7</th>\n",
              "      <td>7</td>\n",
              "      <td>2015</td>\n",
              "      <td>28767</td>\n",
              "      <td>FL</td>\n",
              "      <td>Lexus</td>\n",
              "      <td>IS</td>\n",
              "      <td>7</td>\n",
              "      <td>4109.571429</td>\n",
              "      <td>5425.111982</td>\n",
              "      <td>28099.013672</td>\n",
              "    </tr>\n",
              "    <tr>\n",
              "      <th>8</th>\n",
              "      <td>8</td>\n",
              "      <td>2015</td>\n",
              "      <td>58981</td>\n",
              "      <td>TX</td>\n",
              "      <td>Chevrolet</td>\n",
              "      <td>Suburban4WD</td>\n",
              "      <td>7</td>\n",
              "      <td>8425.857143</td>\n",
              "      <td>5879.912406</td>\n",
              "      <td>44411.468750</td>\n",
              "    </tr>\n",
              "    <tr>\n",
              "      <th>9</th>\n",
              "      <td>9</td>\n",
              "      <td>2016</td>\n",
              "      <td>20807</td>\n",
              "      <td>NJ</td>\n",
              "      <td>Hyundai</td>\n",
              "      <td>ElantraLimited</td>\n",
              "      <td>6</td>\n",
              "      <td>3467.833333</td>\n",
              "      <td>5933.319089</td>\n",
              "      <td>15687.934570</td>\n",
              "    </tr>\n",
              "  </tbody>\n",
              "</table>\n",
              "</div>\n",
              "      <button class=\"colab-df-convert\" onclick=\"convertToInteractive('df-9eb8dad0-8afe-4aaa-b7eb-3980fbc14c8b')\"\n",
              "              title=\"Convert this dataframe to an interactive table.\"\n",
              "              style=\"display:none;\">\n",
              "        \n",
              "  <svg xmlns=\"http://www.w3.org/2000/svg\" height=\"24px\"viewBox=\"0 0 24 24\"\n",
              "       width=\"24px\">\n",
              "    <path d=\"M0 0h24v24H0V0z\" fill=\"none\"/>\n",
              "    <path d=\"M18.56 5.44l.94 2.06.94-2.06 2.06-.94-2.06-.94-.94-2.06-.94 2.06-2.06.94zm-11 1L8.5 8.5l.94-2.06 2.06-.94-2.06-.94L8.5 2.5l-.94 2.06-2.06.94zm10 10l.94 2.06.94-2.06 2.06-.94-2.06-.94-.94-2.06-.94 2.06-2.06.94z\"/><path d=\"M17.41 7.96l-1.37-1.37c-.4-.4-.92-.59-1.43-.59-.52 0-1.04.2-1.43.59L10.3 9.45l-7.72 7.72c-.78.78-.78 2.05 0 2.83L4 21.41c.39.39.9.59 1.41.59.51 0 1.02-.2 1.41-.59l7.78-7.78 2.81-2.81c.8-.78.8-2.07 0-2.86zM5.41 20L4 18.59l7.72-7.72 1.47 1.35L5.41 20z\"/>\n",
              "  </svg>\n",
              "      </button>\n",
              "      \n",
              "  <style>\n",
              "    .colab-df-container {\n",
              "      display:flex;\n",
              "      flex-wrap:wrap;\n",
              "      gap: 12px;\n",
              "    }\n",
              "\n",
              "    .colab-df-convert {\n",
              "      background-color: #E8F0FE;\n",
              "      border: none;\n",
              "      border-radius: 50%;\n",
              "      cursor: pointer;\n",
              "      display: none;\n",
              "      fill: #1967D2;\n",
              "      height: 32px;\n",
              "      padding: 0 0 0 0;\n",
              "      width: 32px;\n",
              "    }\n",
              "\n",
              "    .colab-df-convert:hover {\n",
              "      background-color: #E2EBFA;\n",
              "      box-shadow: 0px 1px 2px rgba(60, 64, 67, 0.3), 0px 1px 3px 1px rgba(60, 64, 67, 0.15);\n",
              "      fill: #174EA6;\n",
              "    }\n",
              "\n",
              "    [theme=dark] .colab-df-convert {\n",
              "      background-color: #3B4455;\n",
              "      fill: #D2E3FC;\n",
              "    }\n",
              "\n",
              "    [theme=dark] .colab-df-convert:hover {\n",
              "      background-color: #434B5C;\n",
              "      box-shadow: 0px 1px 3px 1px rgba(0, 0, 0, 0.15);\n",
              "      filter: drop-shadow(0px 1px 2px rgba(0, 0, 0, 0.3));\n",
              "      fill: #FFFFFF;\n",
              "    }\n",
              "  </style>\n",
              "\n",
              "      <script>\n",
              "        const buttonEl =\n",
              "          document.querySelector('#df-9eb8dad0-8afe-4aaa-b7eb-3980fbc14c8b button.colab-df-convert');\n",
              "        buttonEl.style.display =\n",
              "          google.colab.kernel.accessAllowed ? 'block' : 'none';\n",
              "\n",
              "        async function convertToInteractive(key) {\n",
              "          const element = document.querySelector('#df-9eb8dad0-8afe-4aaa-b7eb-3980fbc14c8b');\n",
              "          const dataTable =\n",
              "            await google.colab.kernel.invokeFunction('convertToInteractive',\n",
              "                                                     [key], {});\n",
              "          if (!dataTable) return;\n",
              "\n",
              "          const docLinkHtml = 'Like what you see? Visit the ' +\n",
              "            '<a target=\"_blank\" href=https://colab.research.google.com/notebooks/data_table.ipynb>data table notebook</a>'\n",
              "            + ' to learn more about interactive tables.';\n",
              "          element.innerHTML = '';\n",
              "          dataTable['output_type'] = 'display_data';\n",
              "          await google.colab.output.renderOutput(dataTable, element);\n",
              "          const docLink = document.createElement('div');\n",
              "          docLink.innerHTML = docLinkHtml;\n",
              "          element.appendChild(docLink);\n",
              "        }\n",
              "      </script>\n",
              "    </div>\n",
              "  </div>\n",
              "  "
            ]
          },
          "metadata": {},
          "execution_count": 286
        }
      ]
    },
    {
      "cell_type": "code",
      "source": [
        "df_test[['ID','Price']].to_csv('predictions_best_3.csv')"
      ],
      "metadata": {
        "id": "Ue9edZhZOg0S"
      },
      "execution_count": 287,
      "outputs": []
    },
    {
      "cell_type": "code",
      "source": [
        ""
      ],
      "metadata": {
        "id": "M_t45_jlO6wy"
      },
      "execution_count": null,
      "outputs": []
    }
  ]
}
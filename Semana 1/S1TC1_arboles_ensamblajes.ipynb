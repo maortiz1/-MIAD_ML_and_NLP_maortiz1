{
  "cells": [
    {
      "cell_type": "markdown",
      "metadata": {
        "id": "EzNG35tLjXCI"
      },
      "source": [
        "![image info](https://raw.githubusercontent.com/albahnsen/MIAD_ML_and_NLP/main/images/banner_1.png)"
      ]
    },
    {
      "cell_type": "markdown",
      "metadata": {
        "id": "vzkKC2UOjXCJ"
      },
      "source": [
        "# Taller: Construcción e implementación de árboles de decisión y métodos de ensamblaje\n",
        "\n",
        "En este taller podrá poner en práctica los sus conocimientos sobre construcción e implementación de árboles de decisión y métodos de ensamblajes. El taller está constituido por 9 puntos, 5 relacionados con árboles de decisión (parte A) y 4 con métodos de ensamblaje (parte B)."
      ]
    },
    {
      "cell_type": "markdown",
      "metadata": {
        "id": "cHEcV0tkjXCK"
      },
      "source": [
        "## Parte A - Árboles de decisión\n",
        "\n",
        "En esta parte del taller se usará el conjunto de datos de Capital Bikeshare de Kaggle, donde cada observación representa el alquiler de una bicicleta durante una hora y día determinado. Para más detalles puede visitar los siguientes enlaces: [datos](https://github.com/justmarkham/DAT8/blob/master/data/bikeshare.csv), [dicccionario de datos](https://www.kaggle.com/c/bike-sharing-demand/data)."
      ]
    },
    {
      "cell_type": "markdown",
      "metadata": {
        "id": "QNumvOs0jXCK"
      },
      "source": [
        "### Datos prestamo de bicicletas"
      ]
    },
    {
      "cell_type": "code",
      "execution_count": 31,
      "metadata": {
        "id": "Nm1ksjwsjXCK"
      },
      "outputs": [],
      "source": [
        "import warnings\n",
        "warnings.filterwarnings('ignore')"
      ]
    },
    {
      "cell_type": "code",
      "execution_count": 32,
      "metadata": {
        "id": "1VPfD4vnjXCL"
      },
      "outputs": [],
      "source": [
        "# Importación de librerías\n",
        "%matplotlib inline\n",
        "import pandas as pd\n",
        "import numpy as np\n",
        "from sklearn.model_selection import cross_val_score\n",
        "from sklearn.linear_model import LinearRegression\n",
        "from sklearn.tree import DecisionTreeRegressor, export_graphviz"
      ]
    },
    {
      "cell_type": "code",
      "execution_count": 33,
      "metadata": {
        "colab": {
          "base_uri": "https://localhost:8080/",
          "height": 0
        },
        "id": "4aswLrdxjXCL",
        "outputId": "b5a02606-08f4-4e4d-e6aa-6a61f097c09f"
      },
      "outputs": [
        {
          "output_type": "execute_result",
          "data": {
            "text/plain": [
              "                     season  holiday  workingday  weather  temp   atemp  \\\n",
              "datetime                                                                  \n",
              "2011-01-01 00:00:00       1        0           0        1  9.84  14.395   \n",
              "2011-01-01 01:00:00       1        0           0        1  9.02  13.635   \n",
              "2011-01-01 02:00:00       1        0           0        1  9.02  13.635   \n",
              "2011-01-01 03:00:00       1        0           0        1  9.84  14.395   \n",
              "2011-01-01 04:00:00       1        0           0        1  9.84  14.395   \n",
              "\n",
              "                     humidity  windspeed  casual  registered  total  hour  \n",
              "datetime                                                                   \n",
              "2011-01-01 00:00:00        81        0.0       3          13     16     0  \n",
              "2011-01-01 01:00:00        80        0.0       8          32     40     1  \n",
              "2011-01-01 02:00:00        80        0.0       5          27     32     2  \n",
              "2011-01-01 03:00:00        75        0.0       3          10     13     3  \n",
              "2011-01-01 04:00:00        75        0.0       0           1      1     4  "
            ],
            "text/html": [
              "\n",
              "  <div id=\"df-123d03e0-c7b8-4afc-83b2-20092e8ff5b6\">\n",
              "    <div class=\"colab-df-container\">\n",
              "      <div>\n",
              "<style scoped>\n",
              "    .dataframe tbody tr th:only-of-type {\n",
              "        vertical-align: middle;\n",
              "    }\n",
              "\n",
              "    .dataframe tbody tr th {\n",
              "        vertical-align: top;\n",
              "    }\n",
              "\n",
              "    .dataframe thead th {\n",
              "        text-align: right;\n",
              "    }\n",
              "</style>\n",
              "<table border=\"1\" class=\"dataframe\">\n",
              "  <thead>\n",
              "    <tr style=\"text-align: right;\">\n",
              "      <th></th>\n",
              "      <th>season</th>\n",
              "      <th>holiday</th>\n",
              "      <th>workingday</th>\n",
              "      <th>weather</th>\n",
              "      <th>temp</th>\n",
              "      <th>atemp</th>\n",
              "      <th>humidity</th>\n",
              "      <th>windspeed</th>\n",
              "      <th>casual</th>\n",
              "      <th>registered</th>\n",
              "      <th>total</th>\n",
              "      <th>hour</th>\n",
              "    </tr>\n",
              "    <tr>\n",
              "      <th>datetime</th>\n",
              "      <th></th>\n",
              "      <th></th>\n",
              "      <th></th>\n",
              "      <th></th>\n",
              "      <th></th>\n",
              "      <th></th>\n",
              "      <th></th>\n",
              "      <th></th>\n",
              "      <th></th>\n",
              "      <th></th>\n",
              "      <th></th>\n",
              "      <th></th>\n",
              "    </tr>\n",
              "  </thead>\n",
              "  <tbody>\n",
              "    <tr>\n",
              "      <th>2011-01-01 00:00:00</th>\n",
              "      <td>1</td>\n",
              "      <td>0</td>\n",
              "      <td>0</td>\n",
              "      <td>1</td>\n",
              "      <td>9.84</td>\n",
              "      <td>14.395</td>\n",
              "      <td>81</td>\n",
              "      <td>0.0</td>\n",
              "      <td>3</td>\n",
              "      <td>13</td>\n",
              "      <td>16</td>\n",
              "      <td>0</td>\n",
              "    </tr>\n",
              "    <tr>\n",
              "      <th>2011-01-01 01:00:00</th>\n",
              "      <td>1</td>\n",
              "      <td>0</td>\n",
              "      <td>0</td>\n",
              "      <td>1</td>\n",
              "      <td>9.02</td>\n",
              "      <td>13.635</td>\n",
              "      <td>80</td>\n",
              "      <td>0.0</td>\n",
              "      <td>8</td>\n",
              "      <td>32</td>\n",
              "      <td>40</td>\n",
              "      <td>1</td>\n",
              "    </tr>\n",
              "    <tr>\n",
              "      <th>2011-01-01 02:00:00</th>\n",
              "      <td>1</td>\n",
              "      <td>0</td>\n",
              "      <td>0</td>\n",
              "      <td>1</td>\n",
              "      <td>9.02</td>\n",
              "      <td>13.635</td>\n",
              "      <td>80</td>\n",
              "      <td>0.0</td>\n",
              "      <td>5</td>\n",
              "      <td>27</td>\n",
              "      <td>32</td>\n",
              "      <td>2</td>\n",
              "    </tr>\n",
              "    <tr>\n",
              "      <th>2011-01-01 03:00:00</th>\n",
              "      <td>1</td>\n",
              "      <td>0</td>\n",
              "      <td>0</td>\n",
              "      <td>1</td>\n",
              "      <td>9.84</td>\n",
              "      <td>14.395</td>\n",
              "      <td>75</td>\n",
              "      <td>0.0</td>\n",
              "      <td>3</td>\n",
              "      <td>10</td>\n",
              "      <td>13</td>\n",
              "      <td>3</td>\n",
              "    </tr>\n",
              "    <tr>\n",
              "      <th>2011-01-01 04:00:00</th>\n",
              "      <td>1</td>\n",
              "      <td>0</td>\n",
              "      <td>0</td>\n",
              "      <td>1</td>\n",
              "      <td>9.84</td>\n",
              "      <td>14.395</td>\n",
              "      <td>75</td>\n",
              "      <td>0.0</td>\n",
              "      <td>0</td>\n",
              "      <td>1</td>\n",
              "      <td>1</td>\n",
              "      <td>4</td>\n",
              "    </tr>\n",
              "  </tbody>\n",
              "</table>\n",
              "</div>\n",
              "      <button class=\"colab-df-convert\" onclick=\"convertToInteractive('df-123d03e0-c7b8-4afc-83b2-20092e8ff5b6')\"\n",
              "              title=\"Convert this dataframe to an interactive table.\"\n",
              "              style=\"display:none;\">\n",
              "        \n",
              "  <svg xmlns=\"http://www.w3.org/2000/svg\" height=\"24px\"viewBox=\"0 0 24 24\"\n",
              "       width=\"24px\">\n",
              "    <path d=\"M0 0h24v24H0V0z\" fill=\"none\"/>\n",
              "    <path d=\"M18.56 5.44l.94 2.06.94-2.06 2.06-.94-2.06-.94-.94-2.06-.94 2.06-2.06.94zm-11 1L8.5 8.5l.94-2.06 2.06-.94-2.06-.94L8.5 2.5l-.94 2.06-2.06.94zm10 10l.94 2.06.94-2.06 2.06-.94-2.06-.94-.94-2.06-.94 2.06-2.06.94z\"/><path d=\"M17.41 7.96l-1.37-1.37c-.4-.4-.92-.59-1.43-.59-.52 0-1.04.2-1.43.59L10.3 9.45l-7.72 7.72c-.78.78-.78 2.05 0 2.83L4 21.41c.39.39.9.59 1.41.59.51 0 1.02-.2 1.41-.59l7.78-7.78 2.81-2.81c.8-.78.8-2.07 0-2.86zM5.41 20L4 18.59l7.72-7.72 1.47 1.35L5.41 20z\"/>\n",
              "  </svg>\n",
              "      </button>\n",
              "      \n",
              "  <style>\n",
              "    .colab-df-container {\n",
              "      display:flex;\n",
              "      flex-wrap:wrap;\n",
              "      gap: 12px;\n",
              "    }\n",
              "\n",
              "    .colab-df-convert {\n",
              "      background-color: #E8F0FE;\n",
              "      border: none;\n",
              "      border-radius: 50%;\n",
              "      cursor: pointer;\n",
              "      display: none;\n",
              "      fill: #1967D2;\n",
              "      height: 32px;\n",
              "      padding: 0 0 0 0;\n",
              "      width: 32px;\n",
              "    }\n",
              "\n",
              "    .colab-df-convert:hover {\n",
              "      background-color: #E2EBFA;\n",
              "      box-shadow: 0px 1px 2px rgba(60, 64, 67, 0.3), 0px 1px 3px 1px rgba(60, 64, 67, 0.15);\n",
              "      fill: #174EA6;\n",
              "    }\n",
              "\n",
              "    [theme=dark] .colab-df-convert {\n",
              "      background-color: #3B4455;\n",
              "      fill: #D2E3FC;\n",
              "    }\n",
              "\n",
              "    [theme=dark] .colab-df-convert:hover {\n",
              "      background-color: #434B5C;\n",
              "      box-shadow: 0px 1px 3px 1px rgba(0, 0, 0, 0.15);\n",
              "      filter: drop-shadow(0px 1px 2px rgba(0, 0, 0, 0.3));\n",
              "      fill: #FFFFFF;\n",
              "    }\n",
              "  </style>\n",
              "\n",
              "      <script>\n",
              "        const buttonEl =\n",
              "          document.querySelector('#df-123d03e0-c7b8-4afc-83b2-20092e8ff5b6 button.colab-df-convert');\n",
              "        buttonEl.style.display =\n",
              "          google.colab.kernel.accessAllowed ? 'block' : 'none';\n",
              "\n",
              "        async function convertToInteractive(key) {\n",
              "          const element = document.querySelector('#df-123d03e0-c7b8-4afc-83b2-20092e8ff5b6');\n",
              "          const dataTable =\n",
              "            await google.colab.kernel.invokeFunction('convertToInteractive',\n",
              "                                                     [key], {});\n",
              "          if (!dataTable) return;\n",
              "\n",
              "          const docLinkHtml = 'Like what you see? Visit the ' +\n",
              "            '<a target=\"_blank\" href=https://colab.research.google.com/notebooks/data_table.ipynb>data table notebook</a>'\n",
              "            + ' to learn more about interactive tables.';\n",
              "          element.innerHTML = '';\n",
              "          dataTable['output_type'] = 'display_data';\n",
              "          await google.colab.output.renderOutput(dataTable, element);\n",
              "          const docLink = document.createElement('div');\n",
              "          docLink.innerHTML = docLinkHtml;\n",
              "          element.appendChild(docLink);\n",
              "        }\n",
              "      </script>\n",
              "    </div>\n",
              "  </div>\n",
              "  "
            ]
          },
          "metadata": {},
          "execution_count": 33
        }
      ],
      "source": [
        "# Lectura de la información de archivo .csv\n",
        "bikes = pd.read_csv('https://raw.githubusercontent.com/albahnsen/MIAD_ML_and_NLP/main/datasets/bikeshare.csv', index_col='datetime', parse_dates=True)\n",
        "# Renombrar variable \"count\" a \"total\"\n",
        "bikes.rename(columns={'count':'total'}, inplace=True)\n",
        "# Crear la hora como una variable \n",
        "bikes['hour'] = bikes.index.hour\n",
        "# Visualización\n",
        "bikes.head()"
      ]
    },
    {
      "cell_type": "code",
      "source": [
        "bikes.head(20)"
      ],
      "metadata": {
        "colab": {
          "base_uri": "https://localhost:8080/",
          "height": 0
        },
        "id": "LmCi6ur_lOkQ",
        "outputId": "ef74a7e9-ddb1-4b57-af92-c0d8a3f69ff9"
      },
      "execution_count": 34,
      "outputs": [
        {
          "output_type": "execute_result",
          "data": {
            "text/plain": [
              "                     season  holiday  workingday  weather   temp   atemp  \\\n",
              "datetime                                                                   \n",
              "2011-01-01 00:00:00       1        0           0        1   9.84  14.395   \n",
              "2011-01-01 01:00:00       1        0           0        1   9.02  13.635   \n",
              "2011-01-01 02:00:00       1        0           0        1   9.02  13.635   \n",
              "2011-01-01 03:00:00       1        0           0        1   9.84  14.395   \n",
              "2011-01-01 04:00:00       1        0           0        1   9.84  14.395   \n",
              "2011-01-01 05:00:00       1        0           0        2   9.84  12.880   \n",
              "2011-01-01 06:00:00       1        0           0        1   9.02  13.635   \n",
              "2011-01-01 07:00:00       1        0           0        1   8.20  12.880   \n",
              "2011-01-01 08:00:00       1        0           0        1   9.84  14.395   \n",
              "2011-01-01 09:00:00       1        0           0        1  13.12  17.425   \n",
              "2011-01-01 10:00:00       1        0           0        1  15.58  19.695   \n",
              "2011-01-01 11:00:00       1        0           0        1  14.76  16.665   \n",
              "2011-01-01 12:00:00       1        0           0        1  17.22  21.210   \n",
              "2011-01-01 13:00:00       1        0           0        2  18.86  22.725   \n",
              "2011-01-01 14:00:00       1        0           0        2  18.86  22.725   \n",
              "2011-01-01 15:00:00       1        0           0        2  18.04  21.970   \n",
              "2011-01-01 16:00:00       1        0           0        2  17.22  21.210   \n",
              "2011-01-01 17:00:00       1        0           0        2  18.04  21.970   \n",
              "2011-01-01 18:00:00       1        0           0        3  17.22  21.210   \n",
              "2011-01-01 19:00:00       1        0           0        3  17.22  21.210   \n",
              "\n",
              "                     humidity  windspeed  casual  registered  total  hour  \n",
              "datetime                                                                   \n",
              "2011-01-01 00:00:00        81     0.0000       3          13     16     0  \n",
              "2011-01-01 01:00:00        80     0.0000       8          32     40     1  \n",
              "2011-01-01 02:00:00        80     0.0000       5          27     32     2  \n",
              "2011-01-01 03:00:00        75     0.0000       3          10     13     3  \n",
              "2011-01-01 04:00:00        75     0.0000       0           1      1     4  \n",
              "2011-01-01 05:00:00        75     6.0032       0           1      1     5  \n",
              "2011-01-01 06:00:00        80     0.0000       2           0      2     6  \n",
              "2011-01-01 07:00:00        86     0.0000       1           2      3     7  \n",
              "2011-01-01 08:00:00        75     0.0000       1           7      8     8  \n",
              "2011-01-01 09:00:00        76     0.0000       8           6     14     9  \n",
              "2011-01-01 10:00:00        76    16.9979      12          24     36    10  \n",
              "2011-01-01 11:00:00        81    19.0012      26          30     56    11  \n",
              "2011-01-01 12:00:00        77    19.0012      29          55     84    12  \n",
              "2011-01-01 13:00:00        72    19.9995      47          47     94    13  \n",
              "2011-01-01 14:00:00        72    19.0012      35          71    106    14  \n",
              "2011-01-01 15:00:00        77    19.9995      40          70    110    15  \n",
              "2011-01-01 16:00:00        82    19.9995      41          52     93    16  \n",
              "2011-01-01 17:00:00        82    19.0012      15          52     67    17  \n",
              "2011-01-01 18:00:00        88    16.9979       9          26     35    18  \n",
              "2011-01-01 19:00:00        88    16.9979       6          31     37    19  "
            ],
            "text/html": [
              "\n",
              "  <div id=\"df-6425c106-f215-4359-9308-40b6e43e14ae\">\n",
              "    <div class=\"colab-df-container\">\n",
              "      <div>\n",
              "<style scoped>\n",
              "    .dataframe tbody tr th:only-of-type {\n",
              "        vertical-align: middle;\n",
              "    }\n",
              "\n",
              "    .dataframe tbody tr th {\n",
              "        vertical-align: top;\n",
              "    }\n",
              "\n",
              "    .dataframe thead th {\n",
              "        text-align: right;\n",
              "    }\n",
              "</style>\n",
              "<table border=\"1\" class=\"dataframe\">\n",
              "  <thead>\n",
              "    <tr style=\"text-align: right;\">\n",
              "      <th></th>\n",
              "      <th>season</th>\n",
              "      <th>holiday</th>\n",
              "      <th>workingday</th>\n",
              "      <th>weather</th>\n",
              "      <th>temp</th>\n",
              "      <th>atemp</th>\n",
              "      <th>humidity</th>\n",
              "      <th>windspeed</th>\n",
              "      <th>casual</th>\n",
              "      <th>registered</th>\n",
              "      <th>total</th>\n",
              "      <th>hour</th>\n",
              "    </tr>\n",
              "    <tr>\n",
              "      <th>datetime</th>\n",
              "      <th></th>\n",
              "      <th></th>\n",
              "      <th></th>\n",
              "      <th></th>\n",
              "      <th></th>\n",
              "      <th></th>\n",
              "      <th></th>\n",
              "      <th></th>\n",
              "      <th></th>\n",
              "      <th></th>\n",
              "      <th></th>\n",
              "      <th></th>\n",
              "    </tr>\n",
              "  </thead>\n",
              "  <tbody>\n",
              "    <tr>\n",
              "      <th>2011-01-01 00:00:00</th>\n",
              "      <td>1</td>\n",
              "      <td>0</td>\n",
              "      <td>0</td>\n",
              "      <td>1</td>\n",
              "      <td>9.84</td>\n",
              "      <td>14.395</td>\n",
              "      <td>81</td>\n",
              "      <td>0.0000</td>\n",
              "      <td>3</td>\n",
              "      <td>13</td>\n",
              "      <td>16</td>\n",
              "      <td>0</td>\n",
              "    </tr>\n",
              "    <tr>\n",
              "      <th>2011-01-01 01:00:00</th>\n",
              "      <td>1</td>\n",
              "      <td>0</td>\n",
              "      <td>0</td>\n",
              "      <td>1</td>\n",
              "      <td>9.02</td>\n",
              "      <td>13.635</td>\n",
              "      <td>80</td>\n",
              "      <td>0.0000</td>\n",
              "      <td>8</td>\n",
              "      <td>32</td>\n",
              "      <td>40</td>\n",
              "      <td>1</td>\n",
              "    </tr>\n",
              "    <tr>\n",
              "      <th>2011-01-01 02:00:00</th>\n",
              "      <td>1</td>\n",
              "      <td>0</td>\n",
              "      <td>0</td>\n",
              "      <td>1</td>\n",
              "      <td>9.02</td>\n",
              "      <td>13.635</td>\n",
              "      <td>80</td>\n",
              "      <td>0.0000</td>\n",
              "      <td>5</td>\n",
              "      <td>27</td>\n",
              "      <td>32</td>\n",
              "      <td>2</td>\n",
              "    </tr>\n",
              "    <tr>\n",
              "      <th>2011-01-01 03:00:00</th>\n",
              "      <td>1</td>\n",
              "      <td>0</td>\n",
              "      <td>0</td>\n",
              "      <td>1</td>\n",
              "      <td>9.84</td>\n",
              "      <td>14.395</td>\n",
              "      <td>75</td>\n",
              "      <td>0.0000</td>\n",
              "      <td>3</td>\n",
              "      <td>10</td>\n",
              "      <td>13</td>\n",
              "      <td>3</td>\n",
              "    </tr>\n",
              "    <tr>\n",
              "      <th>2011-01-01 04:00:00</th>\n",
              "      <td>1</td>\n",
              "      <td>0</td>\n",
              "      <td>0</td>\n",
              "      <td>1</td>\n",
              "      <td>9.84</td>\n",
              "      <td>14.395</td>\n",
              "      <td>75</td>\n",
              "      <td>0.0000</td>\n",
              "      <td>0</td>\n",
              "      <td>1</td>\n",
              "      <td>1</td>\n",
              "      <td>4</td>\n",
              "    </tr>\n",
              "    <tr>\n",
              "      <th>2011-01-01 05:00:00</th>\n",
              "      <td>1</td>\n",
              "      <td>0</td>\n",
              "      <td>0</td>\n",
              "      <td>2</td>\n",
              "      <td>9.84</td>\n",
              "      <td>12.880</td>\n",
              "      <td>75</td>\n",
              "      <td>6.0032</td>\n",
              "      <td>0</td>\n",
              "      <td>1</td>\n",
              "      <td>1</td>\n",
              "      <td>5</td>\n",
              "    </tr>\n",
              "    <tr>\n",
              "      <th>2011-01-01 06:00:00</th>\n",
              "      <td>1</td>\n",
              "      <td>0</td>\n",
              "      <td>0</td>\n",
              "      <td>1</td>\n",
              "      <td>9.02</td>\n",
              "      <td>13.635</td>\n",
              "      <td>80</td>\n",
              "      <td>0.0000</td>\n",
              "      <td>2</td>\n",
              "      <td>0</td>\n",
              "      <td>2</td>\n",
              "      <td>6</td>\n",
              "    </tr>\n",
              "    <tr>\n",
              "      <th>2011-01-01 07:00:00</th>\n",
              "      <td>1</td>\n",
              "      <td>0</td>\n",
              "      <td>0</td>\n",
              "      <td>1</td>\n",
              "      <td>8.20</td>\n",
              "      <td>12.880</td>\n",
              "      <td>86</td>\n",
              "      <td>0.0000</td>\n",
              "      <td>1</td>\n",
              "      <td>2</td>\n",
              "      <td>3</td>\n",
              "      <td>7</td>\n",
              "    </tr>\n",
              "    <tr>\n",
              "      <th>2011-01-01 08:00:00</th>\n",
              "      <td>1</td>\n",
              "      <td>0</td>\n",
              "      <td>0</td>\n",
              "      <td>1</td>\n",
              "      <td>9.84</td>\n",
              "      <td>14.395</td>\n",
              "      <td>75</td>\n",
              "      <td>0.0000</td>\n",
              "      <td>1</td>\n",
              "      <td>7</td>\n",
              "      <td>8</td>\n",
              "      <td>8</td>\n",
              "    </tr>\n",
              "    <tr>\n",
              "      <th>2011-01-01 09:00:00</th>\n",
              "      <td>1</td>\n",
              "      <td>0</td>\n",
              "      <td>0</td>\n",
              "      <td>1</td>\n",
              "      <td>13.12</td>\n",
              "      <td>17.425</td>\n",
              "      <td>76</td>\n",
              "      <td>0.0000</td>\n",
              "      <td>8</td>\n",
              "      <td>6</td>\n",
              "      <td>14</td>\n",
              "      <td>9</td>\n",
              "    </tr>\n",
              "    <tr>\n",
              "      <th>2011-01-01 10:00:00</th>\n",
              "      <td>1</td>\n",
              "      <td>0</td>\n",
              "      <td>0</td>\n",
              "      <td>1</td>\n",
              "      <td>15.58</td>\n",
              "      <td>19.695</td>\n",
              "      <td>76</td>\n",
              "      <td>16.9979</td>\n",
              "      <td>12</td>\n",
              "      <td>24</td>\n",
              "      <td>36</td>\n",
              "      <td>10</td>\n",
              "    </tr>\n",
              "    <tr>\n",
              "      <th>2011-01-01 11:00:00</th>\n",
              "      <td>1</td>\n",
              "      <td>0</td>\n",
              "      <td>0</td>\n",
              "      <td>1</td>\n",
              "      <td>14.76</td>\n",
              "      <td>16.665</td>\n",
              "      <td>81</td>\n",
              "      <td>19.0012</td>\n",
              "      <td>26</td>\n",
              "      <td>30</td>\n",
              "      <td>56</td>\n",
              "      <td>11</td>\n",
              "    </tr>\n",
              "    <tr>\n",
              "      <th>2011-01-01 12:00:00</th>\n",
              "      <td>1</td>\n",
              "      <td>0</td>\n",
              "      <td>0</td>\n",
              "      <td>1</td>\n",
              "      <td>17.22</td>\n",
              "      <td>21.210</td>\n",
              "      <td>77</td>\n",
              "      <td>19.0012</td>\n",
              "      <td>29</td>\n",
              "      <td>55</td>\n",
              "      <td>84</td>\n",
              "      <td>12</td>\n",
              "    </tr>\n",
              "    <tr>\n",
              "      <th>2011-01-01 13:00:00</th>\n",
              "      <td>1</td>\n",
              "      <td>0</td>\n",
              "      <td>0</td>\n",
              "      <td>2</td>\n",
              "      <td>18.86</td>\n",
              "      <td>22.725</td>\n",
              "      <td>72</td>\n",
              "      <td>19.9995</td>\n",
              "      <td>47</td>\n",
              "      <td>47</td>\n",
              "      <td>94</td>\n",
              "      <td>13</td>\n",
              "    </tr>\n",
              "    <tr>\n",
              "      <th>2011-01-01 14:00:00</th>\n",
              "      <td>1</td>\n",
              "      <td>0</td>\n",
              "      <td>0</td>\n",
              "      <td>2</td>\n",
              "      <td>18.86</td>\n",
              "      <td>22.725</td>\n",
              "      <td>72</td>\n",
              "      <td>19.0012</td>\n",
              "      <td>35</td>\n",
              "      <td>71</td>\n",
              "      <td>106</td>\n",
              "      <td>14</td>\n",
              "    </tr>\n",
              "    <tr>\n",
              "      <th>2011-01-01 15:00:00</th>\n",
              "      <td>1</td>\n",
              "      <td>0</td>\n",
              "      <td>0</td>\n",
              "      <td>2</td>\n",
              "      <td>18.04</td>\n",
              "      <td>21.970</td>\n",
              "      <td>77</td>\n",
              "      <td>19.9995</td>\n",
              "      <td>40</td>\n",
              "      <td>70</td>\n",
              "      <td>110</td>\n",
              "      <td>15</td>\n",
              "    </tr>\n",
              "    <tr>\n",
              "      <th>2011-01-01 16:00:00</th>\n",
              "      <td>1</td>\n",
              "      <td>0</td>\n",
              "      <td>0</td>\n",
              "      <td>2</td>\n",
              "      <td>17.22</td>\n",
              "      <td>21.210</td>\n",
              "      <td>82</td>\n",
              "      <td>19.9995</td>\n",
              "      <td>41</td>\n",
              "      <td>52</td>\n",
              "      <td>93</td>\n",
              "      <td>16</td>\n",
              "    </tr>\n",
              "    <tr>\n",
              "      <th>2011-01-01 17:00:00</th>\n",
              "      <td>1</td>\n",
              "      <td>0</td>\n",
              "      <td>0</td>\n",
              "      <td>2</td>\n",
              "      <td>18.04</td>\n",
              "      <td>21.970</td>\n",
              "      <td>82</td>\n",
              "      <td>19.0012</td>\n",
              "      <td>15</td>\n",
              "      <td>52</td>\n",
              "      <td>67</td>\n",
              "      <td>17</td>\n",
              "    </tr>\n",
              "    <tr>\n",
              "      <th>2011-01-01 18:00:00</th>\n",
              "      <td>1</td>\n",
              "      <td>0</td>\n",
              "      <td>0</td>\n",
              "      <td>3</td>\n",
              "      <td>17.22</td>\n",
              "      <td>21.210</td>\n",
              "      <td>88</td>\n",
              "      <td>16.9979</td>\n",
              "      <td>9</td>\n",
              "      <td>26</td>\n",
              "      <td>35</td>\n",
              "      <td>18</td>\n",
              "    </tr>\n",
              "    <tr>\n",
              "      <th>2011-01-01 19:00:00</th>\n",
              "      <td>1</td>\n",
              "      <td>0</td>\n",
              "      <td>0</td>\n",
              "      <td>3</td>\n",
              "      <td>17.22</td>\n",
              "      <td>21.210</td>\n",
              "      <td>88</td>\n",
              "      <td>16.9979</td>\n",
              "      <td>6</td>\n",
              "      <td>31</td>\n",
              "      <td>37</td>\n",
              "      <td>19</td>\n",
              "    </tr>\n",
              "  </tbody>\n",
              "</table>\n",
              "</div>\n",
              "      <button class=\"colab-df-convert\" onclick=\"convertToInteractive('df-6425c106-f215-4359-9308-40b6e43e14ae')\"\n",
              "              title=\"Convert this dataframe to an interactive table.\"\n",
              "              style=\"display:none;\">\n",
              "        \n",
              "  <svg xmlns=\"http://www.w3.org/2000/svg\" height=\"24px\"viewBox=\"0 0 24 24\"\n",
              "       width=\"24px\">\n",
              "    <path d=\"M0 0h24v24H0V0z\" fill=\"none\"/>\n",
              "    <path d=\"M18.56 5.44l.94 2.06.94-2.06 2.06-.94-2.06-.94-.94-2.06-.94 2.06-2.06.94zm-11 1L8.5 8.5l.94-2.06 2.06-.94-2.06-.94L8.5 2.5l-.94 2.06-2.06.94zm10 10l.94 2.06.94-2.06 2.06-.94-2.06-.94-.94-2.06-.94 2.06-2.06.94z\"/><path d=\"M17.41 7.96l-1.37-1.37c-.4-.4-.92-.59-1.43-.59-.52 0-1.04.2-1.43.59L10.3 9.45l-7.72 7.72c-.78.78-.78 2.05 0 2.83L4 21.41c.39.39.9.59 1.41.59.51 0 1.02-.2 1.41-.59l7.78-7.78 2.81-2.81c.8-.78.8-2.07 0-2.86zM5.41 20L4 18.59l7.72-7.72 1.47 1.35L5.41 20z\"/>\n",
              "  </svg>\n",
              "      </button>\n",
              "      \n",
              "  <style>\n",
              "    .colab-df-container {\n",
              "      display:flex;\n",
              "      flex-wrap:wrap;\n",
              "      gap: 12px;\n",
              "    }\n",
              "\n",
              "    .colab-df-convert {\n",
              "      background-color: #E8F0FE;\n",
              "      border: none;\n",
              "      border-radius: 50%;\n",
              "      cursor: pointer;\n",
              "      display: none;\n",
              "      fill: #1967D2;\n",
              "      height: 32px;\n",
              "      padding: 0 0 0 0;\n",
              "      width: 32px;\n",
              "    }\n",
              "\n",
              "    .colab-df-convert:hover {\n",
              "      background-color: #E2EBFA;\n",
              "      box-shadow: 0px 1px 2px rgba(60, 64, 67, 0.3), 0px 1px 3px 1px rgba(60, 64, 67, 0.15);\n",
              "      fill: #174EA6;\n",
              "    }\n",
              "\n",
              "    [theme=dark] .colab-df-convert {\n",
              "      background-color: #3B4455;\n",
              "      fill: #D2E3FC;\n",
              "    }\n",
              "\n",
              "    [theme=dark] .colab-df-convert:hover {\n",
              "      background-color: #434B5C;\n",
              "      box-shadow: 0px 1px 3px 1px rgba(0, 0, 0, 0.15);\n",
              "      filter: drop-shadow(0px 1px 2px rgba(0, 0, 0, 0.3));\n",
              "      fill: #FFFFFF;\n",
              "    }\n",
              "  </style>\n",
              "\n",
              "      <script>\n",
              "        const buttonEl =\n",
              "          document.querySelector('#df-6425c106-f215-4359-9308-40b6e43e14ae button.colab-df-convert');\n",
              "        buttonEl.style.display =\n",
              "          google.colab.kernel.accessAllowed ? 'block' : 'none';\n",
              "\n",
              "        async function convertToInteractive(key) {\n",
              "          const element = document.querySelector('#df-6425c106-f215-4359-9308-40b6e43e14ae');\n",
              "          const dataTable =\n",
              "            await google.colab.kernel.invokeFunction('convertToInteractive',\n",
              "                                                     [key], {});\n",
              "          if (!dataTable) return;\n",
              "\n",
              "          const docLinkHtml = 'Like what you see? Visit the ' +\n",
              "            '<a target=\"_blank\" href=https://colab.research.google.com/notebooks/data_table.ipynb>data table notebook</a>'\n",
              "            + ' to learn more about interactive tables.';\n",
              "          element.innerHTML = '';\n",
              "          dataTable['output_type'] = 'display_data';\n",
              "          await google.colab.output.renderOutput(dataTable, element);\n",
              "          const docLink = document.createElement('div');\n",
              "          docLink.innerHTML = docLinkHtml;\n",
              "          element.appendChild(docLink);\n",
              "        }\n",
              "      </script>\n",
              "    </div>\n",
              "  </div>\n",
              "  "
            ]
          },
          "metadata": {},
          "execution_count": 34
        }
      ]
    },
    {
      "cell_type": "markdown",
      "metadata": {
        "id": "higIGY30jXCM"
      },
      "source": [
        "### Punto 1 - Análisis descriptivo\n",
        "\n",
        "Ejecute las celdas 1.1 y 1.2. A partir de los resultados realice un análisis descriptivo sobre las variables hour y workingday, escriba sus inferencias sobre los datos. Para complementar su análisis puede usar métricas como máximo, mínimo, percentiles entre otros."
      ]
    },
    {
      "cell_type": "code",
      "execution_count": 35,
      "metadata": {
        "colab": {
          "base_uri": "https://localhost:8080/"
        },
        "id": "rCmC9NCcjXCM",
        "outputId": "3a026ff8-763f-4f8a-8f91-90b78654bca0"
      },
      "outputs": [
        {
          "output_type": "execute_result",
          "data": {
            "text/plain": [
              "workingday\n",
              "0    188.506621\n",
              "1    193.011873\n",
              "Name: total, dtype: float64"
            ]
          },
          "metadata": {},
          "execution_count": 35
        }
      ],
      "source": [
        "# Celda 1.1\n",
        "bikes.groupby('workingday').total.mean()"
      ]
    },
    {
      "cell_type": "code",
      "execution_count": 36,
      "metadata": {
        "scrolled": true,
        "colab": {
          "base_uri": "https://localhost:8080/"
        },
        "id": "EvgiCzlRjXCN",
        "outputId": "a5168967-c12d-49bf-bc24-2205814e9313"
      },
      "outputs": [
        {
          "output_type": "execute_result",
          "data": {
            "text/plain": [
              "hour\n",
              "0      55.138462\n",
              "1      33.859031\n",
              "2      22.899554\n",
              "3      11.757506\n",
              "4       6.407240\n",
              "5      19.767699\n",
              "6      76.259341\n",
              "7     213.116484\n",
              "8     362.769231\n",
              "9     221.780220\n",
              "10    175.092308\n",
              "11    210.674725\n",
              "12    256.508772\n",
              "13    257.787281\n",
              "14    243.442982\n",
              "15    254.298246\n",
              "16    316.372807\n",
              "17    468.765351\n",
              "18    430.859649\n",
              "19    315.278509\n",
              "20    228.517544\n",
              "21    173.370614\n",
              "22    133.576754\n",
              "23     89.508772\n",
              "Name: total, dtype: float64"
            ]
          },
          "metadata": {},
          "execution_count": 36
        }
      ],
      "source": [
        "# Celda 1.2\n",
        "bikes.groupby('hour').total.mean()"
      ]
    },
    {
      "cell_type": "markdown",
      "source": [
        "En los dos casos anteriores, para la variable **workingday** que nos indica si el rental fue en un dia de trabajo siendo 1 cierto y 0 si fue un dia de holiday o findes de semana. Aqui podemos ver como la media del total de rentals es mayor, por 5 puntos lo que nos podria indicar que los fines de semana y festivos hay menos rentals totales que los dias entre semana.\n",
        "\n",
        "Ahora si vemos el caso de la variable **hour** podemos ver como esta nos muestra los rentals sin importar el dia solo a que hora fueron, en este caso vemos que de 5pm y 6pm son las horas en las que hay más rentals superando 400 rentals y las 3am y 4ma son las horas con menos rentals, mirandolo desde el promedio."
      ],
      "metadata": {
        "id": "DD0HcpEqjdFP"
      }
    },
    {
      "cell_type": "markdown",
      "metadata": {
        "id": "KWAmAp0bjXCN"
      },
      "source": [
        "### Punto 2 - Análisis de gráficos\n",
        "\n",
        "Primero ejecute la celda 2.1 y asegúrese de comprender el código y el resultado. Luego, en cada una de celdas 2.2 y 2.3 escriba un código que genere una gráfica de las rentas promedio por hora cuando la variable \"workingday\" es igual a 0 e igual a 1, respectivamente. Analice y escriba sus hallazgos."
      ]
    },
    {
      "cell_type": "code",
      "execution_count": 37,
      "metadata": {
        "colab": {
          "base_uri": "https://localhost:8080/",
          "height": 0
        },
        "id": "JJP2n0kOjXCN",
        "outputId": "983d899a-318a-471a-813b-2c8637a437cc"
      },
      "outputs": [
        {
          "output_type": "execute_result",
          "data": {
            "text/plain": [
              "<matplotlib.axes._subplots.AxesSubplot at 0x7f39297b7990>"
            ]
          },
          "metadata": {},
          "execution_count": 37
        },
        {
          "output_type": "display_data",
          "data": {
            "text/plain": [
              "<Figure size 432x288 with 1 Axes>"
            ],
            "image/png": "[encoded data removed]"
          },
          "metadata": {
            "needs_background": "light"
          }
        }
      ],
      "source": [
        "# Celda 2.1 - rentas promedio para cada valor de la variable \"hour\"\n",
        "bikes.groupby('hour').total.mean().plot()"
      ]
    },
    {
      "cell_type": "code",
      "execution_count": 38,
      "metadata": {
        "colab": {
          "base_uri": "https://localhost:8080/",
          "height": 0
        },
        "id": "_LUFZLwfjXCN",
        "outputId": "86820ec9-4402-4f55-ce46-b4c4139724e3"
      },
      "outputs": [
        {
          "output_type": "execute_result",
          "data": {
            "text/plain": [
              "<matplotlib.axes._subplots.AxesSubplot at 0x7f392772d310>"
            ]
          },
          "metadata": {},
          "execution_count": 38
        },
        {
          "output_type": "display_data",
          "data": {
            "text/plain": [
              "<Figure size 432x288 with 1 Axes>"
            ],
            "image/png": "[encoded data removed]"
          },
          "metadata": {
            "needs_background": "light"
          }
        }
      ],
      "source": [
        "# Celda 2.2 - \"workingday\"=0 escriba su código y hallazgos \n",
        "\n",
        "bikes[bikes[\"workingday\"]==0].groupby('hour').total.mean().plot.bar()"
      ]
    },
    {
      "cell_type": "markdown",
      "source": [
        "En la siguiente grafica realizada se observa el promedio de rentals totales por hora para los dias que son fines de semana y festivos.\n",
        "Se observa un incremento desde las 9am hasta las 12pm, donde luego alcanza el minimo del dia a las 11pm. En este caso la hora con mas rentals es la 1pm y la hora con menos rentals es las 4am. \n"
      ],
      "metadata": {
        "id": "nXeOX1Glp-wL"
      }
    },
    {
      "cell_type": "code",
      "execution_count": 39,
      "metadata": {
        "colab": {
          "base_uri": "https://localhost:8080/",
          "height": 0
        },
        "id": "KaSxQ77DjXCN",
        "outputId": "cdd16ba2-5ca6-4f42-ca81-6821677ffe37"
      },
      "outputs": [
        {
          "output_type": "execute_result",
          "data": {
            "text/plain": [
              "<matplotlib.axes._subplots.AxesSubplot at 0x7f3927685cd0>"
            ]
          },
          "metadata": {},
          "execution_count": 39
        },
        {
          "output_type": "display_data",
          "data": {
            "text/plain": [
              "<Figure size 432x288 with 1 Axes>"
            ],
            "image/png": "[encoded data removed]"
          },
          "metadata": {
            "needs_background": "light"
          }
        }
      ],
      "source": [
        "# Celda 2.3 - \"workingday\"=1 escriba su código y hallazgos \n",
        "bikes[bikes[\"workingday\"]==1].groupby('hour').total.mean().plot.bar()"
      ]
    },
    {
      "cell_type": "markdown",
      "source": [
        "En la siguiente grafica realizada observamos como varian los rentals para los dias de trabajo, no festivos no fines de semana. Tambien observamos como la hora mas alta es a las 5pm y luego sigue las de las 8am y 6pm. Adicionalmente las horas con menor rentals es 3am y 4am"
      ],
      "metadata": {
        "id": "fTz-kpuGpARx"
      }
    },
    {
      "cell_type": "markdown",
      "metadata": {
        "id": "OoS1ajY7jXCO"
      },
      "source": [
        "### Punto 3 - Regresión lineal\n",
        "En la celda 3 ajuste un modelo de regresión lineal a todo el conjunto de datos, utilizando \"total\" como variable de respuesta y \"hour\" y \"workingday\" como las únicas variables predictoras. Luego, imprima los coeficientes e interprételos. ¿Cuáles son las limitaciones de la regresión lineal en este caso?"
      ]
    },
    {
      "cell_type": "code",
      "source": [
        "from sklearn.model_selection import train_test_split\n",
        "X=bikes[['hour','workingday']]\n",
        "y=bikes['total']\n",
        "X_train, X_test, y_train, y_test = train_test_split(X, y, random_state=1)"
      ],
      "metadata": {
        "id": "PM61DxM26Bqp"
      },
      "execution_count": 101,
      "outputs": []
    },
    {
      "cell_type": "code",
      "execution_count": 102,
      "metadata": {
        "colab": {
          "base_uri": "https://localhost:8080/"
        },
        "id": "WB69Ev51jXCO",
        "outputId": "727b4ac4-a6c3-4ee6-8a06-b36d9e433138"
      },
      "outputs": [
        {
          "output_type": "stream",
          "name": "stdout",
          "text": [
            "Coeficientes [hour,workingday] [10.49362402  5.20940956]\n",
            "intercepto:  65.51115318266754\n"
          ]
        },
        {
          "output_type": "execute_result",
          "data": {
            "text/plain": [
              "0.1522036159214991"
            ]
          },
          "metadata": {},
          "execution_count": 102
        }
      ],
      "source": [
        "# Celda 3\n",
        "from sklearn.linear_model import LinearRegression\n",
        "LR = LinearRegression()\n",
        "LR.fit(X_train,y_train)\n",
        "print('Coeficientes [hour,workingday]',LR.coef_)\n",
        "print('intercepto: ',LR.intercept_)\n",
        "LR.score(X_test,y_test)"
      ]
    },
    {
      "cell_type": "code",
      "source": [
        "LR_preds = LR.predict(X_test)"
      ],
      "metadata": {
        "id": "q1qHpLs6mx_e"
      },
      "execution_count": 104,
      "outputs": []
    },
    {
      "cell_type": "markdown",
      "source": [
        "Los coeficientes de la regresion lineal indican que la variable **hour** afecta en 10 positivamente y la variable **workingday** en 5 postivamente. Al ver el score es del 15%, lo que indica que el modelo lineal no es una buena opcion. Esto se puede identifcar tambien porque en las graficas no vemos relaciones lineales entre las variables. Son mas complejas lo que hace que un modelo linela no se pueda ajustar, ya que por partes tiene otros comportramientos."
      ],
      "metadata": {
        "id": "sYpt8xmk6xD2"
      }
    },
    {
      "cell_type": "markdown",
      "metadata": {
        "id": "HuJ87hsBjXCO"
      },
      "source": [
        "### Punto 4 - Árbol de decisión manual\n",
        "En la celda 4 cree un árbol de decisiones para pronosticar la variable \"total\" iterando **manualmente** sobre las variables \"hour\" y  \"workingday\". El árbol debe tener al menos 6 nodos finales."
      ]
    },
    {
      "cell_type": "code",
      "execution_count": 105,
      "metadata": {
        "id": "pPmd_LeUjXCO"
      },
      "outputs": [],
      "source": [
        "# Celda 4\n",
        "max_depth = 10\n",
        "num_pct = 10\n",
        "max_features = None\n",
        "min_gain=0.001"
      ]
    },
    {
      "cell_type": "code",
      "source": [
        "def gini(y):\n",
        "    if y.shape[0] == 0:\n",
        "        return 0\n",
        "    else:\n",
        "        return 1 - (y.mean()**2 + (1 - y.mean())**2)"
      ],
      "metadata": {
        "id": "P2z0mWBVV07F"
      },
      "execution_count": 106,
      "outputs": []
    },
    {
      "cell_type": "code",
      "source": [
        "# Definición de la función gini_imputiry para calular la ganancia de una variable predictora j dado el punto de corte k\n",
        "def gini_impurity(X_col, y, split):\n",
        "    \n",
        "    filter_l = X_col < split\n",
        "    y_l = y.loc[filter_l]\n",
        "    y_r = y.loc[~filter_l]\n",
        "    \n",
        "    n_l = y_l.shape[0]\n",
        "    n_r = y_r.shape[0]\n",
        "    \n",
        "    gini_y = gini(y)\n",
        "    gini_l = gini(y_l)\n",
        "    gini_r = gini(y_r)\n",
        "    \n",
        "    gini_impurity_ = gini_y - (n_l / (n_l + n_r) * gini_l + n_r / (n_l + n_r) * gini_r)\n",
        "    \n",
        "    return gini_impurity_"
      ],
      "metadata": {
        "id": "tRcncH0xFhWF"
      },
      "execution_count": 107,
      "outputs": []
    },
    {
      "cell_type": "code",
      "source": [
        "def best_split(X, y, num_pct=10):\n",
        "    \n",
        "    features = range(X.shape[1])\n",
        "    \n",
        "    best_split = [0, 0, 0]  # j, split, gain\n",
        "    \n",
        "    # Para todas las varibles \n",
        "    for j in features:\n",
        "        \n",
        "        splits = np.percentile(X.iloc[:, j], np.arange(0, 100, 100.0 / (num_pct+1)).tolist())\n",
        "        splits = np.unique(splits)[1:]\n",
        "        \n",
        "        # Para cada partición\n",
        "        for split in splits:\n",
        "            gain = gini_impurity(X.iloc[:, j], y, split)\n",
        "                        \n",
        "            if gain > best_split[2]:\n",
        "                best_split = [j, split, gain]\n",
        "    \n",
        "    return best_split"
      ],
      "metadata": {
        "id": "sCirB2Jo7-xw"
      },
      "execution_count": 108,
      "outputs": []
    },
    {
      "cell_type": "code",
      "source": [
        "def tree_grow(X, y, level=0, min_gain=0.001, max_depth=None, num_pct=10):\n",
        "    \n",
        "    # Si solo es una observación\n",
        "    if X.shape[0] == 1:\n",
        "        tree = dict(y_pred=y.iloc[:1].values[0], y_prob=0.5, level=level, split=-1, n_samples=1, gain=0)\n",
        "        return tree\n",
        "    \n",
        "    # Calcular la mejor división\n",
        "    j, split, gain = best_split(X, y, num_pct)\n",
        "    \n",
        "    # Guardar el árbol y estimar la predicción\n",
        "    y_pred = y.mean()\n",
        "    y_prob = (y.sum() + 1.0) / (y.shape[0] + 2.0)  # Corrección Laplace \n",
        "    \n",
        "    tree = dict(y_pred=y_pred, y_prob=y_prob, level=level, split=-1, n_samples=X.shape[0], gain=gain)\n",
        "    # Revisar el criterio de parada \n",
        "    if gain < min_gain:\n",
        "        return tree\n",
        "    if max_depth is not None:\n",
        "        if level >= max_depth:\n",
        "            return tree   \n",
        "    \n",
        "    # Continuar creando la partición\n",
        "    filter_l = X.iloc[:, j] < split\n",
        "    X_l, y_l = X.loc[filter_l], y.loc[filter_l]\n",
        "    X_r, y_r = X.loc[~filter_l], y.loc[~filter_l]\n",
        "    tree['split'] = [j, split]\n",
        "\n",
        "    # Siguiente iteración para cada partición\n",
        "    \n",
        "    tree['sl'] = tree_grow(X_l, y_l, level + 1, min_gain=min_gain, max_depth=max_depth, num_pct=num_pct)\n",
        "    tree['sr'] = tree_grow(X_r, y_r, level + 1, min_gain=min_gain, max_depth=max_depth, num_pct=num_pct)\n",
        "    \n",
        "    return tree"
      ],
      "metadata": {
        "id": "_2KJ-oVg7-c8"
      },
      "execution_count": 109,
      "outputs": []
    },
    {
      "cell_type": "code",
      "source": [
        "tree = tree_grow(X_train, y_train, level=0, min_gain=0.001, max_depth=6, num_pct=10)\n",
        "tree"
      ],
      "metadata": {
        "colab": {
          "base_uri": "https://localhost:8080/"
        },
        "id": "o39rj72QWbfe",
        "outputId": "ae46ccd4-68e0-4e7e-a446-702e09e27352"
      },
      "execution_count": 110,
      "outputs": [
        {
          "output_type": "execute_result",
          "data": {
            "text/plain": [
              "{'gain': 18290.70717449716,\n",
              " 'level': 0,\n",
              " 'n_samples': 8164,\n",
              " 'sl': {'gain': 6770.815558239312,\n",
              "  'level': 1,\n",
              "  'n_samples': 2721,\n",
              "  'sl': {'gain': 644.5082672208487,\n",
              "   'level': 2,\n",
              "   'n_samples': 2385,\n",
              "   'sl': {'gain': 391.50907855075684,\n",
              "    'level': 3,\n",
              "    'n_samples': 2043,\n",
              "    'sl': {'gain': 1450.3228850939745,\n",
              "     'level': 4,\n",
              "     'n_samples': 681,\n",
              "     'sl': {'gain': 369.9613082843207,\n",
              "      'level': 5,\n",
              "      'n_samples': 211,\n",
              "      'sl': {'gain': 0,\n",
              "       'level': 6,\n",
              "       'n_samples': 100,\n",
              "       'split': -1,\n",
              "       'y_pred': 99.68,\n",
              "       'y_prob': 97.73529411764706},\n",
              "      'split': [0, 1.0],\n",
              "      'sr': {'gain': 0,\n",
              "       'level': 6,\n",
              "       'n_samples': 111,\n",
              "       'split': -1,\n",
              "       'y_pred': 72.44144144144144,\n",
              "       'y_prob': 71.16814159292035},\n",
              "      'y_pred': 85.35071090047393,\n",
              "      'y_prob': 84.55399061032864},\n",
              "     'split': [1, 1.0],\n",
              "     'sr': {'gain': 223.459443047366,\n",
              "      'level': 5,\n",
              "      'n_samples': 470,\n",
              "      'sl': {'gain': 0,\n",
              "       'level': 6,\n",
              "       'n_samples': 243,\n",
              "       'split': -1,\n",
              "       'y_pred': 37.333333333333336,\n",
              "       'y_prob': 37.03265306122449},\n",
              "      'split': [0, 1.0],\n",
              "      'sr': {'gain': 0,\n",
              "       'level': 6,\n",
              "       'n_samples': 227,\n",
              "       'split': -1,\n",
              "       'y_pred': 16.180616740088105,\n",
              "       'y_prob': 16.04366812227074},\n",
              "      'y_pred': 27.117021276595743,\n",
              "      'y_prob': 27.00423728813559},\n",
              "     'y_pred': 45.160058737151246,\n",
              "     'y_prob': 45.02928257686676},\n",
              "    'split': [0, 2.0],\n",
              "    'sr': {'gain': 79.17081982044033,\n",
              "     'level': 4,\n",
              "     'n_samples': 1362,\n",
              "     'sl': {'gain': 612.674953874367,\n",
              "      'level': 5,\n",
              "      'n_samples': 444,\n",
              "      'sl': {'gain': 0,\n",
              "       'level': 6,\n",
              "       'n_samples': 118,\n",
              "       'split': -1,\n",
              "       'y_pred': 53.61864406779661,\n",
              "       'y_prob': 52.733333333333334},\n",
              "      'split': [0, 3.0],\n",
              "      'sr': {'gain': 114.4384137605299,\n",
              "       'level': 6,\n",
              "       'n_samples': 326,\n",
              "       'split': -1,\n",
              "       'y_pred': 13.996932515337424,\n",
              "       'y_prob': 13.914634146341463},\n",
              "      'y_pred': 24.527027027027028,\n",
              "      'y_prob': 24.419282511210763},\n",
              "     'split': [1, 1.0],\n",
              "     'sr': {'gain': 133.53547133290851,\n",
              "      'level': 5,\n",
              "      'n_samples': 918,\n",
              "      'sl': {'gain': 3.589130871215005,\n",
              "       'level': 6,\n",
              "       'n_samples': 672,\n",
              "       'split': -1,\n",
              "       'y_pred': 6.160714285714286,\n",
              "       'y_prob': 6.143916913946588},\n",
              "      'split': [0, 5.0],\n",
              "      'sr': {'gain': 0,\n",
              "       'level': 6,\n",
              "       'n_samples': 246,\n",
              "       'split': -1,\n",
              "       'y_pred': 24.609756097560975,\n",
              "       'y_prob': 24.41532258064516},\n",
              "      'y_pred': 11.104575163398692,\n",
              "      'y_prob': 11.081521739130435},\n",
              "     'y_pred': 15.480176211453745,\n",
              "     'y_prob': 15.458211143695015},\n",
              "    'y_pred': 25.373470386686247,\n",
              "    'y_prob': 25.349144254278727},\n",
              "   'split': [0, 6.0],\n",
              "   'sr': {'gain': 2765.046213298905,\n",
              "    'level': 3,\n",
              "    'n_samples': 342,\n",
              "    'sl': {'gain': 0,\n",
              "     'level': 4,\n",
              "     'n_samples': 106,\n",
              "     'split': -1,\n",
              "     'y_pred': 21.11320754716981,\n",
              "     'y_prob': 20.73148148148148},\n",
              "    'split': [1, 1.0],\n",
              "    'sr': {'gain': 0,\n",
              "     'level': 4,\n",
              "     'n_samples': 236,\n",
              "     'split': -1,\n",
              "     'y_pred': 101.51271186440678,\n",
              "     'y_prob': 100.66386554621849},\n",
              "    'y_pred': 76.59356725146199,\n",
              "    'y_prob': 76.15116279069767},\n",
              "   'y_pred': 32.71823899371069,\n",
              "   'y_prob': 32.69124423963134},\n",
              "  'split': [0, 7.0],\n",
              "  'sr': {'gain': 23995.7949530005,\n",
              "   'level': 2,\n",
              "   'n_samples': 336,\n",
              "   'sl': {'gain': 0,\n",
              "    'level': 3,\n",
              "    'n_samples': 106,\n",
              "    'split': -1,\n",
              "    'y_pred': 48.22641509433962,\n",
              "    'y_prob': 47.342592592592595},\n",
              "   'split': [1, 1.0],\n",
              "   'sr': {'gain': 0,\n",
              "    'level': 3,\n",
              "    'n_samples': 230,\n",
              "    'split': -1,\n",
              "    'y_pred': 283.9347826086956,\n",
              "    'y_prob': 281.4913793103448},\n",
              "   'y_pred': 209.57440476190476,\n",
              "   'y_prob': 208.33727810650888},\n",
              "  'y_pred': 54.55714810731349,\n",
              "  'y_prob': 54.5174439955931},\n",
              " 'split': [0, 8.0],\n",
              " 'sr': {'gain': 7247.705142924562,\n",
              "  'level': 1,\n",
              "  'n_samples': 5443,\n",
              "  'sl': {'gain': 4989.187440000824,\n",
              "   'level': 2,\n",
              "   'n_samples': 4432,\n",
              "   'sl': {'gain': 3780.7528828686773,\n",
              "    'level': 3,\n",
              "    'n_samples': 2720,\n",
              "    'sl': {'gain': 57154.922663955775,\n",
              "     'level': 4,\n",
              "     'n_samples': 339,\n",
              "     'sl': {'gain': 0,\n",
              "      'level': 5,\n",
              "      'n_samples': 105,\n",
              "      'split': -1,\n",
              "      'y_pred': 109.41904761904762,\n",
              "      'y_prob': 107.38317757009345},\n",
              "     'split': [1, 1.0],\n",
              "     'sr': {'gain': 0,\n",
              "      'level': 5,\n",
              "      'n_samples': 234,\n",
              "      'split': -1,\n",
              "      'y_pred': 475.0213675213675,\n",
              "      'y_prob': 471.0},\n",
              "     'y_pred': 361.78171091445427,\n",
              "     'y_prob': 359.6627565982405},\n",
              "    'split': [0, 9.0],\n",
              "    'sr': {'gain': 8183.6240014600335,\n",
              "     'level': 4,\n",
              "     'n_samples': 2381,\n",
              "     'sl': {'gain': 7728.895960777649,\n",
              "      'level': 5,\n",
              "      'n_samples': 754,\n",
              "      'sl': {'gain': 2367.31973721087,\n",
              "       'level': 6,\n",
              "       'n_samples': 217,\n",
              "       'split': -1,\n",
              "       'y_pred': 226.32258064516128,\n",
              "       'y_prob': 224.26027397260273},\n",
              "      'split': [0, 11.0],\n",
              "      'sr': {'gain': 844.5238982074079,\n",
              "       'level': 6,\n",
              "       'n_samples': 537,\n",
              "       'split': -1,\n",
              "       'y_pred': 363.63128491620114,\n",
              "       'y_prob': 362.2838589981447},\n",
              "      'y_pred': 324.1140583554377,\n",
              "      'y_prob': 323.2579365079365},\n",
              "     'split': [1, 1.0],\n",
              "     'sr': {'gain': 1138.1544648663985,\n",
              "      'level': 5,\n",
              "      'n_samples': 1627,\n",
              "      'sl': {'gain': 0,\n",
              "       'level': 6,\n",
              "       'n_samples': 225,\n",
              "       'split': -1,\n",
              "       'y_pred': 246.1511111111111,\n",
              "       'y_prob': 243.98678414096915},\n",
              "      'split': [0, 10.0],\n",
              "      'sr': {'gain': 1052.075322747456,\n",
              "       'level': 6,\n",
              "       'n_samples': 1402,\n",
              "       'split': -1,\n",
              "       'y_pred': 177.04636233951499,\n",
              "       'y_prob': 176.7948717948718},\n",
              "      'y_pred': 186.60295021511985,\n",
              "      'y_prob': 186.3744628606507},\n",
              "     'y_pred': 230.14909701805965,\n",
              "     'y_prob': 229.95635753252202},\n",
              "    'y_pred': 246.5547794117647,\n",
              "    'y_prob': 246.373989713446},\n",
              "   'split': [0, 16.0],\n",
              "   'sr': {'gain': 8153.613928118779,\n",
              "    'level': 3,\n",
              "    'n_samples': 1712,\n",
              "    'sl': {'gain': 8056.072593155026,\n",
              "     'level': 4,\n",
              "     'n_samples': 1010,\n",
              "     'sl': {'gain': 3031.9460097374395,\n",
              "      'level': 5,\n",
              "      'n_samples': 334,\n",
              "      'sl': {'gain': 0,\n",
              "       'level': 6,\n",
              "       'n_samples': 108,\n",
              "       'split': -1,\n",
              "       'y_pred': 368.39814814814815,\n",
              "       'y_prob': 361.7090909090909},\n",
              "      'split': [1, 1.0],\n",
              "      'sr': {'gain': 0,\n",
              "       'level': 6,\n",
              "       'n_samples': 226,\n",
              "       'split': -1,\n",
              "       'y_pred': 285.1592920353982,\n",
              "       'y_prob': 282.6622807017544},\n",
              "      'y_pred': 312.0748502994012,\n",
              "      'y_prob': 310.2202380952381},\n",
              "     'split': [0, 17.0],\n",
              "     'sr': {'gain': 16800.26424892666,\n",
              "      'level': 5,\n",
              "      'n_samples': 676,\n",
              "      'sl': {'gain': 246.0826800542127,\n",
              "       'level': 6,\n",
              "       'n_samples': 206,\n",
              "       'split': -1,\n",
              "       'y_pred': 308.5388349514563,\n",
              "       'y_prob': 305.5769230769231},\n",
              "      'split': [1, 1.0],\n",
              "      'sr': {'gain': 434.01217786432244,\n",
              "       'level': 6,\n",
              "       'n_samples': 470,\n",
              "       'split': -1,\n",
              "       'y_pred': 507.65531914893614,\n",
              "       'y_prob': 505.5063559322034},\n",
              "      'y_pred': 446.9778106508876,\n",
              "      'y_prob': 445.6607669616519},\n",
              "     'y_pred': 402.36633663366337,\n",
              "     'y_prob': 401.57213438735175},\n",
              "    'split': [0, 19.0],\n",
              "    'sr': {'gain': 3769.896832141181,\n",
              "     'level': 4,\n",
              "     'n_samples': 702,\n",
              "     'sl': {'gain': 4636.4881334656675,\n",
              "      'level': 5,\n",
              "      'n_samples': 352,\n",
              "      'sl': {'gain': 0,\n",
              "       'level': 6,\n",
              "       'n_samples': 114,\n",
              "       'split': -1,\n",
              "       'y_pred': 246.2719298245614,\n",
              "       'y_prob': 242.0344827586207},\n",
              "      'split': [1, 1.0],\n",
              "      'sr': {'gain': 0,\n",
              "       'level': 6,\n",
              "       'n_samples': 238,\n",
              "       'split': -1,\n",
              "       'y_pred': 349.16386554621846,\n",
              "       'y_prob': 346.2583333333333},\n",
              "      'y_pred': 315.84090909090907,\n",
              "      'y_prob': 314.0593220338983},\n",
              "     'split': [0, 20.0],\n",
              "     'sr': {'gain': 2372.788666203065,\n",
              "      'level': 5,\n",
              "      'n_samples': 350,\n",
              "      'sl': {'gain': 0,\n",
              "       'level': 6,\n",
              "       'n_samples': 118,\n",
              "       'split': -1,\n",
              "       'y_pred': 180.71186440677965,\n",
              "       'y_prob': 177.70833333333334},\n",
              "      'split': [1, 1.0],\n",
              "      'sr': {'gain': 0,\n",
              "       'level': 6,\n",
              "       'n_samples': 232,\n",
              "       'split': -1,\n",
              "       'y_pred': 253.57327586206895,\n",
              "       'y_prob': 251.4102564102564},\n",
              "      'y_pred': 229.00857142857143,\n",
              "      'y_prob': 227.71022727272728},\n",
              "     'y_pred': 272.548433048433,\n",
              "     'y_prob': 271.7755681818182},\n",
              "    'y_pred': 349.1349299065421,\n",
              "    'y_prob': 348.72812135355895},\n",
              "   'y_pred': 286.17960288808666,\n",
              "   'y_prob': 286.0507442489851},\n",
              "  'split': [0, 21.0],\n",
              "  'sr': {'gain': 1883.6734005195249,\n",
              "   'level': 2,\n",
              "   'n_samples': 1011,\n",
              "   'sl': {'gain': 868.0879288981596,\n",
              "    'level': 3,\n",
              "    'n_samples': 673,\n",
              "    'sl': {'gain': 575.7008330215613,\n",
              "     'level': 4,\n",
              "     'n_samples': 324,\n",
              "     'sl': {'gain': 0,\n",
              "      'level': 5,\n",
              "      'n_samples': 99,\n",
              "      'split': -1,\n",
              "      'y_pred': 149.1818181818182,\n",
              "      'y_prob': 146.23762376237624},\n",
              "     'split': [1, 1.0],\n",
              "     'sr': {'gain': 0,\n",
              "      'level': 5,\n",
              "      'n_samples': 225,\n",
              "      'split': -1,\n",
              "      'y_pred': 186.01333333333332,\n",
              "      'y_prob': 184.37885462555067},\n",
              "     'y_pred': 174.75925925925927,\n",
              "     'y_prob': 173.69018404907976},\n",
              "    'split': [0, 22.0],\n",
              "    'sr': {'gain': 108.55748135903559,\n",
              "     'level': 4,\n",
              "     'n_samples': 349,\n",
              "     'sl': {'gain': 0,\n",
              "      'level': 5,\n",
              "      'n_samples': 113,\n",
              "      'split': -1,\n",
              "      'y_pred': 122.41592920353982,\n",
              "      'y_prob': 120.29565217391304},\n",
              "     'split': [1, 1.0],\n",
              "     'sr': {'gain': 0,\n",
              "      'level': 5,\n",
              "      'n_samples': 236,\n",
              "      'split': -1,\n",
              "      'y_pred': 138.16101694915255,\n",
              "      'y_prob': 137.00420168067228},\n",
              "     'y_pred': 133.06303724928367,\n",
              "     'y_prob': 132.30769230769232},\n",
              "    'y_pred': 153.1367013372957,\n",
              "    'y_prob': 152.68444444444444},\n",
              "   'split': [0, 23.0],\n",
              "   'sr': {'gain': 2.966955039068125,\n",
              "    'level': 3,\n",
              "    'n_samples': 338,\n",
              "    'sl': {'gain': 0,\n",
              "     'level': 4,\n",
              "     'n_samples': 110,\n",
              "     'split': -1,\n",
              "     'y_pred': 89.83636363636364,\n",
              "     'y_prob': 88.24107142857143},\n",
              "    'split': [1, 1.0],\n",
              "    'sr': {'gain': 0,\n",
              "     'level': 4,\n",
              "     'n_samples': 228,\n",
              "     'split': -1,\n",
              "     'y_pred': 87.23684210526316,\n",
              "     'y_prob': 86.48260869565217},\n",
              "    'y_pred': 88.0828402366864,\n",
              "    'y_prob': 87.56764705882352},\n",
              "   'y_pred': 131.38773491592482,\n",
              "   'y_prob': 131.12931885488646},\n",
              "  'y_pred': 257.42807275399593,\n",
              "  'y_prob': 257.33370064279154},\n",
              " 'y_pred': 189.81271435570798,\n",
              " 'y_prob': 189.76634827332845}"
            ]
          },
          "metadata": {},
          "execution_count": 110
        }
      ]
    },
    {
      "cell_type": "code",
      "source": [
        "def tree_predict(X, tree, proba=False):\n",
        "    \n",
        "    predicted = np.ones(X.shape[0])\n",
        "\n",
        "    # Revisar si es el nodo final\n",
        "    if tree['split'] == -1:\n",
        "        if not proba:\n",
        "            predicted = predicted * tree['y_pred']\n",
        "        else:\n",
        "            predicted = predicted * tree['y_prob']\n",
        "            \n",
        "    else:\n",
        "        \n",
        "        j, split = tree['split']\n",
        "        filter_l = (X.iloc[:, j] < split)\n",
        "        X_l = X.loc[filter_l]\n",
        "        X_r = X.loc[~filter_l]\n",
        "\n",
        "        if X_l.shape[0] == 0:  # Si el nodo izquierdo está vacio solo continua con el derecho \n",
        "            predicted[~filter_l] = tree_predict(X_r, tree['sr'], proba)\n",
        "        elif X_r.shape[0] == 0:  #  Si el nodo derecho está vacio solo continua con el izquierdo\n",
        "            predicted[filter_l] = tree_predict(X_l, tree['sl'], proba)\n",
        "        else:\n",
        "            predicted[filter_l] = tree_predict(X_l, tree['sl'], proba)\n",
        "            predicted[~filter_l] = tree_predict(X_r, tree['sr'], proba)\n",
        "\n",
        "    return predicted\n"
      ],
      "metadata": {
        "id": "Sr9N8BguWuiL"
      },
      "execution_count": 111,
      "outputs": []
    },
    {
      "cell_type": "code",
      "source": [
        "y_pred_tree=tree_predict(X_test, tree)\n",
        "y_pred_tree"
      ],
      "metadata": {
        "colab": {
          "base_uri": "https://localhost:8080/"
        },
        "id": "pM2U-8dgWxC3",
        "outputId": "c349b9fd-54b3-46d4-d3b0-041a3e33131f"
      },
      "execution_count": 93,
      "outputs": [
        {
          "output_type": "execute_result",
          "data": {
            "text/plain": [
              "array([363.63128492,  13.99693252, 308.53883495, ...,  24.6097561 ,\n",
              "        37.33333333,  53.61864407])"
            ]
          },
          "metadata": {},
          "execution_count": 93
        }
      ]
    },
    {
      "cell_type": "markdown",
      "metadata": {
        "id": "xijent4NjXCO"
      },
      "source": [
        "### Punto 5 - Árbol de decisión con librería\n",
        "En la celda 5 entrene un árbol de decisiones con la **librería sklearn**, usando las variables predictoras \"hour\" y \"workingday\" y calibre los parámetros que considere conveniente para obtener un mejor desempeño. Comente el desempeño del modelo con alguna métrica de desempeño de modelos de regresión y compare desempeño con el modelo del punto 3."
      ]
    },
    {
      "cell_type": "code",
      "execution_count": 123,
      "metadata": {
        "id": "BX_ASK24jXCO"
      },
      "outputs": [],
      "source": [
        "# Celda 5\n",
        "from sklearn.tree import DecisionTreeRegressor\n",
        "import sklearn.metrics  as metrics\n",
        "from sklearn.model_selection import cross_val_score\n",
        "\n",
        "regressor = DecisionTreeRegressor(random_state=0,max_depth=100)\n",
        "cross_val_score(regressor, X_train, y_train, cv=10,scoring='neg_mean_absolute_error')\n",
        "regressor.fit(X_train,y_train)\n",
        "preds_tree=regressor.predict(X_test)\n"
      ]
    },
    {
      "cell_type": "code",
      "source": [
        "import numpy as np\n",
        "print('score LR',metrics.mean_absolute_error(y_test,LR_preds))\n",
        "print('score tree',metrics.mean_absolute_error(y_test,preds_tree))\n",
        "MSE_LR = np.square(np.subtract(y_test,LR_preds)).mean()\n",
        "MSE_TREE = np.square(np.subtract(y_test,preds_tree)).mean()\n",
        "\n",
        "print('score LR',MSE_LR)\n",
        "print('score TREE',MSE_TREE)\n",
        "\n",
        "\n"
      ],
      "metadata": {
        "colab": {
          "base_uri": "https://localhost:8080/"
        },
        "id": "T-DW8rTGm-dp",
        "outputId": "eefe1338-937e-4b82-cd4b-93129a76d931"
      },
      "execution_count": 122,
      "outputs": [
        {
          "output_type": "stream",
          "name": "stdout",
          "text": [
            "score LR 127.89227283681853\n",
            "score tree 72.20640274316172\n",
            "score LR 28836.873764796834\n",
            "score TREE 11509.207199624278\n"
          ]
        }
      ]
    },
    {
      "cell_type": "markdown",
      "source": [
        "Se observa como el modelo de arbol da un menor error absoluto. y el mse es menor tambien, diciendonos que el mejor no es la regression lineal, esto tambien porque los datos no muestran relaciones lineales al graficarlos"
      ],
      "metadata": {
        "id": "crEYU66Xnvjy"
      }
    },
    {
      "cell_type": "markdown",
      "metadata": {
        "id": "5ejktvhrjXCP"
      },
      "source": [
        "## Parte B - Métodos de ensamblajes\n",
        "En esta parte del taller se usará el conjunto de datos de Popularidad de Noticias Online. El objetivo es predecir si la notica es popular o no, la populridad esta dada por la cantidad de reacciones en redes sociales. Para más detalles puede visitar el sigueinte enlace: [datos](https://archive.ics.uci.edu/ml/datasets/online+news+popularity)."
      ]
    },
    {
      "cell_type": "markdown",
      "metadata": {
        "id": "KDMuqS8SjXCP"
      },
      "source": [
        "### Datos popularidad de noticias"
      ]
    },
    {
      "cell_type": "code",
      "execution_count": 124,
      "metadata": {
        "colab": {
          "base_uri": "https://localhost:8080/",
          "height": 386
        },
        "id": "gGqpzygcjXCP",
        "outputId": "b2ad3563-650b-4860-a0cc-c535bd414aa5"
      },
      "outputs": [
        {
          "output_type": "execute_result",
          "data": {
            "text/plain": [
              "                                                 url  timedelta  \\\n",
              "0  http://mashable.com/2014/12/10/cia-torture-rep...       28.0   \n",
              "1  http://mashable.com/2013/10/18/bitlock-kicksta...      447.0   \n",
              "2  http://mashable.com/2013/07/24/google-glass-po...      533.0   \n",
              "3  http://mashable.com/2013/11/21/these-are-the-m...      413.0   \n",
              "4  http://mashable.com/2014/02/11/parking-ticket-...      331.0   \n",
              "\n",
              "   n_tokens_title  n_tokens_content  n_unique_tokens  n_non_stop_words  \\\n",
              "0             9.0             188.0         0.732620               1.0   \n",
              "1             7.0             297.0         0.653199               1.0   \n",
              "2            11.0             181.0         0.660377               1.0   \n",
              "3            12.0             781.0         0.497409               1.0   \n",
              "4             8.0             177.0         0.685714               1.0   \n",
              "\n",
              "   n_non_stop_unique_tokens  num_hrefs  num_self_hrefs  num_imgs  ...  \\\n",
              "0                  0.844262        5.0             1.0       1.0  ...   \n",
              "1                  0.815789        9.0             4.0       1.0  ...   \n",
              "2                  0.775701        4.0             3.0       1.0  ...   \n",
              "3                  0.677350       10.0             3.0       1.0  ...   \n",
              "4                  0.830357        3.0             2.0       1.0  ...   \n",
              "\n",
              "   min_positive_polarity  max_positive_polarity  avg_negative_polarity  \\\n",
              "0               0.200000                   0.80              -0.487500   \n",
              "1               0.160000                   0.50              -0.135340   \n",
              "2               0.136364                   1.00               0.000000   \n",
              "3               0.100000                   1.00              -0.195701   \n",
              "4               0.100000                   0.55              -0.175000   \n",
              "\n",
              "   min_negative_polarity  max_negative_polarity  title_subjectivity  \\\n",
              "0                  -0.60              -0.250000                 0.9   \n",
              "1                  -0.40              -0.050000                 0.1   \n",
              "2                   0.00               0.000000                 0.3   \n",
              "3                  -0.40              -0.071429                 0.0   \n",
              "4                  -0.25              -0.100000                 0.0   \n",
              "\n",
              "   title_sentiment_polarity  abs_title_subjectivity  \\\n",
              "0                       0.8                     0.4   \n",
              "1                      -0.1                     0.4   \n",
              "2                       1.0                     0.2   \n",
              "3                       0.0                     0.5   \n",
              "4                       0.0                     0.5   \n",
              "\n",
              "   abs_title_sentiment_polarity  Popular  \n",
              "0                           0.8        1  \n",
              "1                           0.1        0  \n",
              "2                           1.0        0  \n",
              "3                           0.0        0  \n",
              "4                           0.0        0  \n",
              "\n",
              "[5 rows x 61 columns]"
            ],
            "text/html": [
              "\n",
              "  <div id=\"df-7c6ed2c8-9591-46c2-8f89-2ed876f68f9e\">\n",
              "    <div class=\"colab-df-container\">\n",
              "      <div>\n",
              "<style scoped>\n",
              "    .dataframe tbody tr th:only-of-type {\n",
              "        vertical-align: middle;\n",
              "    }\n",
              "\n",
              "    .dataframe tbody tr th {\n",
              "        vertical-align: top;\n",
              "    }\n",
              "\n",
              "    .dataframe thead th {\n",
              "        text-align: right;\n",
              "    }\n",
              "</style>\n",
              "<table border=\"1\" class=\"dataframe\">\n",
              "  <thead>\n",
              "    <tr style=\"text-align: right;\">\n",
              "      <th></th>\n",
              "      <th>url</th>\n",
              "      <th>timedelta</th>\n",
              "      <th>n_tokens_title</th>\n",
              "      <th>n_tokens_content</th>\n",
              "      <th>n_unique_tokens</th>\n",
              "      <th>n_non_stop_words</th>\n",
              "      <th>n_non_stop_unique_tokens</th>\n",
              "      <th>num_hrefs</th>\n",
              "      <th>num_self_hrefs</th>\n",
              "      <th>num_imgs</th>\n",
              "      <th>...</th>\n",
              "      <th>min_positive_polarity</th>\n",
              "      <th>max_positive_polarity</th>\n",
              "      <th>avg_negative_polarity</th>\n",
              "      <th>min_negative_polarity</th>\n",
              "      <th>max_negative_polarity</th>\n",
              "      <th>title_subjectivity</th>\n",
              "      <th>title_sentiment_polarity</th>\n",
              "      <th>abs_title_subjectivity</th>\n",
              "      <th>abs_title_sentiment_polarity</th>\n",
              "      <th>Popular</th>\n",
              "    </tr>\n",
              "  </thead>\n",
              "  <tbody>\n",
              "    <tr>\n",
              "      <th>0</th>\n",
              "      <td>http://mashable.com/2014/12/10/cia-torture-rep...</td>\n",
              "      <td>28.0</td>\n",
              "      <td>9.0</td>\n",
              "      <td>188.0</td>\n",
              "      <td>0.732620</td>\n",
              "      <td>1.0</td>\n",
              "      <td>0.844262</td>\n",
              "      <td>5.0</td>\n",
              "      <td>1.0</td>\n",
              "      <td>1.0</td>\n",
              "      <td>...</td>\n",
              "      <td>0.200000</td>\n",
              "      <td>0.80</td>\n",
              "      <td>-0.487500</td>\n",
              "      <td>-0.60</td>\n",
              "      <td>-0.250000</td>\n",
              "      <td>0.9</td>\n",
              "      <td>0.8</td>\n",
              "      <td>0.4</td>\n",
              "      <td>0.8</td>\n",
              "      <td>1</td>\n",
              "    </tr>\n",
              "    <tr>\n",
              "      <th>1</th>\n",
              "      <td>http://mashable.com/2013/10/18/bitlock-kicksta...</td>\n",
              "      <td>447.0</td>\n",
              "      <td>7.0</td>\n",
              "      <td>297.0</td>\n",
              "      <td>0.653199</td>\n",
              "      <td>1.0</td>\n",
              "      <td>0.815789</td>\n",
              "      <td>9.0</td>\n",
              "      <td>4.0</td>\n",
              "      <td>1.0</td>\n",
              "      <td>...</td>\n",
              "      <td>0.160000</td>\n",
              "      <td>0.50</td>\n",
              "      <td>-0.135340</td>\n",
              "      <td>-0.40</td>\n",
              "      <td>-0.050000</td>\n",
              "      <td>0.1</td>\n",
              "      <td>-0.1</td>\n",
              "      <td>0.4</td>\n",
              "      <td>0.1</td>\n",
              "      <td>0</td>\n",
              "    </tr>\n",
              "    <tr>\n",
              "      <th>2</th>\n",
              "      <td>http://mashable.com/2013/07/24/google-glass-po...</td>\n",
              "      <td>533.0</td>\n",
              "      <td>11.0</td>\n",
              "      <td>181.0</td>\n",
              "      <td>0.660377</td>\n",
              "      <td>1.0</td>\n",
              "      <td>0.775701</td>\n",
              "      <td>4.0</td>\n",
              "      <td>3.0</td>\n",
              "      <td>1.0</td>\n",
              "      <td>...</td>\n",
              "      <td>0.136364</td>\n",
              "      <td>1.00</td>\n",
              "      <td>0.000000</td>\n",
              "      <td>0.00</td>\n",
              "      <td>0.000000</td>\n",
              "      <td>0.3</td>\n",
              "      <td>1.0</td>\n",
              "      <td>0.2</td>\n",
              "      <td>1.0</td>\n",
              "      <td>0</td>\n",
              "    </tr>\n",
              "    <tr>\n",
              "      <th>3</th>\n",
              "      <td>http://mashable.com/2013/11/21/these-are-the-m...</td>\n",
              "      <td>413.0</td>\n",
              "      <td>12.0</td>\n",
              "      <td>781.0</td>\n",
              "      <td>0.497409</td>\n",
              "      <td>1.0</td>\n",
              "      <td>0.677350</td>\n",
              "      <td>10.0</td>\n",
              "      <td>3.0</td>\n",
              "      <td>1.0</td>\n",
              "      <td>...</td>\n",
              "      <td>0.100000</td>\n",
              "      <td>1.00</td>\n",
              "      <td>-0.195701</td>\n",
              "      <td>-0.40</td>\n",
              "      <td>-0.071429</td>\n",
              "      <td>0.0</td>\n",
              "      <td>0.0</td>\n",
              "      <td>0.5</td>\n",
              "      <td>0.0</td>\n",
              "      <td>0</td>\n",
              "    </tr>\n",
              "    <tr>\n",
              "      <th>4</th>\n",
              "      <td>http://mashable.com/2014/02/11/parking-ticket-...</td>\n",
              "      <td>331.0</td>\n",
              "      <td>8.0</td>\n",
              "      <td>177.0</td>\n",
              "      <td>0.685714</td>\n",
              "      <td>1.0</td>\n",
              "      <td>0.830357</td>\n",
              "      <td>3.0</td>\n",
              "      <td>2.0</td>\n",
              "      <td>1.0</td>\n",
              "      <td>...</td>\n",
              "      <td>0.100000</td>\n",
              "      <td>0.55</td>\n",
              "      <td>-0.175000</td>\n",
              "      <td>-0.25</td>\n",
              "      <td>-0.100000</td>\n",
              "      <td>0.0</td>\n",
              "      <td>0.0</td>\n",
              "      <td>0.5</td>\n",
              "      <td>0.0</td>\n",
              "      <td>0</td>\n",
              "    </tr>\n",
              "  </tbody>\n",
              "</table>\n",
              "<p>5 rows × 61 columns</p>\n",
              "</div>\n",
              "      <button class=\"colab-df-convert\" onclick=\"convertToInteractive('df-7c6ed2c8-9591-46c2-8f89-2ed876f68f9e')\"\n",
              "              title=\"Convert this dataframe to an interactive table.\"\n",
              "              style=\"display:none;\">\n",
              "        \n",
              "  <svg xmlns=\"http://www.w3.org/2000/svg\" height=\"24px\"viewBox=\"0 0 24 24\"\n",
              "       width=\"24px\">\n",
              "    <path d=\"M0 0h24v24H0V0z\" fill=\"none\"/>\n",
              "    <path d=\"M18.56 5.44l.94 2.06.94-2.06 2.06-.94-2.06-.94-.94-2.06-.94 2.06-2.06.94zm-11 1L8.5 8.5l.94-2.06 2.06-.94-2.06-.94L8.5 2.5l-.94 2.06-2.06.94zm10 10l.94 2.06.94-2.06 2.06-.94-2.06-.94-.94-2.06-.94 2.06-2.06.94z\"/><path d=\"M17.41 7.96l-1.37-1.37c-.4-.4-.92-.59-1.43-.59-.52 0-1.04.2-1.43.59L10.3 9.45l-7.72 7.72c-.78.78-.78 2.05 0 2.83L4 21.41c.39.39.9.59 1.41.59.51 0 1.02-.2 1.41-.59l7.78-7.78 2.81-2.81c.8-.78.8-2.07 0-2.86zM5.41 20L4 18.59l7.72-7.72 1.47 1.35L5.41 20z\"/>\n",
              "  </svg>\n",
              "      </button>\n",
              "      \n",
              "  <style>\n",
              "    .colab-df-container {\n",
              "      display:flex;\n",
              "      flex-wrap:wrap;\n",
              "      gap: 12px;\n",
              "    }\n",
              "\n",
              "    .colab-df-convert {\n",
              "      background-color: #E8F0FE;\n",
              "      border: none;\n",
              "      border-radius: 50%;\n",
              "      cursor: pointer;\n",
              "      display: none;\n",
              "      fill: #1967D2;\n",
              "      height: 32px;\n",
              "      padding: 0 0 0 0;\n",
              "      width: 32px;\n",
              "    }\n",
              "\n",
              "    .colab-df-convert:hover {\n",
              "      background-color: #E2EBFA;\n",
              "      box-shadow: 0px 1px 2px rgba(60, 64, 67, 0.3), 0px 1px 3px 1px rgba(60, 64, 67, 0.15);\n",
              "      fill: #174EA6;\n",
              "    }\n",
              "\n",
              "    [theme=dark] .colab-df-convert {\n",
              "      background-color: #3B4455;\n",
              "      fill: #D2E3FC;\n",
              "    }\n",
              "\n",
              "    [theme=dark] .colab-df-convert:hover {\n",
              "      background-color: #434B5C;\n",
              "      box-shadow: 0px 1px 3px 1px rgba(0, 0, 0, 0.15);\n",
              "      filter: drop-shadow(0px 1px 2px rgba(0, 0, 0, 0.3));\n",
              "      fill: #FFFFFF;\n",
              "    }\n",
              "  </style>\n",
              "\n",
              "      <script>\n",
              "        const buttonEl =\n",
              "          document.querySelector('#df-7c6ed2c8-9591-46c2-8f89-2ed876f68f9e button.colab-df-convert');\n",
              "        buttonEl.style.display =\n",
              "          google.colab.kernel.accessAllowed ? 'block' : 'none';\n",
              "\n",
              "        async function convertToInteractive(key) {\n",
              "          const element = document.querySelector('#df-7c6ed2c8-9591-46c2-8f89-2ed876f68f9e');\n",
              "          const dataTable =\n",
              "            await google.colab.kernel.invokeFunction('convertToInteractive',\n",
              "                                                     [key], {});\n",
              "          if (!dataTable) return;\n",
              "\n",
              "          const docLinkHtml = 'Like what you see? Visit the ' +\n",
              "            '<a target=\"_blank\" href=https://colab.research.google.com/notebooks/data_table.ipynb>data table notebook</a>'\n",
              "            + ' to learn more about interactive tables.';\n",
              "          element.innerHTML = '';\n",
              "          dataTable['output_type'] = 'display_data';\n",
              "          await google.colab.output.renderOutput(dataTable, element);\n",
              "          const docLink = document.createElement('div');\n",
              "          docLink.innerHTML = docLinkHtml;\n",
              "          element.appendChild(docLink);\n",
              "        }\n",
              "      </script>\n",
              "    </div>\n",
              "  </div>\n",
              "  "
            ]
          },
          "metadata": {},
          "execution_count": 124
        }
      ],
      "source": [
        "# Lectura de la información de archivo .csv\n",
        "df = pd.read_csv('https://raw.githubusercontent.com/albahnsen/MIAD_ML_and_NLP/main/datasets/mashable.csv', index_col=0)\n",
        "df.head()"
      ]
    },
    {
      "cell_type": "code",
      "execution_count": 141,
      "metadata": {
        "colab": {
          "base_uri": "https://localhost:8080/"
        },
        "id": "cHuNBomejXCP",
        "outputId": "cf3a6d9e-a62c-43de-de24-fdf94d30a0ff"
      },
      "outputs": [
        {
          "output_type": "execute_result",
          "data": {
            "text/plain": [
              "0.5"
            ]
          },
          "metadata": {},
          "execution_count": 141
        }
      ],
      "source": [
        "# Definición variable de interes y variables predictoras\n",
        "X = df.drop(['url', 'Popular'], axis=1)\n",
        "y = df['Popular']\n",
        "y.mean()"
      ]
    },
    {
      "cell_type": "code",
      "source": [
        "df[['url','Popular']].groupby(['Popular']).count().plot.bar()"
      ],
      "metadata": {
        "id": "RhHzketJpqVT",
        "outputId": "792da4aa-ccd7-494e-8bd3-2939d400b9ed",
        "colab": {
          "base_uri": "https://localhost:8080/",
          "height": 294
        }
      },
      "execution_count": 142,
      "outputs": [
        {
          "output_type": "execute_result",
          "data": {
            "text/plain": [
              "<matplotlib.axes._subplots.AxesSubplot at 0x7f3925656510>"
            ]
          },
          "metadata": {},
          "execution_count": 142
        },
        {
          "output_type": "display_data",
          "data": {
            "text/plain": [
              "<Figure size 432x288 with 1 Axes>"
            ],
            "image/png": "[encoded data removed]"
          },
          "metadata": {
            "needs_background": "light"
          }
        }
      ]
    },
    {
      "cell_type": "markdown",
      "source": [
        ""
      ],
      "metadata": {
        "id": "svKg3FITpqMu"
      }
    },
    {
      "cell_type": "code",
      "execution_count": 133,
      "metadata": {
        "id": "cGw0DMCQjXCP"
      },
      "outputs": [],
      "source": [
        "# División de la muestra en set de entrenamiento y prueba\n",
        "from sklearn.model_selection import train_test_split\n",
        "X_train, X_test, y_train, y_test = train_test_split(X, y, random_state=1)"
      ]
    },
    {
      "cell_type": "markdown",
      "metadata": {
        "id": "Uz8qJ-aPjXCP"
      },
      "source": [
        "### Punto 6 - Árbol de decisión y regresión logística\n",
        "En la celda 6 construya un árbol de decisión y una regresión logística. Para el árbol calibre al menos un parámetro y evalúe el desempeño de cada modelo usando las métricas de Accuracy y F1-Score."
      ]
    },
    {
      "cell_type": "code",
      "execution_count": 146,
      "metadata": {
        "colab": {
          "base_uri": "https://localhost:8080/"
        },
        "id": "3SmkATKHjXCP",
        "outputId": "e06851d1-6c94-4160-acd2-be7d89aeefcb"
      },
      "outputs": [
        {
          "output_type": "stream",
          "name": "stdout",
          "text": [
            "LR\n",
            "              precision    recall  f1-score   support\n",
            "\n",
            "           0       0.61      0.63      0.62       744\n",
            "           1       0.62      0.60      0.61       756\n",
            "\n",
            "    accuracy                           0.61      1500\n",
            "   macro avg       0.61      0.61      0.61      1500\n",
            "weighted avg       0.61      0.61      0.61      1500\n",
            "\n",
            "tree\n",
            "              precision    recall  f1-score   support\n",
            "\n",
            "           0       0.53      0.55      0.54       744\n",
            "           1       0.54      0.52      0.53       756\n",
            "\n",
            "    accuracy                           0.53      1500\n",
            "   macro avg       0.53      0.53      0.53      1500\n",
            "weighted avg       0.53      0.53      0.53      1500\n",
            "\n"
          ]
        }
      ],
      "source": [
        "# Celda 6\n",
        "from sklearn.linear_model import LogisticRegression\n",
        "from sklearn.tree import DecisionTreeClassifier\n",
        "from sklearn.metrics import classification_report \n",
        "import matplotlib.pyplot as plt \n",
        "LR_B = LogisticRegression()\n",
        "LR_B.fit(X_train,y_train)\n",
        "LR_preds = LR_B.predict(X_test)\n",
        "print('LR')\n",
        "print(classification_report(y_test,LR_preds))\n",
        "DTC_B = DecisionTreeClassifier()\n",
        "DTC_B.fit(X_train,y_train)\n",
        "DTC_preds = DTC_B.predict(X_test)\n",
        "print('tree')\n",
        "print(classification_report(y_test,DTC_preds))\n",
        "\n",
        "\n"
      ]
    },
    {
      "cell_type": "markdown",
      "source": [
        "Aqui observamos los resultados de los modelos, el arbol tiene menor f1 score y menor accuracy, vs la regression logistica que tiene mayor metrica esto puede ser por la cantidad de parametros disponibles"
      ],
      "metadata": {
        "id": "m2vtFTFmv5KP"
      }
    },
    {
      "cell_type": "markdown",
      "metadata": {
        "id": "-GT_5R4njXCP"
      },
      "source": [
        "### Punto 7 - Votación Mayoritaria\n",
        "En la celda 7 elabore un esamble con la metodología de **Votación mayoritaria** compuesto por 300 muestras bagged para cada uno de los siguientes escenarios:\n",
        "\n",
        "-100 árboles de decisión donde max_depth = None\\\n",
        "-100 árboles de decisión donde max_depth = 2\\\n",
        "-100 regresiones logísticas\n",
        "\n",
        "Evalúe los modelos utilizando las métricas de Accuracy y F1-Score."
      ]
    },
    {
      "cell_type": "code",
      "execution_count": null,
      "metadata": {
        "id": "i7T_9ErPjXCP"
      },
      "outputs": [],
      "source": [
        "# Celda 7\n"
      ]
    },
    {
      "cell_type": "markdown",
      "metadata": {
        "id": "1GdJIdycjXCP"
      },
      "source": [
        "### Punto 8 - Votación Ponderada\n",
        "En la celda 8 elabore un ensamble con la metodología de **Votación ponderada** compuesto por 300 muestras bagged para los mismos tres escenarios del punto 7. Evalúe los modelos utilizando las métricas de Accuracy y F1-Score"
      ]
    },
    {
      "cell_type": "code",
      "execution_count": null,
      "metadata": {
        "id": "Ats4P2YfjXCP"
      },
      "outputs": [],
      "source": [
        "# Celda 8\n"
      ]
    },
    {
      "cell_type": "markdown",
      "metadata": {
        "id": "lKyC-DNMjXCP"
      },
      "source": [
        "### Punto 9 - Comparación y análisis de resultados\n",
        "En la celda 9 comente sobre los resultados obtenidos con las metodologías usadas en los puntos 7 y 8, compare los resultados y enuncie posibles ventajas o desventajas de cada una de ellas."
      ]
    },
    {
      "cell_type": "code",
      "execution_count": null,
      "metadata": {
        "id": "i18DNlbhjXCP"
      },
      "outputs": [],
      "source": [
        "# Celda 9"
      ]
    }
  ],
  "metadata": {
    "kernelspec": {
      "display_name": "Python 3",
      "language": "python",
      "name": "python3"
    },
    "language_info": {
      "codemirror_mode": {
        "name": "ipython",
        "version": 3
      },
      "file_extension": ".py",
      "mimetype": "text/x-python",
      "name": "python",
      "nbconvert_exporter": "python",
      "pygments_lexer": "ipython3",
      "version": "3.7.3"
    },
    "colab": {
      "name": "S1TC1_arboles_ensamblajes.ipynb",
      "provenance": []
    }
  },
  "nbformat": 4,
  "nbformat_minor": 0
}
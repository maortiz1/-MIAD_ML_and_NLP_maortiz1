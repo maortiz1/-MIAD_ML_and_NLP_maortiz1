{
  "nbformat": 4,
  "nbformat_minor": 0,
  "metadata": {
    "colab": {
      "name": "competencia_ml_nlp.ipynb",
      "provenance": [],
      "authorship_tag": "ABX9TyMQRKx7iBMuK+4tB1yCf/Wo",
      "include_colab_link": true
    },
    "kernelspec": {
      "name": "python3",
      "display_name": "Python 3"
    },
    "language_info": {
      "name": "python"
    }
  },
  "cells": [
    {
      "cell_type": "markdown",
      "metadata": {
        "id": "view-in-github",
        "colab_type": "text"
      },
      "source": [
        "<a href=\"https://colab.research.google.com/github/maortiz1/-MIAD_ML_and_NLP_maortiz1/blob/main/-MIAD_ML_and_NLP_maortiz1/competencia_car_prices/competencia_ml_nlp.ipynb\" target=\"_parent\"><img src=\"https://colab.research.google.com/assets/colab-badge.svg\" alt=\"Open In Colab\"/></a>"
      ]
    },
    {
      "cell_type": "code",
      "execution_count": null,
      "metadata": {
        "id": "NDJYbekRXIgs"
      },
      "outputs": [],
      "source": [
        ""
      ]
    }
  ]
}